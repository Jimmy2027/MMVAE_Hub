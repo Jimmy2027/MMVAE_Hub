{
 "cells": [
  {
   "cell_type": "code",
   "execution_count": 2,
   "metadata": {
    "collapsed": true
   },
   "outputs": [],
   "source": [
    "from dataclasses import dataclass\n",
    "from pathlib import Path\n",
    "\n",
    "import pandas as pd\n",
    "\n",
    "from mmvae_hub.base.experiment_vis.utils import *\n",
    "from mmvae_hub.base.utils.MongoDB import MongoDatabase\n",
    "from mmvae_hub.base.utils.flags_utils import get_config_path\n",
    "from mmvae_hub.base.utils.utils import dict2pyobject, json2dict"
   ]
  },
  {
   "cell_type": "code",
   "execution_count": 3,
   "outputs": [],
   "source": [
    "exp_db = MongoDatabase(training=False)\n",
    "experiments = exp_db.connect()"
   ],
   "metadata": {
    "collapsed": false,
    "pycharm": {
     "name": "#%%\n"
    }
   }
  },
  {
   "cell_type": "code",
   "execution_count": 4,
   "outputs": [
    {
     "name": "stdout",
     "output_type": "stream",
     "text": [
      "There are currently  17 experiments in the database.\n"
     ]
    }
   ],
   "source": [
    "print('There are currently ', experiments.count_documents({}), 'experiments in the database.')"
   ],
   "metadata": {
    "collapsed": false,
    "pycharm": {
     "name": "#%%\n"
    }
   }
  },
  {
   "cell_type": "code",
   "execution_count": 5,
   "outputs": [],
   "source": [
    "df = pd.DataFrame()\n",
    "# Find all experiments with method joint_elbo\n",
    "# for exp in experiments.find({'flags.method':'joint_elbo'}):\n",
    "for exp in experiments.find({}):\n",
    "    if exp['epoch_results'] is not None and exp['epoch_results']:\n",
    "        last_epoch = str(max([int(epoch) for epoch in exp['epoch_results']]))\n",
    "        last_epoch_results = exp['epoch_results'][last_epoch]['test_results']\n",
    "\n",
    "        if exp['flags']['method'] == 'planar_mixture':\n",
    "            exp['flags']['method'] = f\"{exp['flags']['method']}_{exp['flags']['num_flows']}\"\n",
    "\n",
    "        results_dict = {**exp['flags'], 'end_epoch': last_epoch, '_id': exp['_id']}\n",
    "\n",
    "        scores = []\n",
    "        scores_lr = []\n",
    "        scores_gen = []\n",
    "        scores_prd = []\n",
    "\n",
    "        if last_epoch_results['lr_eval'] and last_epoch_results['gen_eval']:\n",
    "\n",
    "            # get lr_eval results\n",
    "            for key, val in last_epoch_results['lr_eval'].items():\n",
    "                results_dict[f'lr_eval_{key}'] = val['accuracy']\n",
    "                scores.append(val['accuracy'])\n",
    "                scores_lr.append(val['accuracy'])\n",
    "\n",
    "            # get gen_eval results\n",
    "            for key, val in last_epoch_results['gen_eval'].items():\n",
    "                key = key.replace('digit_', '')\n",
    "                results_dict[f'gen_eval_{key}'] = val\n",
    "                scores.append(val)\n",
    "                scores_gen.append(val)\n",
    "\n",
    "            if 'prd_scores' in last_epoch_results and last_epoch_results['prd_scores']:\n",
    "                for key, val in last_epoch_results['prd_scores'].items():\n",
    "                    results_dict[f'prd_score_{key}'] = val\n",
    "                    scores_prd.append(val)\n",
    "\n",
    "            results_dict['score'] = sum(scores)\n",
    "            results_dict['score_lr'] = sum(scores_lr)\n",
    "            results_dict['score_gen'] = sum(scores_gen)\n",
    "            results_dict['score_prd'] = sum(scores_prd)\n",
    "            df = df.append(results_dict, ignore_index=True)"
   ],
   "metadata": {
    "collapsed": false,
    "pycharm": {
     "name": "#%%\n"
    }
   }
  },
  {
   "cell_type": "code",
   "execution_count": 6,
   "outputs": [
    {
     "data": {
      "text/plain": "        score            method end_epoch  class_dim  beta  \\\n0   15.368883        joint_elbo       299       64.0   2.5   \n4   11.739267        joint_elbo       299       64.0   0.5   \n13  11.132117  planar_mixture_5       299      512.0   2.5   \n5   11.092400               moe       299      128.0   0.5   \n2    9.968633        joint_elbo       299       32.0   0.5   \n3    7.705983               moe       299       64.0   0.5   \n1    6.143800               moe       299       32.0   0.5   \n8    0.771817               moe       299      512.0   2.5   \n11   0.749717               moe       299      512.0   2.5   \n14   0.736833  planar_mixture_0       299      512.0   2.5   \n12   0.627350  planar_mixture_5       299      512.0   2.5   \n10   0.218633  planar_mixture_0       299      128.0   2.5   \n7    0.218400  planar_mixture_0       299      512.0   2.5   \n9    0.208383  planar_mixture_0       299      512.0   2.5   \n6    0.208217  planar_mixture_0       299      512.0   2.5   \n\n                                                  _id  score_lr  score_gen  \\\n0     polymnist_joint_elbo_2021_05_04_09_21_34_487039  5.252283  10.116600   \n4     polymnist_joint_elbo_2021_05_08_05_21_05_683057  3.932350   7.806917   \n13  polymnist_planar_mixture_2021_05_12_11_38_58_1...  1.349800   9.782317   \n5            polymnist_moe_2021_05_09_01_46_10_858142  3.572933   7.519467   \n2     polymnist_joint_elbo_2021_05_06_12_59_58_785343  3.239317   6.729317   \n3            polymnist_moe_2021_05_07_09_09_37_528857  2.489417   5.216567   \n1            polymnist_moe_2021_05_05_17_04_47_279351  1.717367   4.426433   \n8            polymnist_moe_2021_05_10_21_53_22_903726  0.185717   0.586100   \n11           polymnist_moe_2021_05_11_16_37_17_515090  0.168633   0.581083   \n14  polymnist_planar_mixture_2021_05_12_20_40_24_4...  0.113950   0.622883   \n12  polymnist_planar_mixture_2021_05_12_08_57_26_0...  0.103050   0.524300   \n10  polymnist_planar_mixture_2021_05_11_08_30_22_4...  0.112367   0.106267   \n7   polymnist_planar_mixture_2021_05_10_16_39_32_1...  0.112367   0.106033   \n9   polymnist_planar_mixture_2021_05_11_07_27_00_4...  0.102183   0.106200   \n6   polymnist_planar_mixture_2021_05_10_10_39_33_1...  0.102183   0.106033   \n\n    score_prd  num_mods  \n0    0.000000       3.0  \n4    0.611546       3.0  \n13   1.495992       3.0  \n5    0.332367       3.0  \n2    0.312330       3.0  \n3    0.192170       3.0  \n1    0.180041       3.0  \n8    0.229577       1.0  \n11   0.237771       1.0  \n14   0.289370       1.0  \n12   0.110393       1.0  \n10   0.000000       1.0  \n7    0.000032       1.0  \n9    0.000000       1.0  \n6    0.000000       1.0  ",
      "text/html": "<div>\n<style scoped>\n    .dataframe tbody tr th:only-of-type {\n        vertical-align: middle;\n    }\n\n    .dataframe tbody tr th {\n        vertical-align: top;\n    }\n\n    .dataframe thead th {\n        text-align: right;\n    }\n</style>\n<table border=\"1\" class=\"dataframe\">\n  <thead>\n    <tr style=\"text-align: right;\">\n      <th></th>\n      <th>score</th>\n      <th>method</th>\n      <th>end_epoch</th>\n      <th>class_dim</th>\n      <th>beta</th>\n      <th>_id</th>\n      <th>score_lr</th>\n      <th>score_gen</th>\n      <th>score_prd</th>\n      <th>num_mods</th>\n    </tr>\n  </thead>\n  <tbody>\n    <tr>\n      <th>0</th>\n      <td>15.368883</td>\n      <td>joint_elbo</td>\n      <td>299</td>\n      <td>64.0</td>\n      <td>2.5</td>\n      <td>polymnist_joint_elbo_2021_05_04_09_21_34_487039</td>\n      <td>5.252283</td>\n      <td>10.116600</td>\n      <td>0.000000</td>\n      <td>3.0</td>\n    </tr>\n    <tr>\n      <th>4</th>\n      <td>11.739267</td>\n      <td>joint_elbo</td>\n      <td>299</td>\n      <td>64.0</td>\n      <td>0.5</td>\n      <td>polymnist_joint_elbo_2021_05_08_05_21_05_683057</td>\n      <td>3.932350</td>\n      <td>7.806917</td>\n      <td>0.611546</td>\n      <td>3.0</td>\n    </tr>\n    <tr>\n      <th>13</th>\n      <td>11.132117</td>\n      <td>planar_mixture_5</td>\n      <td>299</td>\n      <td>512.0</td>\n      <td>2.5</td>\n      <td>polymnist_planar_mixture_2021_05_12_11_38_58_1...</td>\n      <td>1.349800</td>\n      <td>9.782317</td>\n      <td>1.495992</td>\n      <td>3.0</td>\n    </tr>\n    <tr>\n      <th>5</th>\n      <td>11.092400</td>\n      <td>moe</td>\n      <td>299</td>\n      <td>128.0</td>\n      <td>0.5</td>\n      <td>polymnist_moe_2021_05_09_01_46_10_858142</td>\n      <td>3.572933</td>\n      <td>7.519467</td>\n      <td>0.332367</td>\n      <td>3.0</td>\n    </tr>\n    <tr>\n      <th>2</th>\n      <td>9.968633</td>\n      <td>joint_elbo</td>\n      <td>299</td>\n      <td>32.0</td>\n      <td>0.5</td>\n      <td>polymnist_joint_elbo_2021_05_06_12_59_58_785343</td>\n      <td>3.239317</td>\n      <td>6.729317</td>\n      <td>0.312330</td>\n      <td>3.0</td>\n    </tr>\n    <tr>\n      <th>3</th>\n      <td>7.705983</td>\n      <td>moe</td>\n      <td>299</td>\n      <td>64.0</td>\n      <td>0.5</td>\n      <td>polymnist_moe_2021_05_07_09_09_37_528857</td>\n      <td>2.489417</td>\n      <td>5.216567</td>\n      <td>0.192170</td>\n      <td>3.0</td>\n    </tr>\n    <tr>\n      <th>1</th>\n      <td>6.143800</td>\n      <td>moe</td>\n      <td>299</td>\n      <td>32.0</td>\n      <td>0.5</td>\n      <td>polymnist_moe_2021_05_05_17_04_47_279351</td>\n      <td>1.717367</td>\n      <td>4.426433</td>\n      <td>0.180041</td>\n      <td>3.0</td>\n    </tr>\n    <tr>\n      <th>8</th>\n      <td>0.771817</td>\n      <td>moe</td>\n      <td>299</td>\n      <td>512.0</td>\n      <td>2.5</td>\n      <td>polymnist_moe_2021_05_10_21_53_22_903726</td>\n      <td>0.185717</td>\n      <td>0.586100</td>\n      <td>0.229577</td>\n      <td>1.0</td>\n    </tr>\n    <tr>\n      <th>11</th>\n      <td>0.749717</td>\n      <td>moe</td>\n      <td>299</td>\n      <td>512.0</td>\n      <td>2.5</td>\n      <td>polymnist_moe_2021_05_11_16_37_17_515090</td>\n      <td>0.168633</td>\n      <td>0.581083</td>\n      <td>0.237771</td>\n      <td>1.0</td>\n    </tr>\n    <tr>\n      <th>14</th>\n      <td>0.736833</td>\n      <td>planar_mixture_0</td>\n      <td>299</td>\n      <td>512.0</td>\n      <td>2.5</td>\n      <td>polymnist_planar_mixture_2021_05_12_20_40_24_4...</td>\n      <td>0.113950</td>\n      <td>0.622883</td>\n      <td>0.289370</td>\n      <td>1.0</td>\n    </tr>\n    <tr>\n      <th>12</th>\n      <td>0.627350</td>\n      <td>planar_mixture_5</td>\n      <td>299</td>\n      <td>512.0</td>\n      <td>2.5</td>\n      <td>polymnist_planar_mixture_2021_05_12_08_57_26_0...</td>\n      <td>0.103050</td>\n      <td>0.524300</td>\n      <td>0.110393</td>\n      <td>1.0</td>\n    </tr>\n    <tr>\n      <th>10</th>\n      <td>0.218633</td>\n      <td>planar_mixture_0</td>\n      <td>299</td>\n      <td>128.0</td>\n      <td>2.5</td>\n      <td>polymnist_planar_mixture_2021_05_11_08_30_22_4...</td>\n      <td>0.112367</td>\n      <td>0.106267</td>\n      <td>0.000000</td>\n      <td>1.0</td>\n    </tr>\n    <tr>\n      <th>7</th>\n      <td>0.218400</td>\n      <td>planar_mixture_0</td>\n      <td>299</td>\n      <td>512.0</td>\n      <td>2.5</td>\n      <td>polymnist_planar_mixture_2021_05_10_16_39_32_1...</td>\n      <td>0.112367</td>\n      <td>0.106033</td>\n      <td>0.000032</td>\n      <td>1.0</td>\n    </tr>\n    <tr>\n      <th>9</th>\n      <td>0.208383</td>\n      <td>planar_mixture_0</td>\n      <td>299</td>\n      <td>512.0</td>\n      <td>2.5</td>\n      <td>polymnist_planar_mixture_2021_05_11_07_27_00_4...</td>\n      <td>0.102183</td>\n      <td>0.106200</td>\n      <td>0.000000</td>\n      <td>1.0</td>\n    </tr>\n    <tr>\n      <th>6</th>\n      <td>0.208217</td>\n      <td>planar_mixture_0</td>\n      <td>299</td>\n      <td>512.0</td>\n      <td>2.5</td>\n      <td>polymnist_planar_mixture_2021_05_10_10_39_33_1...</td>\n      <td>0.102183</td>\n      <td>0.106033</td>\n      <td>0.000000</td>\n      <td>1.0</td>\n    </tr>\n  </tbody>\n</table>\n</div>"
     },
     "execution_count": 6,
     "metadata": {},
     "output_type": "execute_result"
    }
   ],
   "source": [
    "show_cols = ['score', 'method', 'end_epoch', 'class_dim', 'beta', '_id', 'score_lr', 'score_gen','score_prd', 'num_mods']\n",
    "df[show_cols].sort_values(by=['score'], ascending=False)"
   ],
   "metadata": {
    "collapsed": false,
    "pycharm": {
     "name": "#%%\n"
    }
   }
  },
  {
   "cell_type": "markdown",
   "source": [
    "Generate samples with the model that has the highest score."
   ],
   "metadata": {
    "collapsed": false,
    "pycharm": {
     "name": "#%% md\n"
    }
   }
  },
  {
   "cell_type": "code",
   "execution_count": 7,
   "outputs": [
    {
     "name": "stdout",
     "output_type": "stream",
     "text": [
      "polymnist_joint_elbo_2021_05_04_09_21_34_487039\n"
     ]
    }
   ],
   "source": [
    "best_score_id = df[df.score == df.score.max()]._id.item()\n",
    "print(best_score_id)\n",
    "experiments_database = MongoDatabase(training=False, _id=best_score_id)\n",
    "experiment_dict = experiments_database.get_experiment_dict()\n",
    "\n",
    "config = json2dict(get_config_path())\n",
    "experiment_flags = experiment_dict['flags']\n",
    "\n",
    "for key in config:\n",
    "    experiment_flags[key] = config[key]\n",
    "\n",
    "experiment_flags['use_clf'] = False\n",
    "experiment_flags['device'] = 'cpu'\n",
    "\n"
   ],
   "metadata": {
    "collapsed": false,
    "pycharm": {
     "name": "#%%\n"
    }
   }
  },
  {
   "cell_type": "code",
   "execution_count": 8,
   "outputs": [
    {
     "ename": "UnboundLocalError",
     "evalue": "local variable 'dp' referenced before assignment",
     "output_type": "error",
     "traceback": [
      "\u001B[0;31m---------------------------------------------------------------------------\u001B[0m",
      "\u001B[0;31mUnboundLocalError\u001B[0m                         Traceback (most recent call last)",
      "\u001B[0;32m<ipython-input-8-ad0ea0f6f5e2>\u001B[0m in \u001B[0;36m<module>\u001B[0;34m\u001B[0m\n\u001B[0;32m----> 1\u001B[0;31m \u001B[0mshow_generated_figs\u001B[0m\u001B[0;34m(\u001B[0m\u001B[0mflags\u001B[0m\u001B[0;34m=\u001B[0m\u001B[0mdict2pyobject\u001B[0m\u001B[0;34m(\u001B[0m\u001B[0mexperiment_flags\u001B[0m\u001B[0;34m)\u001B[0m\u001B[0;34m)\u001B[0m\u001B[0;34m\u001B[0m\u001B[0;34m\u001B[0m\u001B[0m\n\u001B[0m\u001B[1;32m      2\u001B[0m \u001B[0;34m\u001B[0m\u001B[0m\n",
      "\u001B[0;32m~/Documents/master_4/MMVAE_Hub/mmvae_hub/base/experiment_vis/utils.py\u001B[0m in \u001B[0;36mshow_generated_figs\u001B[0;34m(experiment_dir, flags)\u001B[0m\n\u001B[1;32m    152\u001B[0m         \u001B[0mflags\u001B[0m \u001B[0;34m=\u001B[0m \u001B[0mtorch\u001B[0m\u001B[0;34m.\u001B[0m\u001B[0mload\u001B[0m\u001B[0;34m(\u001B[0m\u001B[0mexperiment_dir\u001B[0m \u001B[0;34m/\u001B[0m \u001B[0;34m'flags.rar'\u001B[0m\u001B[0;34m)\u001B[0m\u001B[0;34m\u001B[0m\u001B[0;34m\u001B[0m\u001B[0m\n\u001B[1;32m    153\u001B[0m     \u001B[0;32mif\u001B[0m \u001B[0mPath\u001B[0m\u001B[0;34m(\u001B[0m\u001B[0mflags\u001B[0m\u001B[0;34m.\u001B[0m\u001B[0mdir_data\u001B[0m\u001B[0;34m)\u001B[0m\u001B[0;34m.\u001B[0m\u001B[0mname\u001B[0m \u001B[0;34m==\u001B[0m \u001B[0;34m'polymnist'\u001B[0m\u001B[0;34m:\u001B[0m\u001B[0;34m\u001B[0m\u001B[0;34m\u001B[0m\u001B[0m\n\u001B[0;32m--> 154\u001B[0;31m         \u001B[0mexp\u001B[0m \u001B[0;34m=\u001B[0m \u001B[0mPolymnistExperiment\u001B[0m\u001B[0;34m(\u001B[0m\u001B[0mflags\u001B[0m\u001B[0;34m)\u001B[0m\u001B[0;34m\u001B[0m\u001B[0;34m\u001B[0m\u001B[0m\n\u001B[0m\u001B[1;32m    155\u001B[0m \u001B[0;34m\u001B[0m\u001B[0m\n\u001B[1;32m    156\u001B[0m     \u001B[0;32mif\u001B[0m \u001B[0mexperiment_dir\u001B[0m \u001B[0;32mand\u001B[0m \u001B[0;34m(\u001B[0m\u001B[0mexperiment_dir\u001B[0m \u001B[0;34m/\u001B[0m \u001B[0;34m'checkpoints'\u001B[0m\u001B[0;34m)\u001B[0m\u001B[0;34m.\u001B[0m\u001B[0mexists\u001B[0m\u001B[0;34m(\u001B[0m\u001B[0;34m)\u001B[0m\u001B[0;34m:\u001B[0m\u001B[0;34m\u001B[0m\u001B[0;34m\u001B[0m\u001B[0m\n",
      "\u001B[0;32m~/Documents/master_4/MMVAE_Hub/mmvae_hub/polymnist/experiment.py\u001B[0m in \u001B[0;36m__init__\u001B[0;34m(self, flags)\u001B[0m\n\u001B[1;32m     32\u001B[0m         \u001B[0mself\u001B[0m\u001B[0;34m.\u001B[0m\u001B[0msubsets\u001B[0m \u001B[0;34m=\u001B[0m \u001B[0mself\u001B[0m\u001B[0;34m.\u001B[0m\u001B[0mset_subsets\u001B[0m\u001B[0;34m(\u001B[0m\u001B[0;34m)\u001B[0m\u001B[0;34m\u001B[0m\u001B[0;34m\u001B[0m\u001B[0m\n\u001B[1;32m     33\u001B[0m \u001B[0;34m\u001B[0m\u001B[0m\n\u001B[0;32m---> 34\u001B[0;31m         \u001B[0mself\u001B[0m\u001B[0;34m.\u001B[0m\u001B[0mdataset_train\u001B[0m\u001B[0;34m,\u001B[0m \u001B[0mself\u001B[0m\u001B[0;34m.\u001B[0m\u001B[0mdataset_test\u001B[0m \u001B[0;34m=\u001B[0m \u001B[0mself\u001B[0m\u001B[0;34m.\u001B[0m\u001B[0mset_dataset\u001B[0m\u001B[0;34m(\u001B[0m\u001B[0;34m)\u001B[0m\u001B[0;34m\u001B[0m\u001B[0;34m\u001B[0m\u001B[0m\n\u001B[0m\u001B[1;32m     35\u001B[0m \u001B[0;34m\u001B[0m\u001B[0m\n\u001B[1;32m     36\u001B[0m         \u001B[0mself\u001B[0m\u001B[0;34m.\u001B[0m\u001B[0mmm_vae\u001B[0m \u001B[0;34m=\u001B[0m \u001B[0mself\u001B[0m\u001B[0;34m.\u001B[0m\u001B[0mset_model\u001B[0m\u001B[0;34m(\u001B[0m\u001B[0;34m)\u001B[0m\u001B[0;34m\u001B[0m\u001B[0;34m\u001B[0m\u001B[0m\n",
      "\u001B[0;32m~/Documents/master_4/MMVAE_Hub/mmvae_hub/polymnist/experiment.py\u001B[0m in \u001B[0;36mset_dataset\u001B[0;34m(self)\u001B[0m\n\u001B[1;32m     55\u001B[0m             \u001B[0mtest\u001B[0m \u001B[0;34m=\u001B[0m \u001B[0mToyPolymnistDataset\u001B[0m\u001B[0;34m(\u001B[0m\u001B[0mnum_modalities\u001B[0m\u001B[0;34m=\u001B[0m\u001B[0mself\u001B[0m\u001B[0;34m.\u001B[0m\u001B[0mnum_modalities\u001B[0m\u001B[0;34m,\u001B[0m \u001B[0mseed\u001B[0m \u001B[0;34m=\u001B[0m \u001B[0mself\u001B[0m\u001B[0;34m.\u001B[0m\u001B[0mflags\u001B[0m\u001B[0;34m.\u001B[0m\u001B[0mseed\u001B[0m\u001B[0;34m)\u001B[0m\u001B[0;34m\u001B[0m\u001B[0;34m\u001B[0m\u001B[0m\n\u001B[1;32m     56\u001B[0m         \u001B[0;32melse\u001B[0m\u001B[0;34m:\u001B[0m\u001B[0;34m\u001B[0m\u001B[0;34m\u001B[0m\u001B[0m\n\u001B[0;32m---> 57\u001B[0;31m             train = PolymnistDataset(Path(self.flags.dir_data) / 'train', transform=transform,\n\u001B[0m\u001B[1;32m     58\u001B[0m                                      num_modalities=self.num_modalities)\n\u001B[1;32m     59\u001B[0m             test = PolymnistDataset(Path(self.flags.dir_data) / 'train', transform=transform,\n",
      "\u001B[0;32m~/Documents/master_4/MMVAE_Hub/mmvae_hub/polymnist/PolymnistDataset.py\u001B[0m in \u001B[0;36m__init__\u001B[0;34m(self, dir_data, transform, target_transform, num_modalities)\u001B[0m\n\u001B[1;32m     36\u001B[0m             \u001B[0mself\u001B[0m\u001B[0;34m.\u001B[0m\u001B[0mfile_paths\u001B[0m\u001B[0;34m[\u001B[0m\u001B[0mdp\u001B[0m\u001B[0;34m]\u001B[0m \u001B[0;34m=\u001B[0m \u001B[0mfiles\u001B[0m\u001B[0;34m\u001B[0m\u001B[0;34m\u001B[0m\u001B[0m\n\u001B[1;32m     37\u001B[0m         \u001B[0;31m# assert that each modality has the same number of images\u001B[0m\u001B[0;34m\u001B[0m\u001B[0;34m\u001B[0m\u001B[0;34m\u001B[0m\u001B[0m\n\u001B[0;32m---> 38\u001B[0;31m         \u001B[0mnum_files\u001B[0m \u001B[0;34m=\u001B[0m \u001B[0mlen\u001B[0m\u001B[0;34m(\u001B[0m\u001B[0mself\u001B[0m\u001B[0;34m.\u001B[0m\u001B[0mfile_paths\u001B[0m\u001B[0;34m[\u001B[0m\u001B[0mdp\u001B[0m\u001B[0;34m]\u001B[0m\u001B[0;34m)\u001B[0m\u001B[0;34m\u001B[0m\u001B[0;34m\u001B[0m\u001B[0m\n\u001B[0m\u001B[1;32m     39\u001B[0m         \u001B[0;32mfor\u001B[0m \u001B[0mfiles\u001B[0m \u001B[0;32min\u001B[0m \u001B[0mself\u001B[0m\u001B[0;34m.\u001B[0m\u001B[0mfile_paths\u001B[0m\u001B[0;34m.\u001B[0m\u001B[0mvalues\u001B[0m\u001B[0;34m(\u001B[0m\u001B[0;34m)\u001B[0m\u001B[0;34m:\u001B[0m\u001B[0;34m\u001B[0m\u001B[0;34m\u001B[0m\u001B[0m\n\u001B[1;32m     40\u001B[0m             \u001B[0;32massert\u001B[0m \u001B[0mlen\u001B[0m\u001B[0;34m(\u001B[0m\u001B[0mfiles\u001B[0m\u001B[0;34m)\u001B[0m \u001B[0;34m==\u001B[0m \u001B[0mnum_files\u001B[0m\u001B[0;34m\u001B[0m\u001B[0;34m\u001B[0m\u001B[0m\n",
      "\u001B[0;31mUnboundLocalError\u001B[0m: local variable 'dp' referenced before assignment"
     ]
    }
   ],
   "source": [
    "show_generated_figs(flags=dict2pyobject(experiment_flags))"
   ],
   "metadata": {
    "collapsed": false,
    "pycharm": {
     "name": "#%%\n"
    }
   }
  },
  {
   "cell_type": "code",
   "execution_count": null,
   "outputs": [],
   "source": [],
   "metadata": {
    "collapsed": false,
    "pycharm": {
     "name": "#%%\n"
    }
   }
  },
  {
   "cell_type": "code",
   "execution_count": null,
   "outputs": [],
   "source": [],
   "metadata": {
    "collapsed": false,
    "pycharm": {
     "name": "#%%\n"
    }
   }
  }
 ],
 "metadata": {
  "kernelspec": {
   "display_name": "Python 3",
   "language": "python",
   "name": "python3"
  },
  "language_info": {
   "codemirror_mode": {
    "name": "ipython",
    "version": 2
   },
   "file_extension": ".py",
   "mimetype": "text/x-python",
   "name": "python",
   "nbconvert_exporter": "python",
   "pygments_lexer": "ipython2",
   "version": "2.7.6"
  }
 },
 "nbformat": 4,
 "nbformat_minor": 0
}
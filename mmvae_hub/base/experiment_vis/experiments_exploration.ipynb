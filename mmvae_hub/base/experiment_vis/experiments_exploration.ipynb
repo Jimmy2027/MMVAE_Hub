{
 "cells": [
  {
   "cell_type": "code",
   "execution_count": 1,
   "metadata": {
    "collapsed": true
   },
   "outputs": [
    {
     "name": "stderr",
     "output_type": "stream",
     "text": [
      "[13:52:36 CEST] Log file: /usr/local/var/logs/mmvae_hub/UTC-20210509-115236.log\n"
     ]
    }
   ],
   "source": [
    "from mmvae_hub.base.experiment_vis.utils import *\n",
    "from mmvae_hub.base.utils.MongoDB import MongoDatabase\n",
    "import os\n",
    "from pathlib import Path"
   ]
  },
  {
   "cell_type": "code",
   "execution_count": null,
   "outputs": [],
   "source": [
    "exp_db = MongoDatabase(training=False)\n",
    "experiments = exp_db.connect()\n"
   ],
   "metadata": {
    "collapsed": false,
    "pycharm": {
     "name": "#%%\n"
    }
   }
  }
 ],
 "metadata": {
  "kernelspec": {
   "display_name": "Python 3",
   "language": "python",
   "name": "python3"
  },
  "language_info": {
   "codemirror_mode": {
    "name": "ipython",
    "version": 2
   },
   "file_extension": ".py",
   "mimetype": "text/x-python",
   "name": "python",
   "nbconvert_exporter": "python",
   "pygments_lexer": "ipython2",
   "version": "2.7.6"
  }
 },
 "nbformat": 4,
 "nbformat_minor": 0
}
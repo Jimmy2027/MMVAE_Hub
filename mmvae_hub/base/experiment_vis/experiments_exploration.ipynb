{
 "cells": [
  {
   "cell_type": "code",
   "execution_count": 11,
   "metadata": {
    "collapsed": true
   },
   "outputs": [],
   "source": [
    "from mmvae_hub.base.experiment_vis.utils import *\n",
    "from mmvae_hub.base.utils.MongoDB import MongoDatabase\n",
    "import os\n",
    "from pathlib import Path\n",
    "from pprint import pprint\n",
    "import pandas as pd"
   ]
  },
  {
   "cell_type": "code",
   "execution_count": 12,
   "outputs": [
    {
     "name": "stderr",
     "output_type": "stream",
     "text": [
      "[14:33:51 CEST] Connecting to database.\n"
     ]
    }
   ],
   "source": [
    "exp_db = MongoDatabase(training=False)\n",
    "experiments = exp_db.connect()"
   ],
   "metadata": {
    "collapsed": false,
    "pycharm": {
     "name": "#%%\n"
    }
   }
  },
  {
   "cell_type": "code",
   "execution_count": 13,
   "outputs": [
    {
     "name": "stdout",
     "output_type": "stream",
     "text": [
      "There are currently  8 experiments in the database.\n"
     ]
    }
   ],
   "source": [
    "print('There are currently ', experiments.count_documents({}), 'experiments in the database.')"
   ],
   "metadata": {
    "collapsed": false,
    "pycharm": {
     "name": "#%%\n"
    }
   }
  },
  {
   "cell_type": "code",
   "execution_count": 37,
   "outputs": [],
   "source": [
    "df = pd.DataFrame()\n",
    "# Find all experiments with method joint_elbo\n",
    "# for exp in experiments.find({'flags.method':'joint_elbo'}):\n",
    "for exp in experiments.find({}):\n",
    "    last_epoch = max(exp['epoch_results'])\n",
    "    last_epoch_results = exp['epoch_results'][last_epoch]['test_results']\n",
    "    results_dict = {**exp['flags'],'end_epoch': last_epoch, '_id': exp['_id']}\n",
    "\n",
    "    scores = []\n",
    "    scores_lr = []\n",
    "    scores_gen = []\n",
    "\n",
    "    # get lr_eval results\n",
    "    for key, val in last_epoch_results['lr_eval'].items():\n",
    "        results_dict[f'lr_eval_{key}'] = val['accuracy']\n",
    "        scores.append(val['accuracy'])\n",
    "        scores_lr.append(val['accuracy'])\n",
    "\n",
    "    # get gen_eval results\n",
    "    for key, val in last_epoch_results['gen_eval'].items():\n",
    "        key = key.replace('digit_', '')\n",
    "        results_dict[f'gen_eval_{key}'] = val\n",
    "        scores.append(val)\n",
    "        scores_gen.append(val)\n",
    "\n",
    "\n",
    "    results_dict['score'] = sum(scores)\n",
    "    results_dict['score_lr'] = sum(scores_lr)\n",
    "    results_dict['score_gen'] = sum(scores_gen)\n",
    "    df = df.append(results_dict, ignore_index=True)\n"
   ],
   "metadata": {
    "collapsed": false,
    "pycharm": {
     "name": "#%%\n"
    }
   }
  },
  {
   "cell_type": "code",
   "execution_count": 38,
   "outputs": [
    {
     "data": {
      "text/plain": "      score          method  ...  score_lr  score_gen\n7  9.847467             moe  ...  3.542500   6.304967\n6  9.830167      joint_elbo  ...  3.762967   6.067200\n0  8.623167      joint_elbo  ...  3.604533   5.018633\n5  6.461467             moe  ...  2.374600   4.086867\n4  6.352133      joint_elbo  ...  2.550250   3.801883\n3  4.797233             moe  ...  1.459100   3.338133\n2  3.063350      joint_elbo  ...  0.896183   2.167167\n1  2.859983  planar_mixture  ...  0.730917   2.129067\n\n[8 rows x 8 columns]",
      "text/html": "<div>\n<style scoped>\n    .dataframe tbody tr th:only-of-type {\n        vertical-align: middle;\n    }\n\n    .dataframe tbody tr th {\n        vertical-align: top;\n    }\n\n    .dataframe thead th {\n        text-align: right;\n    }\n</style>\n<table border=\"1\" class=\"dataframe\">\n  <thead>\n    <tr style=\"text-align: right;\">\n      <th></th>\n      <th>score</th>\n      <th>method</th>\n      <th>end_epoch</th>\n      <th>class_dim</th>\n      <th>beta</th>\n      <th>_id</th>\n      <th>score_lr</th>\n      <th>score_gen</th>\n    </tr>\n  </thead>\n  <tbody>\n    <tr>\n      <th>7</th>\n      <td>9.847467</td>\n      <td>moe</td>\n      <td>99</td>\n      <td>128.0</td>\n      <td>0.5</td>\n      <td>polymnist_moe_2021_05_09_01_46_10_858142</td>\n      <td>3.542500</td>\n      <td>6.304967</td>\n    </tr>\n    <tr>\n      <th>6</th>\n      <td>9.830167</td>\n      <td>joint_elbo</td>\n      <td>99</td>\n      <td>64.0</td>\n      <td>0.5</td>\n      <td>polymnist_joint_elbo_2021_05_08_05_21_05_683057</td>\n      <td>3.762967</td>\n      <td>6.067200</td>\n    </tr>\n    <tr>\n      <th>0</th>\n      <td>8.623167</td>\n      <td>joint_elbo</td>\n      <td>99</td>\n      <td>64.0</td>\n      <td>2.5</td>\n      <td>polymnist_joint_elbo_2021_05_04_09_21_34_487039</td>\n      <td>3.604533</td>\n      <td>5.018633</td>\n    </tr>\n    <tr>\n      <th>5</th>\n      <td>6.461467</td>\n      <td>moe</td>\n      <td>99</td>\n      <td>64.0</td>\n      <td>0.5</td>\n      <td>polymnist_moe_2021_05_07_09_09_37_528857</td>\n      <td>2.374600</td>\n      <td>4.086867</td>\n    </tr>\n    <tr>\n      <th>4</th>\n      <td>6.352133</td>\n      <td>joint_elbo</td>\n      <td>99</td>\n      <td>32.0</td>\n      <td>0.5</td>\n      <td>polymnist_joint_elbo_2021_05_06_12_59_58_785343</td>\n      <td>2.550250</td>\n      <td>3.801883</td>\n    </tr>\n    <tr>\n      <th>3</th>\n      <td>4.797233</td>\n      <td>moe</td>\n      <td>99</td>\n      <td>32.0</td>\n      <td>0.5</td>\n      <td>polymnist_moe_2021_05_05_17_04_47_279351</td>\n      <td>1.459100</td>\n      <td>3.338133</td>\n    </tr>\n    <tr>\n      <th>2</th>\n      <td>3.063350</td>\n      <td>joint_elbo</td>\n      <td>0</td>\n      <td>64.0</td>\n      <td>2.5</td>\n      <td>polymnist_joint_elbo_2021_05_05_16_43_26_236427</td>\n      <td>0.896183</td>\n      <td>2.167167</td>\n    </tr>\n    <tr>\n      <th>1</th>\n      <td>2.859983</td>\n      <td>planar_mixture</td>\n      <td>99</td>\n      <td>64.0</td>\n      <td>2.5</td>\n      <td>polymnist_planar_mixture_2021_05_04_09_21_38_7...</td>\n      <td>0.730917</td>\n      <td>2.129067</td>\n    </tr>\n  </tbody>\n</table>\n</div>"
     },
     "execution_count": 38,
     "metadata": {},
     "output_type": "execute_result"
    }
   ],
   "source": [
    "show_cols = ['score','method', 'end_epoch', 'class_dim', 'beta','_id', 'score_lr', 'score_gen']\n",
    "df[show_cols].sort_values(by=['score'], ascending=False)"
   ],
   "metadata": {
    "collapsed": false,
    "pycharm": {
     "name": "#%%\n"
    }
   }
  },
  {
   "cell_type": "code",
   "execution_count": 28,
   "outputs": [],
   "source": [],
   "metadata": {
    "collapsed": false,
    "pycharm": {
     "name": "#%%\n"
    }
   }
  },
  {
   "cell_type": "code",
   "execution_count": null,
   "outputs": [],
   "source": [],
   "metadata": {
    "collapsed": false,
    "pycharm": {
     "name": "#%%\n"
    }
   }
  }
 ],
 "metadata": {
  "kernelspec": {
   "display_name": "Python 3",
   "language": "python",
   "name": "python3"
  },
  "language_info": {
   "codemirror_mode": {
    "name": "ipython",
    "version": 2
   },
   "file_extension": ".py",
   "mimetype": "text/x-python",
   "name": "python",
   "nbconvert_exporter": "python",
   "pygments_lexer": "ipython2",
   "version": "2.7.6"
  }
 },
 "nbformat": 4,
 "nbformat_minor": 0
}
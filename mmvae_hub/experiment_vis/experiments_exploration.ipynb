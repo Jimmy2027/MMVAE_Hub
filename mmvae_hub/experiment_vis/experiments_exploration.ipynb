{
 "cells": [
  {
   "cell_type": "code",
   "execution_count": 1,
   "metadata": {
    "collapsed": true
   },
   "outputs": [
    {
     "name": "stderr",
     "output_type": "stream",
     "text": [
      "[16:08:26 CEST] Log file: /Users/Hendrik/Documents/master_4/MMVAE_Hub/mmvae_hub/logger/logs/UTC-20210610-140826.log\n"
     ]
    }
   ],
   "source": [
    "\n",
    "from mmvae_hub.experiment_vis.utils import *\n",
    "from mmvae_hub.utils.MongoDB import MongoDatabase"
   ]
  },
  {
   "cell_type": "code",
   "execution_count": 2,
   "outputs": [],
   "source": [
    "exp_db = MongoDatabase(training=False)\n",
    "experiments = exp_db.connect()"
   ],
   "metadata": {
    "collapsed": false,
    "pycharm": {
     "name": "#%%\n"
    }
   }
  },
  {
   "cell_type": "code",
   "execution_count": 3,
   "outputs": [
    {
     "name": "stdout",
     "output_type": "stream",
     "text": [
      "There are currently  95 experiments in the database.\n"
     ]
    }
   ],
   "source": [
    "print('There are currently ', experiments.count_documents({}), 'experiments in the database.')"
   ],
   "metadata": {
    "collapsed": false,
    "pycharm": {
     "name": "#%%\n"
    }
   }
  },
  {
   "cell_type": "code",
   "execution_count": 4,
   "outputs": [
    {
     "name": "stdout",
     "output_type": "stream",
     "text": [
      "'NoneType' object has no attribute 'items'\n",
      "'NoneType' object has no attribute 'items'\n",
      "'NoneType' object has no attribute 'items'\n"
     ]
    }
   ],
   "source": [
    "df = make_experiments_dataframe(experiments)\n",
    "# df.style.set_properties(subset=['_id'], **{'width': '1px'})"
   ],
   "metadata": {
    "collapsed": false,
    "pycharm": {
     "name": "#%%\n"
    }
   }
  },
  {
   "cell_type": "code",
   "execution_count": 5,
   "outputs": [
    {
     "data": {
      "text/plain": "       score  amortized_flow            method end_epoch  class_dim  beta  \\\n35  6.324189             NaN            pfom_5        99      512.0   0.0   \n40  5.715956             NaN        joint_elbo       619      512.0   2.5   \n88  5.483672             0.0        joint_elbo        99      256.0   1.0   \n56  5.357850             1.0  planar_mixture_5       599      256.0   0.5   \n39  5.251122             NaN  planar_mixture_5       469      512.0   1.0   \n0   5.122961             NaN        joint_elbo       299       64.0   2.5   \n51  5.071122             NaN  planar_mixture_5       599      512.0   1.0   \n61  4.937439             0.0  planar_mixture_5       599      256.0   0.5   \n76  4.913078             0.0            pfom_5       599      512.0   1.0   \n82  4.886306             0.0            pfom_5      1999      256.0   1.0   \n\n    weighted_mixture  num_mods  \\\n35               1.0       3.0   \n40               0.0       3.0   \n88               0.0       3.0   \n56               1.0       3.0   \n39               1.0       3.0   \n0                NaN       3.0   \n51               1.0       3.0   \n61               0.0       3.0   \n76               0.0       3.0   \n82               0.0       3.0   \n\n                                                  _id  score_lr  score_gen  \\\n35          polymnist_pfom_2021_05_21_09_59_39_321199  5.258067  13.714500   \n40    polymnist_joint_elbo_2021_05_23_12_09_30_507370  5.471367  11.676500   \n88    polymnist_joint_elbo_2021_06_09_17_38_18_207824  5.366400  11.084617   \n56  polymnist_planar_mixture_2021_05_27_21_22_46_7...  3.831200  12.242350   \n39  polymnist_planar_mixture_2021_05_23_12_10_02_9...  2.934167  12.819200   \n0     polymnist_joint_elbo_2021_05_04_09_21_34_487039  5.252283  10.116600   \n51  polymnist_planar_mixture_2021_05_25_18_55_51_4...  2.858500  12.354867   \n61  polymnist_planar_mixture_2021_05_28_14_53_44_1...  2.918333  11.893983   \n76          polymnist_pfom_2021_06_01_22_06_59_642354  2.427533  12.311700   \n82          polymnist_pfom_2021_06_02_14_55_01_470328  2.274267  12.384650   \n\n    score_prd    version                                    expvis_url  \n35   1.641897  0.0.5-dev  https://ppb.hendrikklug.xyz/4ad1b0c934d2.pdf  \n40   0.000000  0.0.5-dev  https://ppb.hendrikklug.xyz/a1da3920fa87.pdf  \n88   0.627032  0.0.9-dev  https://ppb.hendrikklug.xyz/03fdf6021a74.pdf  \n56   1.395396  0.0.5-dev  https://ppb.hendrikklug.xyz/52a8c8a4466d.pdf  \n39   0.000000  0.0.5-dev  https://ppb.hendrikklug.xyz/698265a99cef.pdf  \n0    0.000000        NaN                                           NaN  \n51   1.198629  0.0.5-dev  https://ppb.hendrikklug.xyz/aa9810d2fb6d.pdf  \n61   1.469842  0.0.5-dev  https://ppb.hendrikklug.xyz/2abccea703f7.pdf  \n76   1.096989  0.0.7-dev  https://ppb.hendrikklug.xyz/95e4bf95f5c7.pdf  \n82   2.153740  0.0.7-dev  https://ppb.hendrikklug.xyz/f1dd92c11883.pdf  ",
      "text/html": "<div>\n<style scoped>\n    .dataframe tbody tr th:only-of-type {\n        vertical-align: middle;\n    }\n\n    .dataframe tbody tr th {\n        vertical-align: top;\n    }\n\n    .dataframe thead th {\n        text-align: right;\n    }\n</style>\n<table border=\"1\" class=\"dataframe\">\n  <thead>\n    <tr style=\"text-align: right;\">\n      <th></th>\n      <th>score</th>\n      <th>amortized_flow</th>\n      <th>method</th>\n      <th>end_epoch</th>\n      <th>class_dim</th>\n      <th>beta</th>\n      <th>weighted_mixture</th>\n      <th>num_mods</th>\n      <th>_id</th>\n      <th>score_lr</th>\n      <th>score_gen</th>\n      <th>score_prd</th>\n      <th>version</th>\n      <th>expvis_url</th>\n    </tr>\n  </thead>\n  <tbody>\n    <tr>\n      <th>35</th>\n      <td>6.324189</td>\n      <td>NaN</td>\n      <td>pfom_5</td>\n      <td>99</td>\n      <td>512.0</td>\n      <td>0.0</td>\n      <td>1.0</td>\n      <td>3.0</td>\n      <td>polymnist_pfom_2021_05_21_09_59_39_321199</td>\n      <td>5.258067</td>\n      <td>13.714500</td>\n      <td>1.641897</td>\n      <td>0.0.5-dev</td>\n      <td>https://ppb.hendrikklug.xyz/4ad1b0c934d2.pdf</td>\n    </tr>\n    <tr>\n      <th>40</th>\n      <td>5.715956</td>\n      <td>NaN</td>\n      <td>joint_elbo</td>\n      <td>619</td>\n      <td>512.0</td>\n      <td>2.5</td>\n      <td>0.0</td>\n      <td>3.0</td>\n      <td>polymnist_joint_elbo_2021_05_23_12_09_30_507370</td>\n      <td>5.471367</td>\n      <td>11.676500</td>\n      <td>0.000000</td>\n      <td>0.0.5-dev</td>\n      <td>https://ppb.hendrikklug.xyz/a1da3920fa87.pdf</td>\n    </tr>\n    <tr>\n      <th>88</th>\n      <td>5.483672</td>\n      <td>0.0</td>\n      <td>joint_elbo</td>\n      <td>99</td>\n      <td>256.0</td>\n      <td>1.0</td>\n      <td>0.0</td>\n      <td>3.0</td>\n      <td>polymnist_joint_elbo_2021_06_09_17_38_18_207824</td>\n      <td>5.366400</td>\n      <td>11.084617</td>\n      <td>0.627032</td>\n      <td>0.0.9-dev</td>\n      <td>https://ppb.hendrikklug.xyz/03fdf6021a74.pdf</td>\n    </tr>\n    <tr>\n      <th>56</th>\n      <td>5.357850</td>\n      <td>1.0</td>\n      <td>planar_mixture_5</td>\n      <td>599</td>\n      <td>256.0</td>\n      <td>0.5</td>\n      <td>1.0</td>\n      <td>3.0</td>\n      <td>polymnist_planar_mixture_2021_05_27_21_22_46_7...</td>\n      <td>3.831200</td>\n      <td>12.242350</td>\n      <td>1.395396</td>\n      <td>0.0.5-dev</td>\n      <td>https://ppb.hendrikklug.xyz/52a8c8a4466d.pdf</td>\n    </tr>\n    <tr>\n      <th>39</th>\n      <td>5.251122</td>\n      <td>NaN</td>\n      <td>planar_mixture_5</td>\n      <td>469</td>\n      <td>512.0</td>\n      <td>1.0</td>\n      <td>1.0</td>\n      <td>3.0</td>\n      <td>polymnist_planar_mixture_2021_05_23_12_10_02_9...</td>\n      <td>2.934167</td>\n      <td>12.819200</td>\n      <td>0.000000</td>\n      <td>0.0.5-dev</td>\n      <td>https://ppb.hendrikklug.xyz/698265a99cef.pdf</td>\n    </tr>\n    <tr>\n      <th>0</th>\n      <td>5.122961</td>\n      <td>NaN</td>\n      <td>joint_elbo</td>\n      <td>299</td>\n      <td>64.0</td>\n      <td>2.5</td>\n      <td>NaN</td>\n      <td>3.0</td>\n      <td>polymnist_joint_elbo_2021_05_04_09_21_34_487039</td>\n      <td>5.252283</td>\n      <td>10.116600</td>\n      <td>0.000000</td>\n      <td>NaN</td>\n      <td>NaN</td>\n    </tr>\n    <tr>\n      <th>51</th>\n      <td>5.071122</td>\n      <td>NaN</td>\n      <td>planar_mixture_5</td>\n      <td>599</td>\n      <td>512.0</td>\n      <td>1.0</td>\n      <td>1.0</td>\n      <td>3.0</td>\n      <td>polymnist_planar_mixture_2021_05_25_18_55_51_4...</td>\n      <td>2.858500</td>\n      <td>12.354867</td>\n      <td>1.198629</td>\n      <td>0.0.5-dev</td>\n      <td>https://ppb.hendrikklug.xyz/aa9810d2fb6d.pdf</td>\n    </tr>\n    <tr>\n      <th>61</th>\n      <td>4.937439</td>\n      <td>0.0</td>\n      <td>planar_mixture_5</td>\n      <td>599</td>\n      <td>256.0</td>\n      <td>0.5</td>\n      <td>0.0</td>\n      <td>3.0</td>\n      <td>polymnist_planar_mixture_2021_05_28_14_53_44_1...</td>\n      <td>2.918333</td>\n      <td>11.893983</td>\n      <td>1.469842</td>\n      <td>0.0.5-dev</td>\n      <td>https://ppb.hendrikklug.xyz/2abccea703f7.pdf</td>\n    </tr>\n    <tr>\n      <th>76</th>\n      <td>4.913078</td>\n      <td>0.0</td>\n      <td>pfom_5</td>\n      <td>599</td>\n      <td>512.0</td>\n      <td>1.0</td>\n      <td>0.0</td>\n      <td>3.0</td>\n      <td>polymnist_pfom_2021_06_01_22_06_59_642354</td>\n      <td>2.427533</td>\n      <td>12.311700</td>\n      <td>1.096989</td>\n      <td>0.0.7-dev</td>\n      <td>https://ppb.hendrikklug.xyz/95e4bf95f5c7.pdf</td>\n    </tr>\n    <tr>\n      <th>82</th>\n      <td>4.886306</td>\n      <td>0.0</td>\n      <td>pfom_5</td>\n      <td>1999</td>\n      <td>256.0</td>\n      <td>1.0</td>\n      <td>0.0</td>\n      <td>3.0</td>\n      <td>polymnist_pfom_2021_06_02_14_55_01_470328</td>\n      <td>2.274267</td>\n      <td>12.384650</td>\n      <td>2.153740</td>\n      <td>0.0.7-dev</td>\n      <td>https://ppb.hendrikklug.xyz/f1dd92c11883.pdf</td>\n    </tr>\n  </tbody>\n</table>\n</div>"
     },
     "execution_count": 5,
     "metadata": {},
     "output_type": "execute_result"
    }
   ],
   "source": [
    "show_cols = ['score', 'amortized_flow','method', 'end_epoch', 'class_dim', 'beta','weighted_mixture','num_mods', '_id', 'score_lr', 'score_gen','score_prd', 'version', 'expvis_url']\n",
    "df[show_cols].sort_values(by=['score'], ascending=False).head(10)"
   ],
   "metadata": {
    "collapsed": false,
    "pycharm": {
     "name": "#%%\n"
    }
   }
  },
  {
   "cell_type": "markdown",
   "source": [
    "# Method: Planar Mixture"
   ],
   "metadata": {
    "collapsed": false,
    "pycharm": {
     "name": "#%% md\n"
    }
   }
  },
  {
   "cell_type": "code",
   "execution_count": 6,
   "outputs": [
    {
     "data": {
      "text/plain": "       score  amortized_flow            method end_epoch  class_dim  beta  \\\n56  5.357850             1.0  planar_mixture_5       599      256.0   0.5   \n39  5.251122             NaN  planar_mixture_5       469      512.0   1.0   \n51  5.071122             NaN  planar_mixture_5       599      512.0   1.0   \n61  4.937439             0.0  planar_mixture_5       599      256.0   0.5   \n59  4.808056             1.0  planar_mixture_5       549      256.0   1.0   \n43  4.793644             NaN  planar_mixture_5       149      512.0   1.0   \n44  4.774389             NaN  planar_mixture_5       449      512.0   1.0   \n38  4.721506             NaN  planar_mixture_5       489      512.0   1.0   \n54  4.653483             NaN  planar_mixture_5       309      512.0   1.0   \n47  4.557278             NaN  planar_mixture_0        98      512.0   1.0   \n\n    weighted_mixture  num_mods  \\\n56               1.0       3.0   \n39               1.0       3.0   \n51               1.0       3.0   \n61               0.0       3.0   \n59               1.0       3.0   \n43               1.0       3.0   \n44               1.0       3.0   \n38               1.0       3.0   \n54               1.0       3.0   \n47               0.0       3.0   \n\n                                                  _id  score_lr  score_gen  \\\n56  polymnist_planar_mixture_2021_05_27_21_22_46_7...  3.831200  12.242350   \n39  polymnist_planar_mixture_2021_05_23_12_10_02_9...  2.934167  12.819200   \n51  polymnist_planar_mixture_2021_05_25_18_55_51_4...  2.858500  12.354867   \n61  polymnist_planar_mixture_2021_05_28_14_53_44_1...  2.918333  11.893983   \n59  polymnist_planar_mixture_2021_05_27_21_23_18_0...  2.985600  11.438567   \n43  polymnist_planar_mixture_2021_05_24_17_33_03_0...  2.795650  11.585283   \n44  polymnist_planar_mixture_2021_05_25_08_07_00_3...  2.720467  11.602700   \n38  polymnist_planar_mixture_2021_05_23_12_10_03_0...  2.807067  11.357450   \n54  polymnist_planar_mixture_2021_05_25_11_37_30_8...  2.688217  11.272233   \n47  polymnist_planar_mixture_2021_05_25_20_25_27_6...  2.879633  10.792200   \n\n    score_prd    version                                    expvis_url  \n56   1.395396  0.0.5-dev  https://ppb.hendrikklug.xyz/52a8c8a4466d.pdf  \n39   0.000000  0.0.5-dev  https://ppb.hendrikklug.xyz/698265a99cef.pdf  \n51   1.198629  0.0.5-dev  https://ppb.hendrikklug.xyz/aa9810d2fb6d.pdf  \n61   1.469842  0.0.5-dev  https://ppb.hendrikklug.xyz/2abccea703f7.pdf  \n59   0.000000  0.0.5-dev  https://ppb.hendrikklug.xyz/422165e67c1c.pdf  \n43   0.000000  0.0.5-dev                                           NaN  \n44   0.000000  0.0.5-dev                                           NaN  \n38   0.000000  0.0.5-dev  https://ppb.hendrikklug.xyz/57259190dc8c.pdf  \n54   0.000000  0.0.5-dev  https://ppb.hendrikklug.xyz/96d5e9ecc28a.pdf  \n47   0.000000  0.0.5-dev  https://ppb.hendrikklug.xyz/ecba70288b22.pdf  ",
      "text/html": "<div>\n<style scoped>\n    .dataframe tbody tr th:only-of-type {\n        vertical-align: middle;\n    }\n\n    .dataframe tbody tr th {\n        vertical-align: top;\n    }\n\n    .dataframe thead th {\n        text-align: right;\n    }\n</style>\n<table border=\"1\" class=\"dataframe\">\n  <thead>\n    <tr style=\"text-align: right;\">\n      <th></th>\n      <th>score</th>\n      <th>amortized_flow</th>\n      <th>method</th>\n      <th>end_epoch</th>\n      <th>class_dim</th>\n      <th>beta</th>\n      <th>weighted_mixture</th>\n      <th>num_mods</th>\n      <th>_id</th>\n      <th>score_lr</th>\n      <th>score_gen</th>\n      <th>score_prd</th>\n      <th>version</th>\n      <th>expvis_url</th>\n    </tr>\n  </thead>\n  <tbody>\n    <tr>\n      <th>56</th>\n      <td>5.357850</td>\n      <td>1.0</td>\n      <td>planar_mixture_5</td>\n      <td>599</td>\n      <td>256.0</td>\n      <td>0.5</td>\n      <td>1.0</td>\n      <td>3.0</td>\n      <td>polymnist_planar_mixture_2021_05_27_21_22_46_7...</td>\n      <td>3.831200</td>\n      <td>12.242350</td>\n      <td>1.395396</td>\n      <td>0.0.5-dev</td>\n      <td>https://ppb.hendrikklug.xyz/52a8c8a4466d.pdf</td>\n    </tr>\n    <tr>\n      <th>39</th>\n      <td>5.251122</td>\n      <td>NaN</td>\n      <td>planar_mixture_5</td>\n      <td>469</td>\n      <td>512.0</td>\n      <td>1.0</td>\n      <td>1.0</td>\n      <td>3.0</td>\n      <td>polymnist_planar_mixture_2021_05_23_12_10_02_9...</td>\n      <td>2.934167</td>\n      <td>12.819200</td>\n      <td>0.000000</td>\n      <td>0.0.5-dev</td>\n      <td>https://ppb.hendrikklug.xyz/698265a99cef.pdf</td>\n    </tr>\n    <tr>\n      <th>51</th>\n      <td>5.071122</td>\n      <td>NaN</td>\n      <td>planar_mixture_5</td>\n      <td>599</td>\n      <td>512.0</td>\n      <td>1.0</td>\n      <td>1.0</td>\n      <td>3.0</td>\n      <td>polymnist_planar_mixture_2021_05_25_18_55_51_4...</td>\n      <td>2.858500</td>\n      <td>12.354867</td>\n      <td>1.198629</td>\n      <td>0.0.5-dev</td>\n      <td>https://ppb.hendrikklug.xyz/aa9810d2fb6d.pdf</td>\n    </tr>\n    <tr>\n      <th>61</th>\n      <td>4.937439</td>\n      <td>0.0</td>\n      <td>planar_mixture_5</td>\n      <td>599</td>\n      <td>256.0</td>\n      <td>0.5</td>\n      <td>0.0</td>\n      <td>3.0</td>\n      <td>polymnist_planar_mixture_2021_05_28_14_53_44_1...</td>\n      <td>2.918333</td>\n      <td>11.893983</td>\n      <td>1.469842</td>\n      <td>0.0.5-dev</td>\n      <td>https://ppb.hendrikklug.xyz/2abccea703f7.pdf</td>\n    </tr>\n    <tr>\n      <th>59</th>\n      <td>4.808056</td>\n      <td>1.0</td>\n      <td>planar_mixture_5</td>\n      <td>549</td>\n      <td>256.0</td>\n      <td>1.0</td>\n      <td>1.0</td>\n      <td>3.0</td>\n      <td>polymnist_planar_mixture_2021_05_27_21_23_18_0...</td>\n      <td>2.985600</td>\n      <td>11.438567</td>\n      <td>0.000000</td>\n      <td>0.0.5-dev</td>\n      <td>https://ppb.hendrikklug.xyz/422165e67c1c.pdf</td>\n    </tr>\n    <tr>\n      <th>43</th>\n      <td>4.793644</td>\n      <td>NaN</td>\n      <td>planar_mixture_5</td>\n      <td>149</td>\n      <td>512.0</td>\n      <td>1.0</td>\n      <td>1.0</td>\n      <td>3.0</td>\n      <td>polymnist_planar_mixture_2021_05_24_17_33_03_0...</td>\n      <td>2.795650</td>\n      <td>11.585283</td>\n      <td>0.000000</td>\n      <td>0.0.5-dev</td>\n      <td>NaN</td>\n    </tr>\n    <tr>\n      <th>44</th>\n      <td>4.774389</td>\n      <td>NaN</td>\n      <td>planar_mixture_5</td>\n      <td>449</td>\n      <td>512.0</td>\n      <td>1.0</td>\n      <td>1.0</td>\n      <td>3.0</td>\n      <td>polymnist_planar_mixture_2021_05_25_08_07_00_3...</td>\n      <td>2.720467</td>\n      <td>11.602700</td>\n      <td>0.000000</td>\n      <td>0.0.5-dev</td>\n      <td>NaN</td>\n    </tr>\n    <tr>\n      <th>38</th>\n      <td>4.721506</td>\n      <td>NaN</td>\n      <td>planar_mixture_5</td>\n      <td>489</td>\n      <td>512.0</td>\n      <td>1.0</td>\n      <td>1.0</td>\n      <td>3.0</td>\n      <td>polymnist_planar_mixture_2021_05_23_12_10_03_0...</td>\n      <td>2.807067</td>\n      <td>11.357450</td>\n      <td>0.000000</td>\n      <td>0.0.5-dev</td>\n      <td>https://ppb.hendrikklug.xyz/57259190dc8c.pdf</td>\n    </tr>\n    <tr>\n      <th>54</th>\n      <td>4.653483</td>\n      <td>NaN</td>\n      <td>planar_mixture_5</td>\n      <td>309</td>\n      <td>512.0</td>\n      <td>1.0</td>\n      <td>1.0</td>\n      <td>3.0</td>\n      <td>polymnist_planar_mixture_2021_05_25_11_37_30_8...</td>\n      <td>2.688217</td>\n      <td>11.272233</td>\n      <td>0.000000</td>\n      <td>0.0.5-dev</td>\n      <td>https://ppb.hendrikklug.xyz/96d5e9ecc28a.pdf</td>\n    </tr>\n    <tr>\n      <th>47</th>\n      <td>4.557278</td>\n      <td>NaN</td>\n      <td>planar_mixture_0</td>\n      <td>98</td>\n      <td>512.0</td>\n      <td>1.0</td>\n      <td>0.0</td>\n      <td>3.0</td>\n      <td>polymnist_planar_mixture_2021_05_25_20_25_27_6...</td>\n      <td>2.879633</td>\n      <td>10.792200</td>\n      <td>0.000000</td>\n      <td>0.0.5-dev</td>\n      <td>https://ppb.hendrikklug.xyz/ecba70288b22.pdf</td>\n    </tr>\n  </tbody>\n</table>\n</div>"
     },
     "execution_count": 6,
     "metadata": {},
     "output_type": "execute_result"
    }
   ],
   "source": [
    "df.loc[df['method'].str.startswith('planar_mixture')][[*show_cols]].sort_values(by=['score'], ascending=False).head(10)"
   ],
   "metadata": {
    "collapsed": false,
    "pycharm": {
     "name": "#%%\n"
    }
   }
  },
  {
   "cell_type": "markdown",
   "source": [
    "### More than 1 flow, 3 mods"
   ],
   "metadata": {
    "collapsed": false,
    "pycharm": {
     "name": "#%% md\n"
    }
   }
  },
  {
   "cell_type": "code",
   "execution_count": 7,
   "outputs": [
    {
     "data": {
      "text/plain": "       score  amortized_flow            method end_epoch  class_dim  beta  \\\n56  5.357850             1.0  planar_mixture_5       599      256.0   0.5   \n39  5.251122             NaN  planar_mixture_5       469      512.0   1.0   \n51  5.071122             NaN  planar_mixture_5       599      512.0   1.0   \n\n    weighted_mixture  num_mods  \\\n56               1.0       3.0   \n39               1.0       3.0   \n51               1.0       3.0   \n\n                                                  _id  score_lr  score_gen  \\\n56  polymnist_planar_mixture_2021_05_27_21_22_46_7...  3.831200  12.242350   \n39  polymnist_planar_mixture_2021_05_23_12_10_02_9...  2.934167  12.819200   \n51  polymnist_planar_mixture_2021_05_25_18_55_51_4...  2.858500  12.354867   \n\n    score_prd    version                                    expvis_url  \n56   1.395396  0.0.5-dev  https://ppb.hendrikklug.xyz/52a8c8a4466d.pdf  \n39   0.000000  0.0.5-dev  https://ppb.hendrikklug.xyz/698265a99cef.pdf  \n51   1.198629  0.0.5-dev  https://ppb.hendrikklug.xyz/aa9810d2fb6d.pdf  ",
      "text/html": "<div>\n<style scoped>\n    .dataframe tbody tr th:only-of-type {\n        vertical-align: middle;\n    }\n\n    .dataframe tbody tr th {\n        vertical-align: top;\n    }\n\n    .dataframe thead th {\n        text-align: right;\n    }\n</style>\n<table border=\"1\" class=\"dataframe\">\n  <thead>\n    <tr style=\"text-align: right;\">\n      <th></th>\n      <th>score</th>\n      <th>amortized_flow</th>\n      <th>method</th>\n      <th>end_epoch</th>\n      <th>class_dim</th>\n      <th>beta</th>\n      <th>weighted_mixture</th>\n      <th>num_mods</th>\n      <th>_id</th>\n      <th>score_lr</th>\n      <th>score_gen</th>\n      <th>score_prd</th>\n      <th>version</th>\n      <th>expvis_url</th>\n    </tr>\n  </thead>\n  <tbody>\n    <tr>\n      <th>56</th>\n      <td>5.357850</td>\n      <td>1.0</td>\n      <td>planar_mixture_5</td>\n      <td>599</td>\n      <td>256.0</td>\n      <td>0.5</td>\n      <td>1.0</td>\n      <td>3.0</td>\n      <td>polymnist_planar_mixture_2021_05_27_21_22_46_7...</td>\n      <td>3.831200</td>\n      <td>12.242350</td>\n      <td>1.395396</td>\n      <td>0.0.5-dev</td>\n      <td>https://ppb.hendrikklug.xyz/52a8c8a4466d.pdf</td>\n    </tr>\n    <tr>\n      <th>39</th>\n      <td>5.251122</td>\n      <td>NaN</td>\n      <td>planar_mixture_5</td>\n      <td>469</td>\n      <td>512.0</td>\n      <td>1.0</td>\n      <td>1.0</td>\n      <td>3.0</td>\n      <td>polymnist_planar_mixture_2021_05_23_12_10_02_9...</td>\n      <td>2.934167</td>\n      <td>12.819200</td>\n      <td>0.000000</td>\n      <td>0.0.5-dev</td>\n      <td>https://ppb.hendrikklug.xyz/698265a99cef.pdf</td>\n    </tr>\n    <tr>\n      <th>51</th>\n      <td>5.071122</td>\n      <td>NaN</td>\n      <td>planar_mixture_5</td>\n      <td>599</td>\n      <td>512.0</td>\n      <td>1.0</td>\n      <td>1.0</td>\n      <td>3.0</td>\n      <td>polymnist_planar_mixture_2021_05_25_18_55_51_4...</td>\n      <td>2.858500</td>\n      <td>12.354867</td>\n      <td>1.198629</td>\n      <td>0.0.5-dev</td>\n      <td>https://ppb.hendrikklug.xyz/aa9810d2fb6d.pdf</td>\n    </tr>\n  </tbody>\n</table>\n</div>"
     },
     "execution_count": 7,
     "metadata": {},
     "output_type": "execute_result"
    }
   ],
   "source": [
    "df.loc[(df['method'].str.startswith('planar_mixture')) & (df['num_flows'])  & (df['num_mods'] > 1)][[*show_cols]].sort_values(by=['score'], ascending=False).head(3)"
   ],
   "metadata": {
    "collapsed": false,
    "pycharm": {
     "name": "#%%\n"
    }
   }
  },
  {
   "cell_type": "markdown",
   "source": [
    "### without flows\n",
    "looks good without flows."
   ],
   "metadata": {
    "collapsed": false
   }
  },
  {
   "cell_type": "code",
   "execution_count": 8,
   "outputs": [
    {
     "data": {
      "text/plain": "       score  amortized_flow            method end_epoch  class_dim  beta  \\\n47  4.557278             NaN  planar_mixture_0        98      512.0   1.0   \n45  4.304789             NaN  planar_mixture_0        98      512.0   1.0   \n46  4.272472             NaN  planar_mixture_0        98      512.0   1.0   \n\n    weighted_mixture  num_mods  \\\n47               0.0       3.0   \n45               1.0       3.0   \n46               1.0       3.0   \n\n                                                  _id  score_lr  score_gen  \\\n47  polymnist_planar_mixture_2021_05_25_20_25_27_6...  2.879633  10.792200   \n45  polymnist_planar_mixture_2021_05_25_09_30_13_8...  2.668200  10.246167   \n46  polymnist_planar_mixture_2021_05_25_17_39_12_8...  2.609267  10.208150   \n\n    score_prd    version                                    expvis_url  \n47        0.0  0.0.5-dev  https://ppb.hendrikklug.xyz/ecba70288b22.pdf  \n45        0.0  0.0.5-dev  https://ppb.hendrikklug.xyz/d4a404ff3418.pdf  \n46        0.0  0.0.5-dev  https://ppb.hendrikklug.xyz/b3ae6e3c75ad.pdf  ",
      "text/html": "<div>\n<style scoped>\n    .dataframe tbody tr th:only-of-type {\n        vertical-align: middle;\n    }\n\n    .dataframe tbody tr th {\n        vertical-align: top;\n    }\n\n    .dataframe thead th {\n        text-align: right;\n    }\n</style>\n<table border=\"1\" class=\"dataframe\">\n  <thead>\n    <tr style=\"text-align: right;\">\n      <th></th>\n      <th>score</th>\n      <th>amortized_flow</th>\n      <th>method</th>\n      <th>end_epoch</th>\n      <th>class_dim</th>\n      <th>beta</th>\n      <th>weighted_mixture</th>\n      <th>num_mods</th>\n      <th>_id</th>\n      <th>score_lr</th>\n      <th>score_gen</th>\n      <th>score_prd</th>\n      <th>version</th>\n      <th>expvis_url</th>\n    </tr>\n  </thead>\n  <tbody>\n    <tr>\n      <th>47</th>\n      <td>4.557278</td>\n      <td>NaN</td>\n      <td>planar_mixture_0</td>\n      <td>98</td>\n      <td>512.0</td>\n      <td>1.0</td>\n      <td>0.0</td>\n      <td>3.0</td>\n      <td>polymnist_planar_mixture_2021_05_25_20_25_27_6...</td>\n      <td>2.879633</td>\n      <td>10.792200</td>\n      <td>0.0</td>\n      <td>0.0.5-dev</td>\n      <td>https://ppb.hendrikklug.xyz/ecba70288b22.pdf</td>\n    </tr>\n    <tr>\n      <th>45</th>\n      <td>4.304789</td>\n      <td>NaN</td>\n      <td>planar_mixture_0</td>\n      <td>98</td>\n      <td>512.0</td>\n      <td>1.0</td>\n      <td>1.0</td>\n      <td>3.0</td>\n      <td>polymnist_planar_mixture_2021_05_25_09_30_13_8...</td>\n      <td>2.668200</td>\n      <td>10.246167</td>\n      <td>0.0</td>\n      <td>0.0.5-dev</td>\n      <td>https://ppb.hendrikklug.xyz/d4a404ff3418.pdf</td>\n    </tr>\n    <tr>\n      <th>46</th>\n      <td>4.272472</td>\n      <td>NaN</td>\n      <td>planar_mixture_0</td>\n      <td>98</td>\n      <td>512.0</td>\n      <td>1.0</td>\n      <td>1.0</td>\n      <td>3.0</td>\n      <td>polymnist_planar_mixture_2021_05_25_17_39_12_8...</td>\n      <td>2.609267</td>\n      <td>10.208150</td>\n      <td>0.0</td>\n      <td>0.0.5-dev</td>\n      <td>https://ppb.hendrikklug.xyz/b3ae6e3c75ad.pdf</td>\n    </tr>\n  </tbody>\n</table>\n</div>"
     },
     "execution_count": 8,
     "metadata": {},
     "output_type": "execute_result"
    }
   ],
   "source": [
    "df.loc[(df['method'].str.startswith('planar_mixture')) & (df['num_flows'] == 0) ][[*show_cols]].sort_values(by=['score'], ascending=False).head(3)"
   ],
   "metadata": {
    "collapsed": false,
    "pycharm": {
     "name": "#%%\n"
    }
   }
  },
  {
   "cell_type": "markdown",
   "source": [
    "### 1 mod"
   ],
   "metadata": {
    "collapsed": false,
    "pycharm": {
     "name": "#%% md\n"
    }
   }
  },
  {
   "cell_type": "code",
   "execution_count": 9,
   "outputs": [
    {
     "data": {
      "text/plain": "       score  amortized_flow            method end_epoch  class_dim  beta  \\\n14  0.736833             NaN  planar_mixture_0       299      512.0   2.5   \n17  0.714333             NaN  planar_mixture_0       299      512.0   2.5   \n18  0.714083             NaN  planar_mixture_0       299      512.0   2.5   \n\n    weighted_mixture  num_mods  \\\n14               NaN       1.0   \n17               NaN       1.0   \n18               NaN       1.0   \n\n                                                  _id  score_lr  score_gen  \\\n14  polymnist_planar_mixture_2021_05_12_20_40_24_4...  0.113950   0.622883   \n17  polymnist_planar_mixture_2021_05_14_15_57_55_7...  0.106133   0.608200   \n18  polymnist_planar_mixture_2021_05_14_21_10_44_2...  0.107267   0.606817   \n\n    score_prd    version                                    expvis_url  \n14   0.289370  0.0.2-dev  https://ppb.hendrikklug.xyz/df669e71d32f.pdf  \n17   0.321916  0.0.2-dev                                           NaN  \n18   0.313426  0.0.3-dev                                           NaN  ",
      "text/html": "<div>\n<style scoped>\n    .dataframe tbody tr th:only-of-type {\n        vertical-align: middle;\n    }\n\n    .dataframe tbody tr th {\n        vertical-align: top;\n    }\n\n    .dataframe thead th {\n        text-align: right;\n    }\n</style>\n<table border=\"1\" class=\"dataframe\">\n  <thead>\n    <tr style=\"text-align: right;\">\n      <th></th>\n      <th>score</th>\n      <th>amortized_flow</th>\n      <th>method</th>\n      <th>end_epoch</th>\n      <th>class_dim</th>\n      <th>beta</th>\n      <th>weighted_mixture</th>\n      <th>num_mods</th>\n      <th>_id</th>\n      <th>score_lr</th>\n      <th>score_gen</th>\n      <th>score_prd</th>\n      <th>version</th>\n      <th>expvis_url</th>\n    </tr>\n  </thead>\n  <tbody>\n    <tr>\n      <th>14</th>\n      <td>0.736833</td>\n      <td>NaN</td>\n      <td>planar_mixture_0</td>\n      <td>299</td>\n      <td>512.0</td>\n      <td>2.5</td>\n      <td>NaN</td>\n      <td>1.0</td>\n      <td>polymnist_planar_mixture_2021_05_12_20_40_24_4...</td>\n      <td>0.113950</td>\n      <td>0.622883</td>\n      <td>0.289370</td>\n      <td>0.0.2-dev</td>\n      <td>https://ppb.hendrikklug.xyz/df669e71d32f.pdf</td>\n    </tr>\n    <tr>\n      <th>17</th>\n      <td>0.714333</td>\n      <td>NaN</td>\n      <td>planar_mixture_0</td>\n      <td>299</td>\n      <td>512.0</td>\n      <td>2.5</td>\n      <td>NaN</td>\n      <td>1.0</td>\n      <td>polymnist_planar_mixture_2021_05_14_15_57_55_7...</td>\n      <td>0.106133</td>\n      <td>0.608200</td>\n      <td>0.321916</td>\n      <td>0.0.2-dev</td>\n      <td>NaN</td>\n    </tr>\n    <tr>\n      <th>18</th>\n      <td>0.714083</td>\n      <td>NaN</td>\n      <td>planar_mixture_0</td>\n      <td>299</td>\n      <td>512.0</td>\n      <td>2.5</td>\n      <td>NaN</td>\n      <td>1.0</td>\n      <td>polymnist_planar_mixture_2021_05_14_21_10_44_2...</td>\n      <td>0.107267</td>\n      <td>0.606817</td>\n      <td>0.313426</td>\n      <td>0.0.3-dev</td>\n      <td>NaN</td>\n    </tr>\n  </tbody>\n</table>\n</div>"
     },
     "execution_count": 9,
     "metadata": {},
     "output_type": "execute_result"
    }
   ],
   "source": [
    "df.loc[(df['method'].str.startswith('planar_mixture')) & (df['num_mods'] == 1) ][[*show_cols]].sort_values(by=['score'], ascending=False).head(3)"
   ],
   "metadata": {
    "collapsed": false,
    "pycharm": {
     "name": "#%%\n"
    }
   }
  },
  {
   "cell_type": "markdown",
   "source": [
    "## Without amortized flows"
   ],
   "metadata": {
    "collapsed": false,
    "pycharm": {
     "name": "#%% md\n"
    }
   }
  },
  {
   "cell_type": "code",
   "execution_count": 10,
   "outputs": [
    {
     "data": {
      "text/plain": "       score  amortized_flow             method end_epoch  class_dim  beta  \\\n61  4.937439             0.0   planar_mixture_5       599      256.0   0.5   \n53  4.537850             0.0   planar_mixture_5        99      256.0   1.0   \n65  4.414906             0.0   planar_mixture_5       599      256.0   1.0   \n68  4.224222             0.0   planar_mixture_1        99      256.0   1.0   \n69  4.218622             0.0  planar_mixture_10        99      256.0   1.0   \n83  4.180678             0.0   planar_mixture_5      1999      256.0   1.0   \n70  4.161256             0.0  planar_mixture_20        99      256.0   1.0   \n67  4.128467             0.0   planar_mixture_5        99      128.0   1.0   \n52  4.055856             0.0   planar_mixture_5        99      256.0   1.0   \n66  4.022578             0.0   planar_mixture_5        99       64.0   1.0   \n\n    weighted_mixture  num_mods  \\\n61               0.0       3.0   \n53               1.0       3.0   \n65               0.0       3.0   \n68               0.0       3.0   \n69               0.0       3.0   \n83               0.0       3.0   \n70               0.0       3.0   \n67               0.0       3.0   \n52               0.0       3.0   \n66               0.0       3.0   \n\n                                                  _id  score_lr  score_gen  \\\n61  polymnist_planar_mixture_2021_05_28_14_53_44_1...  2.918333  11.893983   \n53  polymnist_planar_mixture_2021_05_27_14_32_55_1...  3.104200  10.509350   \n65  polymnist_planar_mixture_2021_05_28_14_54_01_0...  2.803883  10.440833   \n68  polymnist_planar_mixture_2021_05_31_08_54_11_2...  2.546450  10.126217   \n69  polymnist_planar_mixture_2021_05_31_12_05_33_6...  2.610417  10.045450   \n83  polymnist_planar_mixture_2021_06_02_14_51_16_6...  2.778600   9.763433   \n70  polymnist_planar_mixture_2021_05_31_15_45_48_1...  2.432133  10.051633   \n67  polymnist_planar_mixture_2021_05_30_19_31_38_9...  2.491100   9.894300   \n52  polymnist_planar_mixture_2021_05_27_10_19_37_4...  2.375800   9.791767   \n66  polymnist_planar_mixture_2021_05_30_16_01_45_1...  2.765000   9.302733   \n\n    score_prd    version                                    expvis_url  \n61   1.469842  0.0.5-dev  https://ppb.hendrikklug.xyz/2abccea703f7.pdf  \n53   0.458513  0.0.5-dev  https://ppb.hendrikklug.xyz/79f89ed3f3c7.pdf  \n65   1.176529  0.0.5-dev  https://ppb.hendrikklug.xyz/7d211fdb5840.pdf  \n68   0.967555  0.0.5-dev  https://ppb.hendrikklug.xyz/1f71d7551482.pdf  \n69   0.987330  0.0.5-dev  https://ppb.hendrikklug.xyz/f4eb78c485f5.pdf  \n83   1.206549  0.0.7-dev  https://ppb.hendrikklug.xyz/3f77e986f5cc.pdf  \n70   0.881162  0.0.6-dev                                           NaN  \n67   0.752883  0.0.5-dev  https://ppb.hendrikklug.xyz/c450545ac62e.pdf  \n52   0.971732  0.0.5-dev  https://ppb.hendrikklug.xyz/763904fafd25.pdf  \n66   0.494348  0.0.5-dev  https://ppb.hendrikklug.xyz/3b56de32bea9.pdf  ",
      "text/html": "<div>\n<style scoped>\n    .dataframe tbody tr th:only-of-type {\n        vertical-align: middle;\n    }\n\n    .dataframe tbody tr th {\n        vertical-align: top;\n    }\n\n    .dataframe thead th {\n        text-align: right;\n    }\n</style>\n<table border=\"1\" class=\"dataframe\">\n  <thead>\n    <tr style=\"text-align: right;\">\n      <th></th>\n      <th>score</th>\n      <th>amortized_flow</th>\n      <th>method</th>\n      <th>end_epoch</th>\n      <th>class_dim</th>\n      <th>beta</th>\n      <th>weighted_mixture</th>\n      <th>num_mods</th>\n      <th>_id</th>\n      <th>score_lr</th>\n      <th>score_gen</th>\n      <th>score_prd</th>\n      <th>version</th>\n      <th>expvis_url</th>\n    </tr>\n  </thead>\n  <tbody>\n    <tr>\n      <th>61</th>\n      <td>4.937439</td>\n      <td>0.0</td>\n      <td>planar_mixture_5</td>\n      <td>599</td>\n      <td>256.0</td>\n      <td>0.5</td>\n      <td>0.0</td>\n      <td>3.0</td>\n      <td>polymnist_planar_mixture_2021_05_28_14_53_44_1...</td>\n      <td>2.918333</td>\n      <td>11.893983</td>\n      <td>1.469842</td>\n      <td>0.0.5-dev</td>\n      <td>https://ppb.hendrikklug.xyz/2abccea703f7.pdf</td>\n    </tr>\n    <tr>\n      <th>53</th>\n      <td>4.537850</td>\n      <td>0.0</td>\n      <td>planar_mixture_5</td>\n      <td>99</td>\n      <td>256.0</td>\n      <td>1.0</td>\n      <td>1.0</td>\n      <td>3.0</td>\n      <td>polymnist_planar_mixture_2021_05_27_14_32_55_1...</td>\n      <td>3.104200</td>\n      <td>10.509350</td>\n      <td>0.458513</td>\n      <td>0.0.5-dev</td>\n      <td>https://ppb.hendrikklug.xyz/79f89ed3f3c7.pdf</td>\n    </tr>\n    <tr>\n      <th>65</th>\n      <td>4.414906</td>\n      <td>0.0</td>\n      <td>planar_mixture_5</td>\n      <td>599</td>\n      <td>256.0</td>\n      <td>1.0</td>\n      <td>0.0</td>\n      <td>3.0</td>\n      <td>polymnist_planar_mixture_2021_05_28_14_54_01_0...</td>\n      <td>2.803883</td>\n      <td>10.440833</td>\n      <td>1.176529</td>\n      <td>0.0.5-dev</td>\n      <td>https://ppb.hendrikklug.xyz/7d211fdb5840.pdf</td>\n    </tr>\n    <tr>\n      <th>68</th>\n      <td>4.224222</td>\n      <td>0.0</td>\n      <td>planar_mixture_1</td>\n      <td>99</td>\n      <td>256.0</td>\n      <td>1.0</td>\n      <td>0.0</td>\n      <td>3.0</td>\n      <td>polymnist_planar_mixture_2021_05_31_08_54_11_2...</td>\n      <td>2.546450</td>\n      <td>10.126217</td>\n      <td>0.967555</td>\n      <td>0.0.5-dev</td>\n      <td>https://ppb.hendrikklug.xyz/1f71d7551482.pdf</td>\n    </tr>\n    <tr>\n      <th>69</th>\n      <td>4.218622</td>\n      <td>0.0</td>\n      <td>planar_mixture_10</td>\n      <td>99</td>\n      <td>256.0</td>\n      <td>1.0</td>\n      <td>0.0</td>\n      <td>3.0</td>\n      <td>polymnist_planar_mixture_2021_05_31_12_05_33_6...</td>\n      <td>2.610417</td>\n      <td>10.045450</td>\n      <td>0.987330</td>\n      <td>0.0.5-dev</td>\n      <td>https://ppb.hendrikklug.xyz/f4eb78c485f5.pdf</td>\n    </tr>\n    <tr>\n      <th>83</th>\n      <td>4.180678</td>\n      <td>0.0</td>\n      <td>planar_mixture_5</td>\n      <td>1999</td>\n      <td>256.0</td>\n      <td>1.0</td>\n      <td>0.0</td>\n      <td>3.0</td>\n      <td>polymnist_planar_mixture_2021_06_02_14_51_16_6...</td>\n      <td>2.778600</td>\n      <td>9.763433</td>\n      <td>1.206549</td>\n      <td>0.0.7-dev</td>\n      <td>https://ppb.hendrikklug.xyz/3f77e986f5cc.pdf</td>\n    </tr>\n    <tr>\n      <th>70</th>\n      <td>4.161256</td>\n      <td>0.0</td>\n      <td>planar_mixture_20</td>\n      <td>99</td>\n      <td>256.0</td>\n      <td>1.0</td>\n      <td>0.0</td>\n      <td>3.0</td>\n      <td>polymnist_planar_mixture_2021_05_31_15_45_48_1...</td>\n      <td>2.432133</td>\n      <td>10.051633</td>\n      <td>0.881162</td>\n      <td>0.0.6-dev</td>\n      <td>NaN</td>\n    </tr>\n    <tr>\n      <th>67</th>\n      <td>4.128467</td>\n      <td>0.0</td>\n      <td>planar_mixture_5</td>\n      <td>99</td>\n      <td>128.0</td>\n      <td>1.0</td>\n      <td>0.0</td>\n      <td>3.0</td>\n      <td>polymnist_planar_mixture_2021_05_30_19_31_38_9...</td>\n      <td>2.491100</td>\n      <td>9.894300</td>\n      <td>0.752883</td>\n      <td>0.0.5-dev</td>\n      <td>https://ppb.hendrikklug.xyz/c450545ac62e.pdf</td>\n    </tr>\n    <tr>\n      <th>52</th>\n      <td>4.055856</td>\n      <td>0.0</td>\n      <td>planar_mixture_5</td>\n      <td>99</td>\n      <td>256.0</td>\n      <td>1.0</td>\n      <td>0.0</td>\n      <td>3.0</td>\n      <td>polymnist_planar_mixture_2021_05_27_10_19_37_4...</td>\n      <td>2.375800</td>\n      <td>9.791767</td>\n      <td>0.971732</td>\n      <td>0.0.5-dev</td>\n      <td>https://ppb.hendrikklug.xyz/763904fafd25.pdf</td>\n    </tr>\n    <tr>\n      <th>66</th>\n      <td>4.022578</td>\n      <td>0.0</td>\n      <td>planar_mixture_5</td>\n      <td>99</td>\n      <td>64.0</td>\n      <td>1.0</td>\n      <td>0.0</td>\n      <td>3.0</td>\n      <td>polymnist_planar_mixture_2021_05_30_16_01_45_1...</td>\n      <td>2.765000</td>\n      <td>9.302733</td>\n      <td>0.494348</td>\n      <td>0.0.5-dev</td>\n      <td>https://ppb.hendrikklug.xyz/3b56de32bea9.pdf</td>\n    </tr>\n  </tbody>\n</table>\n</div>"
     },
     "execution_count": 10,
     "metadata": {},
     "output_type": "execute_result"
    }
   ],
   "source": [
    "df.loc[(df['method'].str.startswith('planar_mixture'))&(df['amortized_flow'] == 0.0)][[*show_cols]].sort_values(by=['score'], ascending=False).head(10)"
   ],
   "metadata": {
    "collapsed": false,
    "pycharm": {
     "name": "#%%\n"
    }
   }
  },
  {
   "cell_type": "markdown",
   "source": [
    "# Method: pfom\n"
   ],
   "metadata": {
    "collapsed": false,
    "pycharm": {
     "name": "#%% md\n"
    }
   }
  },
  {
   "cell_type": "code",
   "execution_count": 11,
   "outputs": [
    {
     "data": {
      "text/plain": "       score  amortized_flow  method end_epoch  class_dim  beta  \\\n35  6.324189             NaN  pfom_5        99      512.0   0.0   \n76  4.913078             0.0  pfom_5       599      512.0   1.0   \n82  4.886306             0.0  pfom_5      1999      256.0   1.0   \n74  4.725467             0.0  pfom_5        99      256.0   0.5   \n62  4.723506             0.0  pfom_5       599      512.0   0.5   \n90  4.481139             0.0  pfom_5        99      256.0   1.0   \n77  4.460817             0.0  pfom_0        99      256.0   1.0   \n57  4.350156             0.0  pfom_5        99      256.0   1.0   \n60  4.277417             0.0  pfom_5        99      256.0   1.0   \n64  4.049817             0.0  pfom_5       599      512.0   1.0   \n72  3.908611             0.0  pfom_5        99      128.0   1.0   \n80  3.894394             0.0  pfom_5        99      256.0   1.0   \n78  3.814894             0.0  pfom_5        99      256.0   1.0   \n71  3.373983             0.0  pfom_5        99      256.0   1.0   \n31  2.992900             NaN  pfom_0        99      512.0   2.5   \n86  1.903933             0.0  pfom_5        99      256.0   1.0   \n73  1.877717             0.0  pfom_5        99      512.0   1.0   \n79  1.655350             1.0  pfom_5        99      256.0   1.0   \n75  1.616189             0.0  pfom_5        99      256.0   2.5   \n81  1.528189             1.0  pfom_5        99      256.0   1.0   \n63  1.122506             0.0  pfom_5       599      512.0   2.5   \n84  0.969822             0.0  pfom_5      1999      256.0   1.0   \n37  0.952944             NaN  pfom_5        99      512.0   1.0   \n49  0.949911             NaN  pfom_5        99      512.0   1.0   \n33  0.948644             NaN  pfom_5        99      512.0   2.5   \n36  0.948539             NaN  pfom_5        99      512.0   1.0   \n32  0.945367             NaN  pfom_5        99      512.0   2.5   \n34  0.216883             NaN  pfom_5        49      512.0   2.5   \n\n    weighted_mixture  num_mods                                        _id  \\\n35               1.0       3.0  polymnist_pfom_2021_05_21_09_59_39_321199   \n76               0.0       3.0  polymnist_pfom_2021_06_01_22_06_59_642354   \n82               0.0       3.0  polymnist_pfom_2021_06_02_14_55_01_470328   \n74               0.0       3.0  polymnist_pfom_2021_06_02_05_14_34_488367   \n62               0.0       3.0  polymnist_pfom_2021_05_28_14_54_29_012526   \n90               0.0       3.0  polymnist_pfom_2021_06_10_10_59_17_258140   \n77               0.0       3.0  polymnist_pfom_2021_06_02_12_03_22_476014   \n57               0.0       3.0  polymnist_pfom_2021_05_28_09_08_03_567569   \n60               1.0       3.0  polymnist_pfom_2021_05_28_14_44_39_476656   \n64               0.0       3.0  polymnist_pfom_2021_05_28_14_54_29_012764   \n72               0.0       3.0  polymnist_pfom_2021_06_01_22_01_36_192602   \n80               1.0       3.0  polymnist_pfom_2021_06_03_19_01_48_187969   \n78               1.0       3.0  polymnist_pfom_2021_06_02_14_32_30_837319   \n71               0.0       3.0  polymnist_pfom_2021_06_01_16_13_13_192650   \n31               0.0       3.0  polymnist_pfom_2021_05_20_16_48_25_478210   \n86               0.0       3.0  polymnist_pfom_2021_06_09_13_11_16_414931   \n73               0.0       3.0  polymnist_pfom_2021_06_02_01_50_23_727243   \n79               0.0       3.0  polymnist_pfom_2021_06_02_17_53_39_381956   \n75               0.0       3.0  polymnist_pfom_2021_06_02_08_42_23_806375   \n81               0.0       3.0  polymnist_pfom_2021_06_03_22_38_45_305102   \n63               0.0       3.0  polymnist_pfom_2021_05_28_14_54_40_964819   \n84               0.0       3.0  polymnist_pfom_2021_06_05_22_48_41_678669   \n37               1.0       3.0  polymnist_pfom_2021_05_22_11_53_24_896840   \n49               0.0       3.0  polymnist_pfom_2021_05_26_09_17_02_513491   \n33               0.0       3.0  polymnist_pfom_2021_05_20_20_27_06_214720   \n36               1.0       3.0  polymnist_pfom_2021_05_21_15_38_47_019674   \n32               1.0       3.0  polymnist_pfom_2021_05_20_19_25_21_500572   \n34               1.0       1.0  polymnist_pfom_2021_05_21_09_41_05_549122   \n\n    score_lr  score_gen  score_prd    version  \\\n35  5.258067  13.714500   1.641897  0.0.5-dev   \n76  2.427533  12.311700   1.096989  0.0.7-dev   \n82  2.274267  12.384650   2.153740  0.0.7-dev   \n74  2.856117  11.320283   1.024599  0.0.7-dev   \n62  1.840167  12.330350   1.050978  0.0.5-dev   \n90  3.701900   9.741517   0.627192  0.0.5-dev   \n77  2.431450  10.951000   0.916068  0.0.7-dev   \n57  3.694050   9.356417   0.401679  0.0.5-dev   \n60  3.669750   9.162500   0.575645  0.0.5-dev   \n64  1.242100  10.907350   0.526863  0.0.5-dev   \n72  2.313283   9.412550   0.531228  0.0.7-dev   \n80  2.329033   9.354150   0.454715  0.0.8-dev   \n78  2.537583   8.907100   0.300729  0.0.7-dev   \n71  2.027633   8.094317   0.344550  0.0.7-dev   \n31  1.766483   7.212217   0.187531  0.0.5-dev   \n86  1.141017   4.570783   0.191319  0.0.9-dev   \n73  1.114833   4.518317   0.149780  0.0.7-dev   \n79  1.242117   3.723933   0.019812  0.0.7-dev   \n75  1.136217   3.712350   0.072888  0.0.7-dev   \n81  0.990167   3.594400   0.043386  0.0.8-dev   \n63  0.745617   2.621900   0.053929  0.0.5-dev   \n84  0.704667   2.204800   0.010850  0.0.8-dev   \n37  0.698983   2.159850   0.009093  0.0.5-dev   \n49  0.708567   2.141167   0.001628  0.0.5-dev   \n33  0.703383   2.142550   0.000000  0.0.5-dev   \n36  0.699867   2.145750   0.003110  0.0.5-dev   \n32  0.699233   2.136867   0.000000  0.0.5-dev   \n34  0.112383   0.104500   0.000000  0.0.5-dev   \n\n                                      expvis_url  \n35  https://ppb.hendrikklug.xyz/4ad1b0c934d2.pdf  \n76  https://ppb.hendrikklug.xyz/95e4bf95f5c7.pdf  \n82  https://ppb.hendrikklug.xyz/f1dd92c11883.pdf  \n74  https://ppb.hendrikklug.xyz/af7e76eaa8fd.pdf  \n62  https://ppb.hendrikklug.xyz/949b8297699f.pdf  \n90  https://ppb.hendrikklug.xyz/1420e90299eb.pdf  \n77  https://ppb.hendrikklug.xyz/4f23e2a615e1.pdf  \n57  https://ppb.hendrikklug.xyz/dd207fbd2e98.pdf  \n60  https://ppb.hendrikklug.xyz/68dafbd44b1f.pdf  \n64  https://ppb.hendrikklug.xyz/be3630d3e0d6.pdf  \n72  https://ppb.hendrikklug.xyz/0ba7b499bd51.pdf  \n80  https://ppb.hendrikklug.xyz/6a16bf2ddc93.pdf  \n78  https://ppb.hendrikklug.xyz/27cccadc655b.pdf  \n71  https://ppb.hendrikklug.xyz/2a754c1d71b7.pdf  \n31  https://ppb.hendrikklug.xyz/9ba46d23db0a.pdf  \n86  https://ppb.hendrikklug.xyz/a7c575f3c886.pdf  \n73  https://ppb.hendrikklug.xyz/b2cdf3775059.pdf  \n79  https://ppb.hendrikklug.xyz/2c9782f9ddd1.pdf  \n75  https://ppb.hendrikklug.xyz/15715723e6f3.pdf  \n81  https://ppb.hendrikklug.xyz/1df13f8ff6f1.pdf  \n63  https://ppb.hendrikklug.xyz/80136fea2f3c.pdf  \n84  https://ppb.hendrikklug.xyz/e94dd67d0ae8.pdf  \n37  https://ppb.hendrikklug.xyz/6fc8853f9988.pdf  \n49  https://ppb.hendrikklug.xyz/dbdb75548081.pdf  \n33  https://ppb.hendrikklug.xyz/69e2e11db816.pdf  \n36                                           NaN  \n32  https://ppb.hendrikklug.xyz/ce456ef3a982.pdf  \n34                                           NaN  ",
      "text/html": "<div>\n<style scoped>\n    .dataframe tbody tr th:only-of-type {\n        vertical-align: middle;\n    }\n\n    .dataframe tbody tr th {\n        vertical-align: top;\n    }\n\n    .dataframe thead th {\n        text-align: right;\n    }\n</style>\n<table border=\"1\" class=\"dataframe\">\n  <thead>\n    <tr style=\"text-align: right;\">\n      <th></th>\n      <th>score</th>\n      <th>amortized_flow</th>\n      <th>method</th>\n      <th>end_epoch</th>\n      <th>class_dim</th>\n      <th>beta</th>\n      <th>weighted_mixture</th>\n      <th>num_mods</th>\n      <th>_id</th>\n      <th>score_lr</th>\n      <th>score_gen</th>\n      <th>score_prd</th>\n      <th>version</th>\n      <th>expvis_url</th>\n    </tr>\n  </thead>\n  <tbody>\n    <tr>\n      <th>35</th>\n      <td>6.324189</td>\n      <td>NaN</td>\n      <td>pfom_5</td>\n      <td>99</td>\n      <td>512.0</td>\n      <td>0.0</td>\n      <td>1.0</td>\n      <td>3.0</td>\n      <td>polymnist_pfom_2021_05_21_09_59_39_321199</td>\n      <td>5.258067</td>\n      <td>13.714500</td>\n      <td>1.641897</td>\n      <td>0.0.5-dev</td>\n      <td>https://ppb.hendrikklug.xyz/4ad1b0c934d2.pdf</td>\n    </tr>\n    <tr>\n      <th>76</th>\n      <td>4.913078</td>\n      <td>0.0</td>\n      <td>pfom_5</td>\n      <td>599</td>\n      <td>512.0</td>\n      <td>1.0</td>\n      <td>0.0</td>\n      <td>3.0</td>\n      <td>polymnist_pfom_2021_06_01_22_06_59_642354</td>\n      <td>2.427533</td>\n      <td>12.311700</td>\n      <td>1.096989</td>\n      <td>0.0.7-dev</td>\n      <td>https://ppb.hendrikklug.xyz/95e4bf95f5c7.pdf</td>\n    </tr>\n    <tr>\n      <th>82</th>\n      <td>4.886306</td>\n      <td>0.0</td>\n      <td>pfom_5</td>\n      <td>1999</td>\n      <td>256.0</td>\n      <td>1.0</td>\n      <td>0.0</td>\n      <td>3.0</td>\n      <td>polymnist_pfom_2021_06_02_14_55_01_470328</td>\n      <td>2.274267</td>\n      <td>12.384650</td>\n      <td>2.153740</td>\n      <td>0.0.7-dev</td>\n      <td>https://ppb.hendrikklug.xyz/f1dd92c11883.pdf</td>\n    </tr>\n    <tr>\n      <th>74</th>\n      <td>4.725467</td>\n      <td>0.0</td>\n      <td>pfom_5</td>\n      <td>99</td>\n      <td>256.0</td>\n      <td>0.5</td>\n      <td>0.0</td>\n      <td>3.0</td>\n      <td>polymnist_pfom_2021_06_02_05_14_34_488367</td>\n      <td>2.856117</td>\n      <td>11.320283</td>\n      <td>1.024599</td>\n      <td>0.0.7-dev</td>\n      <td>https://ppb.hendrikklug.xyz/af7e76eaa8fd.pdf</td>\n    </tr>\n    <tr>\n      <th>62</th>\n      <td>4.723506</td>\n      <td>0.0</td>\n      <td>pfom_5</td>\n      <td>599</td>\n      <td>512.0</td>\n      <td>0.5</td>\n      <td>0.0</td>\n      <td>3.0</td>\n      <td>polymnist_pfom_2021_05_28_14_54_29_012526</td>\n      <td>1.840167</td>\n      <td>12.330350</td>\n      <td>1.050978</td>\n      <td>0.0.5-dev</td>\n      <td>https://ppb.hendrikklug.xyz/949b8297699f.pdf</td>\n    </tr>\n    <tr>\n      <th>90</th>\n      <td>4.481139</td>\n      <td>0.0</td>\n      <td>pfom_5</td>\n      <td>99</td>\n      <td>256.0</td>\n      <td>1.0</td>\n      <td>0.0</td>\n      <td>3.0</td>\n      <td>polymnist_pfom_2021_06_10_10_59_17_258140</td>\n      <td>3.701900</td>\n      <td>9.741517</td>\n      <td>0.627192</td>\n      <td>0.0.5-dev</td>\n      <td>https://ppb.hendrikklug.xyz/1420e90299eb.pdf</td>\n    </tr>\n    <tr>\n      <th>77</th>\n      <td>4.460817</td>\n      <td>0.0</td>\n      <td>pfom_0</td>\n      <td>99</td>\n      <td>256.0</td>\n      <td>1.0</td>\n      <td>0.0</td>\n      <td>3.0</td>\n      <td>polymnist_pfom_2021_06_02_12_03_22_476014</td>\n      <td>2.431450</td>\n      <td>10.951000</td>\n      <td>0.916068</td>\n      <td>0.0.7-dev</td>\n      <td>https://ppb.hendrikklug.xyz/4f23e2a615e1.pdf</td>\n    </tr>\n    <tr>\n      <th>57</th>\n      <td>4.350156</td>\n      <td>0.0</td>\n      <td>pfom_5</td>\n      <td>99</td>\n      <td>256.0</td>\n      <td>1.0</td>\n      <td>0.0</td>\n      <td>3.0</td>\n      <td>polymnist_pfom_2021_05_28_09_08_03_567569</td>\n      <td>3.694050</td>\n      <td>9.356417</td>\n      <td>0.401679</td>\n      <td>0.0.5-dev</td>\n      <td>https://ppb.hendrikklug.xyz/dd207fbd2e98.pdf</td>\n    </tr>\n    <tr>\n      <th>60</th>\n      <td>4.277417</td>\n      <td>0.0</td>\n      <td>pfom_5</td>\n      <td>99</td>\n      <td>256.0</td>\n      <td>1.0</td>\n      <td>1.0</td>\n      <td>3.0</td>\n      <td>polymnist_pfom_2021_05_28_14_44_39_476656</td>\n      <td>3.669750</td>\n      <td>9.162500</td>\n      <td>0.575645</td>\n      <td>0.0.5-dev</td>\n      <td>https://ppb.hendrikklug.xyz/68dafbd44b1f.pdf</td>\n    </tr>\n    <tr>\n      <th>64</th>\n      <td>4.049817</td>\n      <td>0.0</td>\n      <td>pfom_5</td>\n      <td>599</td>\n      <td>512.0</td>\n      <td>1.0</td>\n      <td>0.0</td>\n      <td>3.0</td>\n      <td>polymnist_pfom_2021_05_28_14_54_29_012764</td>\n      <td>1.242100</td>\n      <td>10.907350</td>\n      <td>0.526863</td>\n      <td>0.0.5-dev</td>\n      <td>https://ppb.hendrikklug.xyz/be3630d3e0d6.pdf</td>\n    </tr>\n    <tr>\n      <th>72</th>\n      <td>3.908611</td>\n      <td>0.0</td>\n      <td>pfom_5</td>\n      <td>99</td>\n      <td>128.0</td>\n      <td>1.0</td>\n      <td>0.0</td>\n      <td>3.0</td>\n      <td>polymnist_pfom_2021_06_01_22_01_36_192602</td>\n      <td>2.313283</td>\n      <td>9.412550</td>\n      <td>0.531228</td>\n      <td>0.0.7-dev</td>\n      <td>https://ppb.hendrikklug.xyz/0ba7b499bd51.pdf</td>\n    </tr>\n    <tr>\n      <th>80</th>\n      <td>3.894394</td>\n      <td>0.0</td>\n      <td>pfom_5</td>\n      <td>99</td>\n      <td>256.0</td>\n      <td>1.0</td>\n      <td>1.0</td>\n      <td>3.0</td>\n      <td>polymnist_pfom_2021_06_03_19_01_48_187969</td>\n      <td>2.329033</td>\n      <td>9.354150</td>\n      <td>0.454715</td>\n      <td>0.0.8-dev</td>\n      <td>https://ppb.hendrikklug.xyz/6a16bf2ddc93.pdf</td>\n    </tr>\n    <tr>\n      <th>78</th>\n      <td>3.814894</td>\n      <td>0.0</td>\n      <td>pfom_5</td>\n      <td>99</td>\n      <td>256.0</td>\n      <td>1.0</td>\n      <td>1.0</td>\n      <td>3.0</td>\n      <td>polymnist_pfom_2021_06_02_14_32_30_837319</td>\n      <td>2.537583</td>\n      <td>8.907100</td>\n      <td>0.300729</td>\n      <td>0.0.7-dev</td>\n      <td>https://ppb.hendrikklug.xyz/27cccadc655b.pdf</td>\n    </tr>\n    <tr>\n      <th>71</th>\n      <td>3.373983</td>\n      <td>0.0</td>\n      <td>pfom_5</td>\n      <td>99</td>\n      <td>256.0</td>\n      <td>1.0</td>\n      <td>0.0</td>\n      <td>3.0</td>\n      <td>polymnist_pfom_2021_06_01_16_13_13_192650</td>\n      <td>2.027633</td>\n      <td>8.094317</td>\n      <td>0.344550</td>\n      <td>0.0.7-dev</td>\n      <td>https://ppb.hendrikklug.xyz/2a754c1d71b7.pdf</td>\n    </tr>\n    <tr>\n      <th>31</th>\n      <td>2.992900</td>\n      <td>NaN</td>\n      <td>pfom_0</td>\n      <td>99</td>\n      <td>512.0</td>\n      <td>2.5</td>\n      <td>0.0</td>\n      <td>3.0</td>\n      <td>polymnist_pfom_2021_05_20_16_48_25_478210</td>\n      <td>1.766483</td>\n      <td>7.212217</td>\n      <td>0.187531</td>\n      <td>0.0.5-dev</td>\n      <td>https://ppb.hendrikklug.xyz/9ba46d23db0a.pdf</td>\n    </tr>\n    <tr>\n      <th>86</th>\n      <td>1.903933</td>\n      <td>0.0</td>\n      <td>pfom_5</td>\n      <td>99</td>\n      <td>256.0</td>\n      <td>1.0</td>\n      <td>0.0</td>\n      <td>3.0</td>\n      <td>polymnist_pfom_2021_06_09_13_11_16_414931</td>\n      <td>1.141017</td>\n      <td>4.570783</td>\n      <td>0.191319</td>\n      <td>0.0.9-dev</td>\n      <td>https://ppb.hendrikklug.xyz/a7c575f3c886.pdf</td>\n    </tr>\n    <tr>\n      <th>73</th>\n      <td>1.877717</td>\n      <td>0.0</td>\n      <td>pfom_5</td>\n      <td>99</td>\n      <td>512.0</td>\n      <td>1.0</td>\n      <td>0.0</td>\n      <td>3.0</td>\n      <td>polymnist_pfom_2021_06_02_01_50_23_727243</td>\n      <td>1.114833</td>\n      <td>4.518317</td>\n      <td>0.149780</td>\n      <td>0.0.7-dev</td>\n      <td>https://ppb.hendrikklug.xyz/b2cdf3775059.pdf</td>\n    </tr>\n    <tr>\n      <th>79</th>\n      <td>1.655350</td>\n      <td>1.0</td>\n      <td>pfom_5</td>\n      <td>99</td>\n      <td>256.0</td>\n      <td>1.0</td>\n      <td>0.0</td>\n      <td>3.0</td>\n      <td>polymnist_pfom_2021_06_02_17_53_39_381956</td>\n      <td>1.242117</td>\n      <td>3.723933</td>\n      <td>0.019812</td>\n      <td>0.0.7-dev</td>\n      <td>https://ppb.hendrikklug.xyz/2c9782f9ddd1.pdf</td>\n    </tr>\n    <tr>\n      <th>75</th>\n      <td>1.616189</td>\n      <td>0.0</td>\n      <td>pfom_5</td>\n      <td>99</td>\n      <td>256.0</td>\n      <td>2.5</td>\n      <td>0.0</td>\n      <td>3.0</td>\n      <td>polymnist_pfom_2021_06_02_08_42_23_806375</td>\n      <td>1.136217</td>\n      <td>3.712350</td>\n      <td>0.072888</td>\n      <td>0.0.7-dev</td>\n      <td>https://ppb.hendrikklug.xyz/15715723e6f3.pdf</td>\n    </tr>\n    <tr>\n      <th>81</th>\n      <td>1.528189</td>\n      <td>1.0</td>\n      <td>pfom_5</td>\n      <td>99</td>\n      <td>256.0</td>\n      <td>1.0</td>\n      <td>0.0</td>\n      <td>3.0</td>\n      <td>polymnist_pfom_2021_06_03_22_38_45_305102</td>\n      <td>0.990167</td>\n      <td>3.594400</td>\n      <td>0.043386</td>\n      <td>0.0.8-dev</td>\n      <td>https://ppb.hendrikklug.xyz/1df13f8ff6f1.pdf</td>\n    </tr>\n    <tr>\n      <th>63</th>\n      <td>1.122506</td>\n      <td>0.0</td>\n      <td>pfom_5</td>\n      <td>599</td>\n      <td>512.0</td>\n      <td>2.5</td>\n      <td>0.0</td>\n      <td>3.0</td>\n      <td>polymnist_pfom_2021_05_28_14_54_40_964819</td>\n      <td>0.745617</td>\n      <td>2.621900</td>\n      <td>0.053929</td>\n      <td>0.0.5-dev</td>\n      <td>https://ppb.hendrikklug.xyz/80136fea2f3c.pdf</td>\n    </tr>\n    <tr>\n      <th>84</th>\n      <td>0.969822</td>\n      <td>0.0</td>\n      <td>pfom_5</td>\n      <td>1999</td>\n      <td>256.0</td>\n      <td>1.0</td>\n      <td>0.0</td>\n      <td>3.0</td>\n      <td>polymnist_pfom_2021_06_05_22_48_41_678669</td>\n      <td>0.704667</td>\n      <td>2.204800</td>\n      <td>0.010850</td>\n      <td>0.0.8-dev</td>\n      <td>https://ppb.hendrikklug.xyz/e94dd67d0ae8.pdf</td>\n    </tr>\n    <tr>\n      <th>37</th>\n      <td>0.952944</td>\n      <td>NaN</td>\n      <td>pfom_5</td>\n      <td>99</td>\n      <td>512.0</td>\n      <td>1.0</td>\n      <td>1.0</td>\n      <td>3.0</td>\n      <td>polymnist_pfom_2021_05_22_11_53_24_896840</td>\n      <td>0.698983</td>\n      <td>2.159850</td>\n      <td>0.009093</td>\n      <td>0.0.5-dev</td>\n      <td>https://ppb.hendrikklug.xyz/6fc8853f9988.pdf</td>\n    </tr>\n    <tr>\n      <th>49</th>\n      <td>0.949911</td>\n      <td>NaN</td>\n      <td>pfom_5</td>\n      <td>99</td>\n      <td>512.0</td>\n      <td>1.0</td>\n      <td>0.0</td>\n      <td>3.0</td>\n      <td>polymnist_pfom_2021_05_26_09_17_02_513491</td>\n      <td>0.708567</td>\n      <td>2.141167</td>\n      <td>0.001628</td>\n      <td>0.0.5-dev</td>\n      <td>https://ppb.hendrikklug.xyz/dbdb75548081.pdf</td>\n    </tr>\n    <tr>\n      <th>33</th>\n      <td>0.948644</td>\n      <td>NaN</td>\n      <td>pfom_5</td>\n      <td>99</td>\n      <td>512.0</td>\n      <td>2.5</td>\n      <td>0.0</td>\n      <td>3.0</td>\n      <td>polymnist_pfom_2021_05_20_20_27_06_214720</td>\n      <td>0.703383</td>\n      <td>2.142550</td>\n      <td>0.000000</td>\n      <td>0.0.5-dev</td>\n      <td>https://ppb.hendrikklug.xyz/69e2e11db816.pdf</td>\n    </tr>\n    <tr>\n      <th>36</th>\n      <td>0.948539</td>\n      <td>NaN</td>\n      <td>pfom_5</td>\n      <td>99</td>\n      <td>512.0</td>\n      <td>1.0</td>\n      <td>1.0</td>\n      <td>3.0</td>\n      <td>polymnist_pfom_2021_05_21_15_38_47_019674</td>\n      <td>0.699867</td>\n      <td>2.145750</td>\n      <td>0.003110</td>\n      <td>0.0.5-dev</td>\n      <td>NaN</td>\n    </tr>\n    <tr>\n      <th>32</th>\n      <td>0.945367</td>\n      <td>NaN</td>\n      <td>pfom_5</td>\n      <td>99</td>\n      <td>512.0</td>\n      <td>2.5</td>\n      <td>1.0</td>\n      <td>3.0</td>\n      <td>polymnist_pfom_2021_05_20_19_25_21_500572</td>\n      <td>0.699233</td>\n      <td>2.136867</td>\n      <td>0.000000</td>\n      <td>0.0.5-dev</td>\n      <td>https://ppb.hendrikklug.xyz/ce456ef3a982.pdf</td>\n    </tr>\n    <tr>\n      <th>34</th>\n      <td>0.216883</td>\n      <td>NaN</td>\n      <td>pfom_5</td>\n      <td>49</td>\n      <td>512.0</td>\n      <td>2.5</td>\n      <td>1.0</td>\n      <td>1.0</td>\n      <td>polymnist_pfom_2021_05_21_09_41_05_549122</td>\n      <td>0.112383</td>\n      <td>0.104500</td>\n      <td>0.000000</td>\n      <td>0.0.5-dev</td>\n      <td>NaN</td>\n    </tr>\n  </tbody>\n</table>\n</div>"
     },
     "execution_count": 11,
     "metadata": {},
     "output_type": "execute_result"
    }
   ],
   "source": [
    "df.loc[df['method'].str.startswith('pfom')][[*show_cols]].sort_values(by=['score'], ascending=False)"
   ],
   "metadata": {
    "collapsed": false,
    "pycharm": {
     "name": "#%%\n"
    }
   }
  },
  {
   "cell_type": "markdown",
   "source": [
    "## Without amortized flows"
   ],
   "metadata": {
    "collapsed": false
   }
  },
  {
   "cell_type": "code",
   "execution_count": 12,
   "outputs": [
    {
     "data": {
      "text/plain": "       score  amortized_flow  method end_epoch  class_dim  beta  \\\n76  4.913078             0.0  pfom_5       599      512.0   1.0   \n82  4.886306             0.0  pfom_5      1999      256.0   1.0   \n74  4.725467             0.0  pfom_5        99      256.0   0.5   \n62  4.723506             0.0  pfom_5       599      512.0   0.5   \n90  4.481139             0.0  pfom_5        99      256.0   1.0   \n77  4.460817             0.0  pfom_0        99      256.0   1.0   \n57  4.350156             0.0  pfom_5        99      256.0   1.0   \n60  4.277417             0.0  pfom_5        99      256.0   1.0   \n64  4.049817             0.0  pfom_5       599      512.0   1.0   \n72  3.908611             0.0  pfom_5        99      128.0   1.0   \n\n    weighted_mixture  num_mods                                        _id  \\\n76               0.0       3.0  polymnist_pfom_2021_06_01_22_06_59_642354   \n82               0.0       3.0  polymnist_pfom_2021_06_02_14_55_01_470328   \n74               0.0       3.0  polymnist_pfom_2021_06_02_05_14_34_488367   \n62               0.0       3.0  polymnist_pfom_2021_05_28_14_54_29_012526   \n90               0.0       3.0  polymnist_pfom_2021_06_10_10_59_17_258140   \n77               0.0       3.0  polymnist_pfom_2021_06_02_12_03_22_476014   \n57               0.0       3.0  polymnist_pfom_2021_05_28_09_08_03_567569   \n60               1.0       3.0  polymnist_pfom_2021_05_28_14_44_39_476656   \n64               0.0       3.0  polymnist_pfom_2021_05_28_14_54_29_012764   \n72               0.0       3.0  polymnist_pfom_2021_06_01_22_01_36_192602   \n\n    score_lr  score_gen  score_prd    version  \\\n76  2.427533  12.311700   1.096989  0.0.7-dev   \n82  2.274267  12.384650   2.153740  0.0.7-dev   \n74  2.856117  11.320283   1.024599  0.0.7-dev   \n62  1.840167  12.330350   1.050978  0.0.5-dev   \n90  3.701900   9.741517   0.627192  0.0.5-dev   \n77  2.431450  10.951000   0.916068  0.0.7-dev   \n57  3.694050   9.356417   0.401679  0.0.5-dev   \n60  3.669750   9.162500   0.575645  0.0.5-dev   \n64  1.242100  10.907350   0.526863  0.0.5-dev   \n72  2.313283   9.412550   0.531228  0.0.7-dev   \n\n                                      expvis_url  \n76  https://ppb.hendrikklug.xyz/95e4bf95f5c7.pdf  \n82  https://ppb.hendrikklug.xyz/f1dd92c11883.pdf  \n74  https://ppb.hendrikklug.xyz/af7e76eaa8fd.pdf  \n62  https://ppb.hendrikklug.xyz/949b8297699f.pdf  \n90  https://ppb.hendrikklug.xyz/1420e90299eb.pdf  \n77  https://ppb.hendrikklug.xyz/4f23e2a615e1.pdf  \n57  https://ppb.hendrikklug.xyz/dd207fbd2e98.pdf  \n60  https://ppb.hendrikklug.xyz/68dafbd44b1f.pdf  \n64  https://ppb.hendrikklug.xyz/be3630d3e0d6.pdf  \n72  https://ppb.hendrikklug.xyz/0ba7b499bd51.pdf  ",
      "text/html": "<div>\n<style scoped>\n    .dataframe tbody tr th:only-of-type {\n        vertical-align: middle;\n    }\n\n    .dataframe tbody tr th {\n        vertical-align: top;\n    }\n\n    .dataframe thead th {\n        text-align: right;\n    }\n</style>\n<table border=\"1\" class=\"dataframe\">\n  <thead>\n    <tr style=\"text-align: right;\">\n      <th></th>\n      <th>score</th>\n      <th>amortized_flow</th>\n      <th>method</th>\n      <th>end_epoch</th>\n      <th>class_dim</th>\n      <th>beta</th>\n      <th>weighted_mixture</th>\n      <th>num_mods</th>\n      <th>_id</th>\n      <th>score_lr</th>\n      <th>score_gen</th>\n      <th>score_prd</th>\n      <th>version</th>\n      <th>expvis_url</th>\n    </tr>\n  </thead>\n  <tbody>\n    <tr>\n      <th>76</th>\n      <td>4.913078</td>\n      <td>0.0</td>\n      <td>pfom_5</td>\n      <td>599</td>\n      <td>512.0</td>\n      <td>1.0</td>\n      <td>0.0</td>\n      <td>3.0</td>\n      <td>polymnist_pfom_2021_06_01_22_06_59_642354</td>\n      <td>2.427533</td>\n      <td>12.311700</td>\n      <td>1.096989</td>\n      <td>0.0.7-dev</td>\n      <td>https://ppb.hendrikklug.xyz/95e4bf95f5c7.pdf</td>\n    </tr>\n    <tr>\n      <th>82</th>\n      <td>4.886306</td>\n      <td>0.0</td>\n      <td>pfom_5</td>\n      <td>1999</td>\n      <td>256.0</td>\n      <td>1.0</td>\n      <td>0.0</td>\n      <td>3.0</td>\n      <td>polymnist_pfom_2021_06_02_14_55_01_470328</td>\n      <td>2.274267</td>\n      <td>12.384650</td>\n      <td>2.153740</td>\n      <td>0.0.7-dev</td>\n      <td>https://ppb.hendrikklug.xyz/f1dd92c11883.pdf</td>\n    </tr>\n    <tr>\n      <th>74</th>\n      <td>4.725467</td>\n      <td>0.0</td>\n      <td>pfom_5</td>\n      <td>99</td>\n      <td>256.0</td>\n      <td>0.5</td>\n      <td>0.0</td>\n      <td>3.0</td>\n      <td>polymnist_pfom_2021_06_02_05_14_34_488367</td>\n      <td>2.856117</td>\n      <td>11.320283</td>\n      <td>1.024599</td>\n      <td>0.0.7-dev</td>\n      <td>https://ppb.hendrikklug.xyz/af7e76eaa8fd.pdf</td>\n    </tr>\n    <tr>\n      <th>62</th>\n      <td>4.723506</td>\n      <td>0.0</td>\n      <td>pfom_5</td>\n      <td>599</td>\n      <td>512.0</td>\n      <td>0.5</td>\n      <td>0.0</td>\n      <td>3.0</td>\n      <td>polymnist_pfom_2021_05_28_14_54_29_012526</td>\n      <td>1.840167</td>\n      <td>12.330350</td>\n      <td>1.050978</td>\n      <td>0.0.5-dev</td>\n      <td>https://ppb.hendrikklug.xyz/949b8297699f.pdf</td>\n    </tr>\n    <tr>\n      <th>90</th>\n      <td>4.481139</td>\n      <td>0.0</td>\n      <td>pfom_5</td>\n      <td>99</td>\n      <td>256.0</td>\n      <td>1.0</td>\n      <td>0.0</td>\n      <td>3.0</td>\n      <td>polymnist_pfom_2021_06_10_10_59_17_258140</td>\n      <td>3.701900</td>\n      <td>9.741517</td>\n      <td>0.627192</td>\n      <td>0.0.5-dev</td>\n      <td>https://ppb.hendrikklug.xyz/1420e90299eb.pdf</td>\n    </tr>\n    <tr>\n      <th>77</th>\n      <td>4.460817</td>\n      <td>0.0</td>\n      <td>pfom_0</td>\n      <td>99</td>\n      <td>256.0</td>\n      <td>1.0</td>\n      <td>0.0</td>\n      <td>3.0</td>\n      <td>polymnist_pfom_2021_06_02_12_03_22_476014</td>\n      <td>2.431450</td>\n      <td>10.951000</td>\n      <td>0.916068</td>\n      <td>0.0.7-dev</td>\n      <td>https://ppb.hendrikklug.xyz/4f23e2a615e1.pdf</td>\n    </tr>\n    <tr>\n      <th>57</th>\n      <td>4.350156</td>\n      <td>0.0</td>\n      <td>pfom_5</td>\n      <td>99</td>\n      <td>256.0</td>\n      <td>1.0</td>\n      <td>0.0</td>\n      <td>3.0</td>\n      <td>polymnist_pfom_2021_05_28_09_08_03_567569</td>\n      <td>3.694050</td>\n      <td>9.356417</td>\n      <td>0.401679</td>\n      <td>0.0.5-dev</td>\n      <td>https://ppb.hendrikklug.xyz/dd207fbd2e98.pdf</td>\n    </tr>\n    <tr>\n      <th>60</th>\n      <td>4.277417</td>\n      <td>0.0</td>\n      <td>pfom_5</td>\n      <td>99</td>\n      <td>256.0</td>\n      <td>1.0</td>\n      <td>1.0</td>\n      <td>3.0</td>\n      <td>polymnist_pfom_2021_05_28_14_44_39_476656</td>\n      <td>3.669750</td>\n      <td>9.162500</td>\n      <td>0.575645</td>\n      <td>0.0.5-dev</td>\n      <td>https://ppb.hendrikklug.xyz/68dafbd44b1f.pdf</td>\n    </tr>\n    <tr>\n      <th>64</th>\n      <td>4.049817</td>\n      <td>0.0</td>\n      <td>pfom_5</td>\n      <td>599</td>\n      <td>512.0</td>\n      <td>1.0</td>\n      <td>0.0</td>\n      <td>3.0</td>\n      <td>polymnist_pfom_2021_05_28_14_54_29_012764</td>\n      <td>1.242100</td>\n      <td>10.907350</td>\n      <td>0.526863</td>\n      <td>0.0.5-dev</td>\n      <td>https://ppb.hendrikklug.xyz/be3630d3e0d6.pdf</td>\n    </tr>\n    <tr>\n      <th>72</th>\n      <td>3.908611</td>\n      <td>0.0</td>\n      <td>pfom_5</td>\n      <td>99</td>\n      <td>128.0</td>\n      <td>1.0</td>\n      <td>0.0</td>\n      <td>3.0</td>\n      <td>polymnist_pfom_2021_06_01_22_01_36_192602</td>\n      <td>2.313283</td>\n      <td>9.412550</td>\n      <td>0.531228</td>\n      <td>0.0.7-dev</td>\n      <td>https://ppb.hendrikklug.xyz/0ba7b499bd51.pdf</td>\n    </tr>\n  </tbody>\n</table>\n</div>"
     },
     "execution_count": 12,
     "metadata": {},
     "output_type": "execute_result"
    }
   ],
   "source": [
    "df.loc[(df['method'].str.startswith('pfom'))&(df['amortized_flow'] == 0.0)][[*show_cols]].sort_values(by=['score'], ascending=False).head(10)"
   ],
   "metadata": {
    "collapsed": false,
    "pycharm": {
     "name": "#%%\n"
    }
   }
  },
  {
   "cell_type": "markdown",
   "source": [
    "### without flows"
   ],
   "metadata": {
    "collapsed": false
   }
  },
  {
   "cell_type": "code",
   "execution_count": 13,
   "outputs": [
    {
     "data": {
      "text/plain": "       score  amortized_flow  method end_epoch  class_dim  beta  \\\n77  4.460817             0.0  pfom_0        99      256.0   1.0   \n31  2.992900             NaN  pfom_0        99      512.0   2.5   \n\n    weighted_mixture  num_mods                                        _id  \\\n77               0.0       3.0  polymnist_pfom_2021_06_02_12_03_22_476014   \n31               0.0       3.0  polymnist_pfom_2021_05_20_16_48_25_478210   \n\n    score_lr  score_gen  score_prd    version  \\\n77  2.431450  10.951000   0.916068  0.0.7-dev   \n31  1.766483   7.212217   0.187531  0.0.5-dev   \n\n                                      expvis_url  \n77  https://ppb.hendrikklug.xyz/4f23e2a615e1.pdf  \n31  https://ppb.hendrikklug.xyz/9ba46d23db0a.pdf  ",
      "text/html": "<div>\n<style scoped>\n    .dataframe tbody tr th:only-of-type {\n        vertical-align: middle;\n    }\n\n    .dataframe tbody tr th {\n        vertical-align: top;\n    }\n\n    .dataframe thead th {\n        text-align: right;\n    }\n</style>\n<table border=\"1\" class=\"dataframe\">\n  <thead>\n    <tr style=\"text-align: right;\">\n      <th></th>\n      <th>score</th>\n      <th>amortized_flow</th>\n      <th>method</th>\n      <th>end_epoch</th>\n      <th>class_dim</th>\n      <th>beta</th>\n      <th>weighted_mixture</th>\n      <th>num_mods</th>\n      <th>_id</th>\n      <th>score_lr</th>\n      <th>score_gen</th>\n      <th>score_prd</th>\n      <th>version</th>\n      <th>expvis_url</th>\n    </tr>\n  </thead>\n  <tbody>\n    <tr>\n      <th>77</th>\n      <td>4.460817</td>\n      <td>0.0</td>\n      <td>pfom_0</td>\n      <td>99</td>\n      <td>256.0</td>\n      <td>1.0</td>\n      <td>0.0</td>\n      <td>3.0</td>\n      <td>polymnist_pfom_2021_06_02_12_03_22_476014</td>\n      <td>2.431450</td>\n      <td>10.951000</td>\n      <td>0.916068</td>\n      <td>0.0.7-dev</td>\n      <td>https://ppb.hendrikklug.xyz/4f23e2a615e1.pdf</td>\n    </tr>\n    <tr>\n      <th>31</th>\n      <td>2.992900</td>\n      <td>NaN</td>\n      <td>pfom_0</td>\n      <td>99</td>\n      <td>512.0</td>\n      <td>2.5</td>\n      <td>0.0</td>\n      <td>3.0</td>\n      <td>polymnist_pfom_2021_05_20_16_48_25_478210</td>\n      <td>1.766483</td>\n      <td>7.212217</td>\n      <td>0.187531</td>\n      <td>0.0.5-dev</td>\n      <td>https://ppb.hendrikklug.xyz/9ba46d23db0a.pdf</td>\n    </tr>\n  </tbody>\n</table>\n</div>"
     },
     "execution_count": 13,
     "metadata": {},
     "output_type": "execute_result"
    }
   ],
   "source": [
    "df.loc[(df['method'].str.startswith('pfom')) & (df['num_flows'] == 0) ][[*show_cols]].sort_values(by=['score'], ascending=False).head(3)"
   ],
   "metadata": {
    "collapsed": false,
    "pycharm": {
     "name": "#%%\n"
    }
   }
  },
  {
   "cell_type": "markdown",
   "source": [
    "### base params"
   ],
   "metadata": {
    "collapsed": false
   }
  },
  {
   "cell_type": "code",
   "execution_count": 14,
   "outputs": [
    {
     "data": {
      "text/plain": "       score  amortized_flow  method end_epoch  class_dim  beta  \\\n90  4.481139             0.0  pfom_5        99      256.0   1.0   \n57  4.350156             0.0  pfom_5        99      256.0   1.0   \n71  3.373983             0.0  pfom_5        99      256.0   1.0   \n86  1.903933             0.0  pfom_5        99      256.0   1.0   \n\n    weighted_mixture  num_mods                                        _id  \\\n90               0.0       3.0  polymnist_pfom_2021_06_10_10_59_17_258140   \n57               0.0       3.0  polymnist_pfom_2021_05_28_09_08_03_567569   \n71               0.0       3.0  polymnist_pfom_2021_06_01_16_13_13_192650   \n86               0.0       3.0  polymnist_pfom_2021_06_09_13_11_16_414931   \n\n    score_lr  score_gen  score_prd    version  \\\n90  3.701900   9.741517   0.627192  0.0.5-dev   \n57  3.694050   9.356417   0.401679  0.0.5-dev   \n71  2.027633   8.094317   0.344550  0.0.7-dev   \n86  1.141017   4.570783   0.191319  0.0.9-dev   \n\n                                      expvis_url  \n90  https://ppb.hendrikklug.xyz/1420e90299eb.pdf  \n57  https://ppb.hendrikklug.xyz/dd207fbd2e98.pdf  \n71  https://ppb.hendrikklug.xyz/2a754c1d71b7.pdf  \n86  https://ppb.hendrikklug.xyz/a7c575f3c886.pdf  ",
      "text/html": "<div>\n<style scoped>\n    .dataframe tbody tr th:only-of-type {\n        vertical-align: middle;\n    }\n\n    .dataframe tbody tr th {\n        vertical-align: top;\n    }\n\n    .dataframe thead th {\n        text-align: right;\n    }\n</style>\n<table border=\"1\" class=\"dataframe\">\n  <thead>\n    <tr style=\"text-align: right;\">\n      <th></th>\n      <th>score</th>\n      <th>amortized_flow</th>\n      <th>method</th>\n      <th>end_epoch</th>\n      <th>class_dim</th>\n      <th>beta</th>\n      <th>weighted_mixture</th>\n      <th>num_mods</th>\n      <th>_id</th>\n      <th>score_lr</th>\n      <th>score_gen</th>\n      <th>score_prd</th>\n      <th>version</th>\n      <th>expvis_url</th>\n    </tr>\n  </thead>\n  <tbody>\n    <tr>\n      <th>90</th>\n      <td>4.481139</td>\n      <td>0.0</td>\n      <td>pfom_5</td>\n      <td>99</td>\n      <td>256.0</td>\n      <td>1.0</td>\n      <td>0.0</td>\n      <td>3.0</td>\n      <td>polymnist_pfom_2021_06_10_10_59_17_258140</td>\n      <td>3.701900</td>\n      <td>9.741517</td>\n      <td>0.627192</td>\n      <td>0.0.5-dev</td>\n      <td>https://ppb.hendrikklug.xyz/1420e90299eb.pdf</td>\n    </tr>\n    <tr>\n      <th>57</th>\n      <td>4.350156</td>\n      <td>0.0</td>\n      <td>pfom_5</td>\n      <td>99</td>\n      <td>256.0</td>\n      <td>1.0</td>\n      <td>0.0</td>\n      <td>3.0</td>\n      <td>polymnist_pfom_2021_05_28_09_08_03_567569</td>\n      <td>3.694050</td>\n      <td>9.356417</td>\n      <td>0.401679</td>\n      <td>0.0.5-dev</td>\n      <td>https://ppb.hendrikklug.xyz/dd207fbd2e98.pdf</td>\n    </tr>\n    <tr>\n      <th>71</th>\n      <td>3.373983</td>\n      <td>0.0</td>\n      <td>pfom_5</td>\n      <td>99</td>\n      <td>256.0</td>\n      <td>1.0</td>\n      <td>0.0</td>\n      <td>3.0</td>\n      <td>polymnist_pfom_2021_06_01_16_13_13_192650</td>\n      <td>2.027633</td>\n      <td>8.094317</td>\n      <td>0.344550</td>\n      <td>0.0.7-dev</td>\n      <td>https://ppb.hendrikklug.xyz/2a754c1d71b7.pdf</td>\n    </tr>\n    <tr>\n      <th>86</th>\n      <td>1.903933</td>\n      <td>0.0</td>\n      <td>pfom_5</td>\n      <td>99</td>\n      <td>256.0</td>\n      <td>1.0</td>\n      <td>0.0</td>\n      <td>3.0</td>\n      <td>polymnist_pfom_2021_06_09_13_11_16_414931</td>\n      <td>1.141017</td>\n      <td>4.570783</td>\n      <td>0.191319</td>\n      <td>0.0.9-dev</td>\n      <td>https://ppb.hendrikklug.xyz/a7c575f3c886.pdf</td>\n    </tr>\n  </tbody>\n</table>\n</div>"
     },
     "execution_count": 14,
     "metadata": {},
     "output_type": "execute_result"
    }
   ],
   "source": [
    "df.loc[(df['method'].str.startswith('pfom')) & (df['num_flows'] == 5) & (df['end_epoch'].astype(int) == 99)& (df['beta'] == 1) & (df['amortized_flow'] == 0) & (df['class_dim'] == 256) & (df['weighted_mixture'] == 0)& (df['initial_learning_rate'].astype(float) == 0.0005)][[*show_cols]].sort_values(by=['score'], ascending=False)"
   ],
   "metadata": {
    "collapsed": false,
    "pycharm": {
     "name": "#%%\n"
    }
   }
  },
  {
   "cell_type": "markdown",
   "source": [
    "# Runs with current version"
   ],
   "metadata": {
    "collapsed": false,
    "pycharm": {
     "name": "#%% md\n"
    }
   }
  },
  {
   "cell_type": "code",
   "execution_count": 15,
   "outputs": [
    {
     "data": {
      "text/plain": "Empty DataFrame\nColumns: [score, amortized_flow, method, end_epoch, class_dim, beta, weighted_mixture, num_mods, _id, score_lr, score_gen, score_prd, version, expvis_url]\nIndex: []",
      "text/html": "<div>\n<style scoped>\n    .dataframe tbody tr th:only-of-type {\n        vertical-align: middle;\n    }\n\n    .dataframe tbody tr th {\n        vertical-align: top;\n    }\n\n    .dataframe thead th {\n        text-align: right;\n    }\n</style>\n<table border=\"1\" class=\"dataframe\">\n  <thead>\n    <tr style=\"text-align: right;\">\n      <th></th>\n      <th>score</th>\n      <th>amortized_flow</th>\n      <th>method</th>\n      <th>end_epoch</th>\n      <th>class_dim</th>\n      <th>beta</th>\n      <th>weighted_mixture</th>\n      <th>num_mods</th>\n      <th>_id</th>\n      <th>score_lr</th>\n      <th>score_gen</th>\n      <th>score_prd</th>\n      <th>version</th>\n      <th>expvis_url</th>\n    </tr>\n  </thead>\n  <tbody>\n  </tbody>\n</table>\n</div>"
     },
     "execution_count": 15,
     "metadata": {},
     "output_type": "execute_result"
    }
   ],
   "source": [
    "version = BaseFlagsSetup.get_version_from_setup_config()\n",
    "df.loc[df['version'] == version][[*show_cols]].sort_values(by=['score'], ascending=False)"
   ],
   "metadata": {
    "collapsed": false,
    "pycharm": {
     "name": "#%%\n"
    }
   }
  },
  {
   "cell_type": "markdown",
   "source": [
    "# Runs with more than 1000 epochs"
   ],
   "metadata": {
    "collapsed": false,
    "pycharm": {
     "name": "#%% md\n"
    }
   }
  },
  {
   "cell_type": "code",
   "execution_count": 16,
   "outputs": [
    {
     "data": {
      "text/plain": "       score  amortized_flow            method end_epoch  class_dim  beta  \\\n82  4.886306             0.0            pfom_5      1999      256.0   1.0   \n83  4.180678             0.0  planar_mixture_5      1999      256.0   1.0   \n84  0.969822             0.0            pfom_5      1999      256.0   1.0   \n\n    weighted_mixture  num_mods  \\\n82               0.0       3.0   \n83               0.0       3.0   \n84               0.0       3.0   \n\n                                                  _id  score_lr  score_gen  \\\n82          polymnist_pfom_2021_06_02_14_55_01_470328  2.274267  12.384650   \n83  polymnist_planar_mixture_2021_06_02_14_51_16_6...  2.778600   9.763433   \n84          polymnist_pfom_2021_06_05_22_48_41_678669  0.704667   2.204800   \n\n    score_prd    version                                    expvis_url  \n82   2.153740  0.0.7-dev  https://ppb.hendrikklug.xyz/f1dd92c11883.pdf  \n83   1.206549  0.0.7-dev  https://ppb.hendrikklug.xyz/3f77e986f5cc.pdf  \n84   0.010850  0.0.8-dev  https://ppb.hendrikklug.xyz/e94dd67d0ae8.pdf  ",
      "text/html": "<div>\n<style scoped>\n    .dataframe tbody tr th:only-of-type {\n        vertical-align: middle;\n    }\n\n    .dataframe tbody tr th {\n        vertical-align: top;\n    }\n\n    .dataframe thead th {\n        text-align: right;\n    }\n</style>\n<table border=\"1\" class=\"dataframe\">\n  <thead>\n    <tr style=\"text-align: right;\">\n      <th></th>\n      <th>score</th>\n      <th>amortized_flow</th>\n      <th>method</th>\n      <th>end_epoch</th>\n      <th>class_dim</th>\n      <th>beta</th>\n      <th>weighted_mixture</th>\n      <th>num_mods</th>\n      <th>_id</th>\n      <th>score_lr</th>\n      <th>score_gen</th>\n      <th>score_prd</th>\n      <th>version</th>\n      <th>expvis_url</th>\n    </tr>\n  </thead>\n  <tbody>\n    <tr>\n      <th>82</th>\n      <td>4.886306</td>\n      <td>0.0</td>\n      <td>pfom_5</td>\n      <td>1999</td>\n      <td>256.0</td>\n      <td>1.0</td>\n      <td>0.0</td>\n      <td>3.0</td>\n      <td>polymnist_pfom_2021_06_02_14_55_01_470328</td>\n      <td>2.274267</td>\n      <td>12.384650</td>\n      <td>2.153740</td>\n      <td>0.0.7-dev</td>\n      <td>https://ppb.hendrikklug.xyz/f1dd92c11883.pdf</td>\n    </tr>\n    <tr>\n      <th>83</th>\n      <td>4.180678</td>\n      <td>0.0</td>\n      <td>planar_mixture_5</td>\n      <td>1999</td>\n      <td>256.0</td>\n      <td>1.0</td>\n      <td>0.0</td>\n      <td>3.0</td>\n      <td>polymnist_planar_mixture_2021_06_02_14_51_16_6...</td>\n      <td>2.778600</td>\n      <td>9.763433</td>\n      <td>1.206549</td>\n      <td>0.0.7-dev</td>\n      <td>https://ppb.hendrikklug.xyz/3f77e986f5cc.pdf</td>\n    </tr>\n    <tr>\n      <th>84</th>\n      <td>0.969822</td>\n      <td>0.0</td>\n      <td>pfom_5</td>\n      <td>1999</td>\n      <td>256.0</td>\n      <td>1.0</td>\n      <td>0.0</td>\n      <td>3.0</td>\n      <td>polymnist_pfom_2021_06_05_22_48_41_678669</td>\n      <td>0.704667</td>\n      <td>2.204800</td>\n      <td>0.010850</td>\n      <td>0.0.8-dev</td>\n      <td>https://ppb.hendrikklug.xyz/e94dd67d0ae8.pdf</td>\n    </tr>\n  </tbody>\n</table>\n</div>"
     },
     "execution_count": 16,
     "metadata": {},
     "output_type": "execute_result"
    }
   ],
   "source": [
    "df.loc[df['end_epoch'].astype(int) > 1000][[*show_cols]].sort_values(by=['score'], ascending=False)"
   ],
   "metadata": {
    "collapsed": false,
    "pycharm": {
     "name": "#%%\n"
    }
   }
  },
  {
   "cell_type": "markdown",
   "source": [
    "# Method: joint_elbo"
   ],
   "metadata": {
    "collapsed": false
   }
  },
  {
   "cell_type": "code",
   "execution_count": 17,
   "outputs": [
    {
     "data": {
      "text/plain": "       score  amortized_flow      method end_epoch  class_dim  beta  \\\n40  5.715956             NaN  joint_elbo       619      512.0   2.5   \n88  5.483672             0.0  joint_elbo        99      256.0   1.0   \n0   5.122961             NaN  joint_elbo       299       64.0   2.5   \n26  4.809444             NaN  joint_elbo        99      512.0   2.5   \n4   3.913089             NaN  joint_elbo       299       64.0   0.5   \n2   3.322878             NaN  joint_elbo       299       32.0   0.5   \n\n    weighted_mixture  num_mods  \\\n40               0.0       3.0   \n88               0.0       3.0   \n0                NaN       3.0   \n26               0.0       3.0   \n4                NaN       3.0   \n2                NaN       3.0   \n\n                                                _id  score_lr  score_gen  \\\n40  polymnist_joint_elbo_2021_05_23_12_09_30_507370  5.471367  11.676500   \n88  polymnist_joint_elbo_2021_06_09_17_38_18_207824  5.366400  11.084617   \n0   polymnist_joint_elbo_2021_05_04_09_21_34_487039  5.252283  10.116600   \n26  polymnist_joint_elbo_2021_05_19_10_59_36_964676  5.514483   8.913850   \n4   polymnist_joint_elbo_2021_05_08_05_21_05_683057  3.932350   7.806917   \n2   polymnist_joint_elbo_2021_05_06_12_59_58_785343  3.239317   6.729317   \n\n    score_prd    version                                    expvis_url  \n40   0.000000  0.0.5-dev  https://ppb.hendrikklug.xyz/a1da3920fa87.pdf  \n88   0.627032  0.0.9-dev  https://ppb.hendrikklug.xyz/03fdf6021a74.pdf  \n0    0.000000        NaN                                           NaN  \n26   0.288514  0.0.4-dev  https://ppb.hendrikklug.xyz/2c1833766eda.pdf  \n4    0.611546  0.0.1-dev                                           NaN  \n2    0.312330  0.0.1-dev                                           NaN  ",
      "text/html": "<div>\n<style scoped>\n    .dataframe tbody tr th:only-of-type {\n        vertical-align: middle;\n    }\n\n    .dataframe tbody tr th {\n        vertical-align: top;\n    }\n\n    .dataframe thead th {\n        text-align: right;\n    }\n</style>\n<table border=\"1\" class=\"dataframe\">\n  <thead>\n    <tr style=\"text-align: right;\">\n      <th></th>\n      <th>score</th>\n      <th>amortized_flow</th>\n      <th>method</th>\n      <th>end_epoch</th>\n      <th>class_dim</th>\n      <th>beta</th>\n      <th>weighted_mixture</th>\n      <th>num_mods</th>\n      <th>_id</th>\n      <th>score_lr</th>\n      <th>score_gen</th>\n      <th>score_prd</th>\n      <th>version</th>\n      <th>expvis_url</th>\n    </tr>\n  </thead>\n  <tbody>\n    <tr>\n      <th>40</th>\n      <td>5.715956</td>\n      <td>NaN</td>\n      <td>joint_elbo</td>\n      <td>619</td>\n      <td>512.0</td>\n      <td>2.5</td>\n      <td>0.0</td>\n      <td>3.0</td>\n      <td>polymnist_joint_elbo_2021_05_23_12_09_30_507370</td>\n      <td>5.471367</td>\n      <td>11.676500</td>\n      <td>0.000000</td>\n      <td>0.0.5-dev</td>\n      <td>https://ppb.hendrikklug.xyz/a1da3920fa87.pdf</td>\n    </tr>\n    <tr>\n      <th>88</th>\n      <td>5.483672</td>\n      <td>0.0</td>\n      <td>joint_elbo</td>\n      <td>99</td>\n      <td>256.0</td>\n      <td>1.0</td>\n      <td>0.0</td>\n      <td>3.0</td>\n      <td>polymnist_joint_elbo_2021_06_09_17_38_18_207824</td>\n      <td>5.366400</td>\n      <td>11.084617</td>\n      <td>0.627032</td>\n      <td>0.0.9-dev</td>\n      <td>https://ppb.hendrikklug.xyz/03fdf6021a74.pdf</td>\n    </tr>\n    <tr>\n      <th>0</th>\n      <td>5.122961</td>\n      <td>NaN</td>\n      <td>joint_elbo</td>\n      <td>299</td>\n      <td>64.0</td>\n      <td>2.5</td>\n      <td>NaN</td>\n      <td>3.0</td>\n      <td>polymnist_joint_elbo_2021_05_04_09_21_34_487039</td>\n      <td>5.252283</td>\n      <td>10.116600</td>\n      <td>0.000000</td>\n      <td>NaN</td>\n      <td>NaN</td>\n    </tr>\n    <tr>\n      <th>26</th>\n      <td>4.809444</td>\n      <td>NaN</td>\n      <td>joint_elbo</td>\n      <td>99</td>\n      <td>512.0</td>\n      <td>2.5</td>\n      <td>0.0</td>\n      <td>3.0</td>\n      <td>polymnist_joint_elbo_2021_05_19_10_59_36_964676</td>\n      <td>5.514483</td>\n      <td>8.913850</td>\n      <td>0.288514</td>\n      <td>0.0.4-dev</td>\n      <td>https://ppb.hendrikklug.xyz/2c1833766eda.pdf</td>\n    </tr>\n    <tr>\n      <th>4</th>\n      <td>3.913089</td>\n      <td>NaN</td>\n      <td>joint_elbo</td>\n      <td>299</td>\n      <td>64.0</td>\n      <td>0.5</td>\n      <td>NaN</td>\n      <td>3.0</td>\n      <td>polymnist_joint_elbo_2021_05_08_05_21_05_683057</td>\n      <td>3.932350</td>\n      <td>7.806917</td>\n      <td>0.611546</td>\n      <td>0.0.1-dev</td>\n      <td>NaN</td>\n    </tr>\n    <tr>\n      <th>2</th>\n      <td>3.322878</td>\n      <td>NaN</td>\n      <td>joint_elbo</td>\n      <td>299</td>\n      <td>32.0</td>\n      <td>0.5</td>\n      <td>NaN</td>\n      <td>3.0</td>\n      <td>polymnist_joint_elbo_2021_05_06_12_59_58_785343</td>\n      <td>3.239317</td>\n      <td>6.729317</td>\n      <td>0.312330</td>\n      <td>0.0.1-dev</td>\n      <td>NaN</td>\n    </tr>\n  </tbody>\n</table>\n</div>"
     },
     "execution_count": 17,
     "metadata": {},
     "output_type": "execute_result"
    }
   ],
   "source": [
    "df.loc[df['method'].str.startswith('joint_elbo')][[*show_cols]].sort_values(by=['score'], ascending=False)"
   ],
   "metadata": {
    "collapsed": false,
    "pycharm": {
     "name": "#%%\n"
    }
   }
  },
  {
   "cell_type": "markdown",
   "source": [
    "# Method: poe"
   ],
   "metadata": {
    "collapsed": false
   }
  },
  {
   "cell_type": "code",
   "execution_count": 18,
   "outputs": [
    {
     "data": {
      "text/plain": "       score  amortized_flow method end_epoch  class_dim  beta  \\\n85  0.956056             0.0    poe        99      256.0   1.0   \n\n    weighted_mixture  num_mods                                       _id  \\\n85               0.0       3.0  polymnist_poe_2021_06_09_09_39_54_347753   \n\n    score_lr  score_gen  score_prd    version  \\\n85  0.704833   2.163333   0.007063  0.0.9-dev   \n\n                                      expvis_url  \n85  https://ppb.hendrikklug.xyz/dc325835e094.pdf  ",
      "text/html": "<div>\n<style scoped>\n    .dataframe tbody tr th:only-of-type {\n        vertical-align: middle;\n    }\n\n    .dataframe tbody tr th {\n        vertical-align: top;\n    }\n\n    .dataframe thead th {\n        text-align: right;\n    }\n</style>\n<table border=\"1\" class=\"dataframe\">\n  <thead>\n    <tr style=\"text-align: right;\">\n      <th></th>\n      <th>score</th>\n      <th>amortized_flow</th>\n      <th>method</th>\n      <th>end_epoch</th>\n      <th>class_dim</th>\n      <th>beta</th>\n      <th>weighted_mixture</th>\n      <th>num_mods</th>\n      <th>_id</th>\n      <th>score_lr</th>\n      <th>score_gen</th>\n      <th>score_prd</th>\n      <th>version</th>\n      <th>expvis_url</th>\n    </tr>\n  </thead>\n  <tbody>\n    <tr>\n      <th>85</th>\n      <td>0.956056</td>\n      <td>0.0</td>\n      <td>poe</td>\n      <td>99</td>\n      <td>256.0</td>\n      <td>1.0</td>\n      <td>0.0</td>\n      <td>3.0</td>\n      <td>polymnist_poe_2021_06_09_09_39_54_347753</td>\n      <td>0.704833</td>\n      <td>2.163333</td>\n      <td>0.007063</td>\n      <td>0.0.9-dev</td>\n      <td>https://ppb.hendrikklug.xyz/dc325835e094.pdf</td>\n    </tr>\n  </tbody>\n</table>\n</div>"
     },
     "execution_count": 18,
     "metadata": {},
     "output_type": "execute_result"
    }
   ],
   "source": [
    "df.loc[df['method'].str.startswith('poe')][[*show_cols]].sort_values(by=['score'], ascending=False)"
   ],
   "metadata": {
    "collapsed": false,
    "pycharm": {
     "name": "#%%\n"
    }
   }
  },
  {
   "cell_type": "markdown",
   "source": [
    "# Generate samples with the model that has the highest score."
   ],
   "metadata": {
    "collapsed": false,
    "pycharm": {
     "name": "#%% md\n"
    }
   }
  },
  {
   "cell_type": "code",
   "execution_count": 19,
   "outputs": [
    {
     "name": "stdout",
     "output_type": "stream",
     "text": [
      "polymnist_pfom_2021_05_21_09_59_39_321199\n"
     ]
    }
   ],
   "source": [
    "best_score_id = df[df.score == df.score.max()]._id.item()\n",
    "\n",
    "print(best_score_id)\n",
    "\n",
    "\n",
    "\n",
    "\n"
   ],
   "metadata": {
    "collapsed": false,
    "pycharm": {
     "name": "#%%\n"
    }
   }
  },
  {
   "cell_type": "code",
   "execution_count": 20,
   "outputs": [
    {
     "ename": "TypeError",
     "evalue": "load_old_flags() got an unexpected keyword argument '_id'",
     "output_type": "error",
     "traceback": [
      "\u001B[0;31m---------------------------------------------------------------------------\u001B[0m",
      "\u001B[0;31mTypeError\u001B[0m                                 Traceback (most recent call last)",
      "\u001B[0;32m<ipython-input-20-29771b628fd3>\u001B[0m in \u001B[0;36m<module>\u001B[0;34m\u001B[0m\n\u001B[0;32m----> 1\u001B[0;31m \u001B[0mshow_generated_figs\u001B[0m\u001B[0;34m(\u001B[0m\u001B[0m_id\u001B[0m \u001B[0;34m=\u001B[0m \u001B[0mbest_score_id\u001B[0m\u001B[0;34m)\u001B[0m\u001B[0;34m\u001B[0m\u001B[0;34m\u001B[0m\u001B[0m\n\u001B[0m\u001B[1;32m      2\u001B[0m \u001B[0;34m\u001B[0m\u001B[0m\n",
      "\u001B[0;32m~/Documents/master_4/MMVAE_Hub/mmvae_hub/experiment_vis/utils.py\u001B[0m in \u001B[0;36mshow_generated_figs\u001B[0;34m(experiment_dir, flags, _id)\u001B[0m\n\u001B[1;32m    267\u001B[0m             \u001B[0mflags\u001B[0m \u001B[0;34m=\u001B[0m \u001B[0mflags_setup\u001B[0m\u001B[0;34m.\u001B[0m\u001B[0mload_old_flags\u001B[0m\u001B[0;34m(\u001B[0m\u001B[0mflags_path\u001B[0m\u001B[0;34m,\u001B[0m \u001B[0madd_args\u001B[0m\u001B[0;34m=\u001B[0m\u001B[0;34m{\u001B[0m\u001B[0;34m'save_figure'\u001B[0m\u001B[0;34m:\u001B[0m \u001B[0;32mFalse\u001B[0m\u001B[0;34m}\u001B[0m\u001B[0;34m)\u001B[0m\u001B[0;34m\u001B[0m\u001B[0;34m\u001B[0m\u001B[0m\n\u001B[1;32m    268\u001B[0m         \u001B[0;32melse\u001B[0m\u001B[0;34m:\u001B[0m\u001B[0;34m\u001B[0m\u001B[0;34m\u001B[0m\u001B[0m\n\u001B[0;32m--> 269\u001B[0;31m             \u001B[0mflags\u001B[0m \u001B[0;34m=\u001B[0m \u001B[0mflags_setup\u001B[0m\u001B[0;34m.\u001B[0m\u001B[0mload_old_flags\u001B[0m\u001B[0;34m(\u001B[0m\u001B[0m_id\u001B[0m\u001B[0;34m=\u001B[0m\u001B[0m_id\u001B[0m\u001B[0;34m,\u001B[0m \u001B[0madd_args\u001B[0m\u001B[0;34m=\u001B[0m\u001B[0;34m{\u001B[0m\u001B[0;34m'save_figure'\u001B[0m\u001B[0;34m:\u001B[0m \u001B[0;32mFalse\u001B[0m\u001B[0;34m}\u001B[0m\u001B[0;34m)\u001B[0m\u001B[0;34m\u001B[0m\u001B[0;34m\u001B[0m\u001B[0m\n\u001B[0m\u001B[1;32m    270\u001B[0m     \u001B[0mexp\u001B[0m \u001B[0;34m=\u001B[0m \u001B[0mget_experiment\u001B[0m\u001B[0;34m(\u001B[0m\u001B[0mflags\u001B[0m\u001B[0;34m)\u001B[0m\u001B[0;34m\u001B[0m\u001B[0;34m\u001B[0m\u001B[0m\n\u001B[1;32m    271\u001B[0m \u001B[0;34m\u001B[0m\u001B[0m\n",
      "\u001B[0;31mTypeError\u001B[0m: load_old_flags() got an unexpected keyword argument '_id'"
     ]
    }
   ],
   "source": [
    "show_generated_figs(_id = best_score_id)"
   ],
   "metadata": {
    "collapsed": false,
    "pycharm": {
     "name": "#%%\n"
    }
   }
  },
  {
   "cell_type": "code",
   "execution_count": null,
   "outputs": [],
   "source": [],
   "metadata": {
    "collapsed": false,
    "pycharm": {
     "name": "#%%\n"
    }
   }
  },
  {
   "cell_type": "code",
   "execution_count": null,
   "outputs": [],
   "source": [],
   "metadata": {
    "collapsed": false,
    "pycharm": {
     "name": "#%%\n"
    }
   }
  }
 ],
 "metadata": {
  "kernelspec": {
   "display_name": "Python 3",
   "language": "python",
   "name": "python3"
  },
  "language_info": {
   "codemirror_mode": {
    "name": "ipython",
    "version": 2
   },
   "file_extension": ".py",
   "mimetype": "text/x-python",
   "name": "python",
   "nbconvert_exporter": "python",
   "pygments_lexer": "ipython2",
   "version": "2.7.6"
  }
 },
 "nbformat": 4,
 "nbformat_minor": 0
}
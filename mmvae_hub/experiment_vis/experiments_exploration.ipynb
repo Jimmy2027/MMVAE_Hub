{
 "cells": [
  {
   "cell_type": "code",
   "execution_count": 2,
   "metadata": {
    "collapsed": true
   },
   "outputs": [],
   "source": [
    "\n",
    "from mmvae_hub.experiment_vis.utils import *\n",
    "from mmvae_hub.utils.MongoDB import MongoDatabase\n",
    "from mmvae_hub.utils.flags_utils import get_config_path, BaseFlagsSetup\n",
    "from mmvae_hub.utils.utils import dict2pyobject, json2dict"
   ]
  },
  {
   "cell_type": "code",
   "execution_count": 3,
   "outputs": [],
   "source": [
    "exp_db = MongoDatabase(training=False)\n",
    "experiments = exp_db.connect()"
   ],
   "metadata": {
    "collapsed": false,
    "pycharm": {
     "name": "#%%\n"
    }
   }
  },
  {
   "cell_type": "code",
   "execution_count": 4,
   "outputs": [
    {
     "name": "stdout",
     "output_type": "stream",
     "text": [
      "There are currently  59 experiments in the database.\n"
     ]
    }
   ],
   "source": [
    "print('There are currently ', experiments.count_documents({}), 'experiments in the database.')"
   ],
   "metadata": {
    "collapsed": false,
    "pycharm": {
     "name": "#%%\n"
    }
   }
  },
  {
   "cell_type": "code",
   "execution_count": 5,
   "outputs": [],
   "source": [
    "df = make_experiments_dataframe(experiments)"
   ],
   "metadata": {
    "collapsed": false,
    "pycharm": {
     "name": "#%%\n"
    }
   }
  },
  {
   "cell_type": "code",
   "execution_count": 6,
   "outputs": [
    {
     "data": {
      "text/plain": "        score  amortized_flow            method end_epoch  class_dim  beta  \\\n35  18.972567             NaN            pfom_5        99      512.0   0.0   \n40  17.147867             NaN        joint_elbo       619      512.0   2.5   \n39  15.753367             NaN  planar_mixture_5       469      512.0   1.0   \n0   15.368883             NaN        joint_elbo       299       64.0   2.5   \n53  15.213367             NaN  planar_mixture_5       599      512.0   1.0   \n26  14.428333             NaN        joint_elbo        99      512.0   2.5   \n43  14.380933             NaN  planar_mixture_5       149      512.0   1.0   \n44  14.323167             NaN  planar_mixture_5       449      512.0   1.0   \n38  14.164517             NaN  planar_mixture_5       489      512.0   1.0   \n25  13.841033             NaN               moe       169      512.0   2.5   \n\n    weighted_mixture  num_mods  \\\n35               1.0       3.0   \n40               0.0       3.0   \n39               1.0       3.0   \n0                NaN       3.0   \n53               1.0       3.0   \n26               0.0       3.0   \n43               1.0       3.0   \n44               1.0       3.0   \n38               1.0       3.0   \n25               0.0       3.0   \n\n                                                  _id  score_lr  score_gen  \\\n35          polymnist_pfom_2021_05_21_09_59_39_321199  5.258067  13.714500   \n40    polymnist_joint_elbo_2021_05_23_12_09_30_507370  5.471367  11.676500   \n39  polymnist_planar_mixture_2021_05_23_12_10_02_9...  2.934167  12.819200   \n0     polymnist_joint_elbo_2021_05_04_09_21_34_487039  5.252283  10.116600   \n53  polymnist_planar_mixture_2021_05_25_18_55_51_4...  2.858500  12.354867   \n26    polymnist_joint_elbo_2021_05_19_10_59_36_964676  5.514483   8.913850   \n43  polymnist_planar_mixture_2021_05_24_17_33_03_0...  2.795650  11.585283   \n44  polymnist_planar_mixture_2021_05_25_08_07_00_3...  2.720467  11.602700   \n38  polymnist_planar_mixture_2021_05_23_12_10_03_0...  2.807067  11.357450   \n25           polymnist_moe_2021_05_19_10_31_52_870324  4.910000   8.931033   \n\n    score_prd    version                                    expvis_url  \n35   1.641897  0.0.5-dev  https://ppb.hendrikklug.xyz/4ad1b0c934d2.pdf  \n40   0.000000  0.0.5-dev  https://ppb.hendrikklug.xyz/6f29c649ff03.pdf  \n39   0.000000  0.0.5-dev  https://ppb.hendrikklug.xyz/698265a99cef.pdf  \n0    0.000000        NaN                                           NaN  \n53   1.198629  0.0.5-dev  https://ppb.hendrikklug.xyz/a89284b9142e.pdf  \n26   0.288514  0.0.4-dev  https://ppb.hendrikklug.xyz/2c1833766eda.pdf  \n43   0.000000  0.0.5-dev                                           NaN  \n44   0.000000  0.0.5-dev                                           NaN  \n38   0.000000  0.0.5-dev  https://ppb.hendrikklug.xyz/57259190dc8c.pdf  \n25   0.000000  0.0.4-dev  https://ppb.hendrikklug.xyz/219af0569f3d.pdf  ",
      "text/html": "<div>\n<style scoped>\n    .dataframe tbody tr th:only-of-type {\n        vertical-align: middle;\n    }\n\n    .dataframe tbody tr th {\n        vertical-align: top;\n    }\n\n    .dataframe thead th {\n        text-align: right;\n    }\n</style>\n<table border=\"1\" class=\"dataframe\">\n  <thead>\n    <tr style=\"text-align: right;\">\n      <th></th>\n      <th>score</th>\n      <th>amortized_flow</th>\n      <th>method</th>\n      <th>end_epoch</th>\n      <th>class_dim</th>\n      <th>beta</th>\n      <th>weighted_mixture</th>\n      <th>num_mods</th>\n      <th>_id</th>\n      <th>score_lr</th>\n      <th>score_gen</th>\n      <th>score_prd</th>\n      <th>version</th>\n      <th>expvis_url</th>\n    </tr>\n  </thead>\n  <tbody>\n    <tr>\n      <th>35</th>\n      <td>18.972567</td>\n      <td>NaN</td>\n      <td>pfom_5</td>\n      <td>99</td>\n      <td>512.0</td>\n      <td>0.0</td>\n      <td>1.0</td>\n      <td>3.0</td>\n      <td>polymnist_pfom_2021_05_21_09_59_39_321199</td>\n      <td>5.258067</td>\n      <td>13.714500</td>\n      <td>1.641897</td>\n      <td>0.0.5-dev</td>\n      <td>https://ppb.hendrikklug.xyz/4ad1b0c934d2.pdf</td>\n    </tr>\n    <tr>\n      <th>40</th>\n      <td>17.147867</td>\n      <td>NaN</td>\n      <td>joint_elbo</td>\n      <td>619</td>\n      <td>512.0</td>\n      <td>2.5</td>\n      <td>0.0</td>\n      <td>3.0</td>\n      <td>polymnist_joint_elbo_2021_05_23_12_09_30_507370</td>\n      <td>5.471367</td>\n      <td>11.676500</td>\n      <td>0.000000</td>\n      <td>0.0.5-dev</td>\n      <td>https://ppb.hendrikklug.xyz/6f29c649ff03.pdf</td>\n    </tr>\n    <tr>\n      <th>39</th>\n      <td>15.753367</td>\n      <td>NaN</td>\n      <td>planar_mixture_5</td>\n      <td>469</td>\n      <td>512.0</td>\n      <td>1.0</td>\n      <td>1.0</td>\n      <td>3.0</td>\n      <td>polymnist_planar_mixture_2021_05_23_12_10_02_9...</td>\n      <td>2.934167</td>\n      <td>12.819200</td>\n      <td>0.000000</td>\n      <td>0.0.5-dev</td>\n      <td>https://ppb.hendrikklug.xyz/698265a99cef.pdf</td>\n    </tr>\n    <tr>\n      <th>0</th>\n      <td>15.368883</td>\n      <td>NaN</td>\n      <td>joint_elbo</td>\n      <td>299</td>\n      <td>64.0</td>\n      <td>2.5</td>\n      <td>NaN</td>\n      <td>3.0</td>\n      <td>polymnist_joint_elbo_2021_05_04_09_21_34_487039</td>\n      <td>5.252283</td>\n      <td>10.116600</td>\n      <td>0.000000</td>\n      <td>NaN</td>\n      <td>NaN</td>\n    </tr>\n    <tr>\n      <th>53</th>\n      <td>15.213367</td>\n      <td>NaN</td>\n      <td>planar_mixture_5</td>\n      <td>599</td>\n      <td>512.0</td>\n      <td>1.0</td>\n      <td>1.0</td>\n      <td>3.0</td>\n      <td>polymnist_planar_mixture_2021_05_25_18_55_51_4...</td>\n      <td>2.858500</td>\n      <td>12.354867</td>\n      <td>1.198629</td>\n      <td>0.0.5-dev</td>\n      <td>https://ppb.hendrikklug.xyz/a89284b9142e.pdf</td>\n    </tr>\n    <tr>\n      <th>26</th>\n      <td>14.428333</td>\n      <td>NaN</td>\n      <td>joint_elbo</td>\n      <td>99</td>\n      <td>512.0</td>\n      <td>2.5</td>\n      <td>0.0</td>\n      <td>3.0</td>\n      <td>polymnist_joint_elbo_2021_05_19_10_59_36_964676</td>\n      <td>5.514483</td>\n      <td>8.913850</td>\n      <td>0.288514</td>\n      <td>0.0.4-dev</td>\n      <td>https://ppb.hendrikklug.xyz/2c1833766eda.pdf</td>\n    </tr>\n    <tr>\n      <th>43</th>\n      <td>14.380933</td>\n      <td>NaN</td>\n      <td>planar_mixture_5</td>\n      <td>149</td>\n      <td>512.0</td>\n      <td>1.0</td>\n      <td>1.0</td>\n      <td>3.0</td>\n      <td>polymnist_planar_mixture_2021_05_24_17_33_03_0...</td>\n      <td>2.795650</td>\n      <td>11.585283</td>\n      <td>0.000000</td>\n      <td>0.0.5-dev</td>\n      <td>NaN</td>\n    </tr>\n    <tr>\n      <th>44</th>\n      <td>14.323167</td>\n      <td>NaN</td>\n      <td>planar_mixture_5</td>\n      <td>449</td>\n      <td>512.0</td>\n      <td>1.0</td>\n      <td>1.0</td>\n      <td>3.0</td>\n      <td>polymnist_planar_mixture_2021_05_25_08_07_00_3...</td>\n      <td>2.720467</td>\n      <td>11.602700</td>\n      <td>0.000000</td>\n      <td>0.0.5-dev</td>\n      <td>NaN</td>\n    </tr>\n    <tr>\n      <th>38</th>\n      <td>14.164517</td>\n      <td>NaN</td>\n      <td>planar_mixture_5</td>\n      <td>489</td>\n      <td>512.0</td>\n      <td>1.0</td>\n      <td>1.0</td>\n      <td>3.0</td>\n      <td>polymnist_planar_mixture_2021_05_23_12_10_03_0...</td>\n      <td>2.807067</td>\n      <td>11.357450</td>\n      <td>0.000000</td>\n      <td>0.0.5-dev</td>\n      <td>https://ppb.hendrikklug.xyz/57259190dc8c.pdf</td>\n    </tr>\n    <tr>\n      <th>25</th>\n      <td>13.841033</td>\n      <td>NaN</td>\n      <td>moe</td>\n      <td>169</td>\n      <td>512.0</td>\n      <td>2.5</td>\n      <td>0.0</td>\n      <td>3.0</td>\n      <td>polymnist_moe_2021_05_19_10_31_52_870324</td>\n      <td>4.910000</td>\n      <td>8.931033</td>\n      <td>0.000000</td>\n      <td>0.0.4-dev</td>\n      <td>https://ppb.hendrikklug.xyz/219af0569f3d.pdf</td>\n    </tr>\n  </tbody>\n</table>\n</div>"
     },
     "execution_count": 6,
     "metadata": {},
     "output_type": "execute_result"
    }
   ],
   "source": [
    "show_cols = ['score', 'amortized_flow','method', 'end_epoch', 'class_dim', 'beta','weighted_mixture','num_mods', '_id', 'score_lr', 'score_gen','score_prd', 'version', 'expvis_url']\n",
    "df[show_cols].sort_values(by=['score'], ascending=False).head(10)"
   ],
   "metadata": {
    "collapsed": false,
    "pycharm": {
     "name": "#%%\n"
    }
   }
  },
  {
   "cell_type": "markdown",
   "source": [
    "# Method: Planar Mixture"
   ],
   "metadata": {
    "collapsed": false,
    "pycharm": {
     "name": "#%% md\n"
    }
   }
  },
  {
   "cell_type": "code",
   "execution_count": 10,
   "outputs": [
    {
     "data": {
      "text/plain": "        score  amortized_flow            method end_epoch  class_dim  beta  \\\n39  15.753367             NaN  planar_mixture_5       469      512.0   1.0   \n53  15.213367             NaN  planar_mixture_5       599      512.0   1.0   \n43  14.380933             NaN  planar_mixture_5       149      512.0   1.0   \n\n    weighted_mixture  num_mods  \\\n39               1.0       3.0   \n53               1.0       3.0   \n43               1.0       3.0   \n\n                                                  _id  score_lr  score_gen  \\\n39  polymnist_planar_mixture_2021_05_23_12_10_02_9...  2.934167  12.819200   \n53  polymnist_planar_mixture_2021_05_25_18_55_51_4...  2.858500  12.354867   \n43  polymnist_planar_mixture_2021_05_24_17_33_03_0...  2.795650  11.585283   \n\n    score_prd    version                                    expvis_url  \n39   0.000000  0.0.5-dev  https://ppb.hendrikklug.xyz/698265a99cef.pdf  \n53   1.198629  0.0.5-dev  https://ppb.hendrikklug.xyz/a89284b9142e.pdf  \n43   0.000000  0.0.5-dev                                           NaN  ",
      "text/html": "<div>\n<style scoped>\n    .dataframe tbody tr th:only-of-type {\n        vertical-align: middle;\n    }\n\n    .dataframe tbody tr th {\n        vertical-align: top;\n    }\n\n    .dataframe thead th {\n        text-align: right;\n    }\n</style>\n<table border=\"1\" class=\"dataframe\">\n  <thead>\n    <tr style=\"text-align: right;\">\n      <th></th>\n      <th>score</th>\n      <th>amortized_flow</th>\n      <th>method</th>\n      <th>end_epoch</th>\n      <th>class_dim</th>\n      <th>beta</th>\n      <th>weighted_mixture</th>\n      <th>num_mods</th>\n      <th>_id</th>\n      <th>score_lr</th>\n      <th>score_gen</th>\n      <th>score_prd</th>\n      <th>version</th>\n      <th>expvis_url</th>\n    </tr>\n  </thead>\n  <tbody>\n    <tr>\n      <th>39</th>\n      <td>15.753367</td>\n      <td>NaN</td>\n      <td>planar_mixture_5</td>\n      <td>469</td>\n      <td>512.0</td>\n      <td>1.0</td>\n      <td>1.0</td>\n      <td>3.0</td>\n      <td>polymnist_planar_mixture_2021_05_23_12_10_02_9...</td>\n      <td>2.934167</td>\n      <td>12.819200</td>\n      <td>0.000000</td>\n      <td>0.0.5-dev</td>\n      <td>https://ppb.hendrikklug.xyz/698265a99cef.pdf</td>\n    </tr>\n    <tr>\n      <th>53</th>\n      <td>15.213367</td>\n      <td>NaN</td>\n      <td>planar_mixture_5</td>\n      <td>599</td>\n      <td>512.0</td>\n      <td>1.0</td>\n      <td>1.0</td>\n      <td>3.0</td>\n      <td>polymnist_planar_mixture_2021_05_25_18_55_51_4...</td>\n      <td>2.858500</td>\n      <td>12.354867</td>\n      <td>1.198629</td>\n      <td>0.0.5-dev</td>\n      <td>https://ppb.hendrikklug.xyz/a89284b9142e.pdf</td>\n    </tr>\n    <tr>\n      <th>43</th>\n      <td>14.380933</td>\n      <td>NaN</td>\n      <td>planar_mixture_5</td>\n      <td>149</td>\n      <td>512.0</td>\n      <td>1.0</td>\n      <td>1.0</td>\n      <td>3.0</td>\n      <td>polymnist_planar_mixture_2021_05_24_17_33_03_0...</td>\n      <td>2.795650</td>\n      <td>11.585283</td>\n      <td>0.000000</td>\n      <td>0.0.5-dev</td>\n      <td>NaN</td>\n    </tr>\n  </tbody>\n</table>\n</div>"
     },
     "execution_count": 10,
     "metadata": {},
     "output_type": "execute_result"
    }
   ],
   "source": [
    "df.loc[df['method'].str.startswith('planar_mixture')][[*show_cols]].sort_values(by=['score'], ascending=False).head(3)"
   ],
   "metadata": {
    "collapsed": false,
    "pycharm": {
     "name": "#%%\n"
    }
   }
  },
  {
   "cell_type": "markdown",
   "source": [
    "### More than 1 flow, 3 mods"
   ],
   "metadata": {
    "collapsed": false,
    "pycharm": {
     "name": "#%% md\n"
    }
   }
  },
  {
   "cell_type": "code",
   "execution_count": 8,
   "outputs": [
    {
     "data": {
      "text/plain": "        score  amortized_flow            method end_epoch  class_dim  beta  \\\n39  15.753367             NaN  planar_mixture_5       469      512.0   1.0   \n53  15.213367             NaN  planar_mixture_5       599      512.0   1.0   \n43  14.380933             NaN  planar_mixture_5       149      512.0   1.0   \n\n    weighted_mixture  num_mods  \\\n39               1.0       3.0   \n53               1.0       3.0   \n43               1.0       3.0   \n\n                                                  _id  score_lr  score_gen  \\\n39  polymnist_planar_mixture_2021_05_23_12_10_02_9...  2.934167  12.819200   \n53  polymnist_planar_mixture_2021_05_25_18_55_51_4...  2.858500  12.354867   \n43  polymnist_planar_mixture_2021_05_24_17_33_03_0...  2.795650  11.585283   \n\n    score_prd    version                                    expvis_url  \n39   0.000000  0.0.5-dev  https://ppb.hendrikklug.xyz/698265a99cef.pdf  \n53   1.198629  0.0.5-dev  https://ppb.hendrikklug.xyz/a89284b9142e.pdf  \n43   0.000000  0.0.5-dev                                           NaN  ",
      "text/html": "<div>\n<style scoped>\n    .dataframe tbody tr th:only-of-type {\n        vertical-align: middle;\n    }\n\n    .dataframe tbody tr th {\n        vertical-align: top;\n    }\n\n    .dataframe thead th {\n        text-align: right;\n    }\n</style>\n<table border=\"1\" class=\"dataframe\">\n  <thead>\n    <tr style=\"text-align: right;\">\n      <th></th>\n      <th>score</th>\n      <th>amortized_flow</th>\n      <th>method</th>\n      <th>end_epoch</th>\n      <th>class_dim</th>\n      <th>beta</th>\n      <th>weighted_mixture</th>\n      <th>num_mods</th>\n      <th>_id</th>\n      <th>score_lr</th>\n      <th>score_gen</th>\n      <th>score_prd</th>\n      <th>version</th>\n      <th>expvis_url</th>\n    </tr>\n  </thead>\n  <tbody>\n    <tr>\n      <th>39</th>\n      <td>15.753367</td>\n      <td>NaN</td>\n      <td>planar_mixture_5</td>\n      <td>469</td>\n      <td>512.0</td>\n      <td>1.0</td>\n      <td>1.0</td>\n      <td>3.0</td>\n      <td>polymnist_planar_mixture_2021_05_23_12_10_02_9...</td>\n      <td>2.934167</td>\n      <td>12.819200</td>\n      <td>0.000000</td>\n      <td>0.0.5-dev</td>\n      <td>https://ppb.hendrikklug.xyz/698265a99cef.pdf</td>\n    </tr>\n    <tr>\n      <th>53</th>\n      <td>15.213367</td>\n      <td>NaN</td>\n      <td>planar_mixture_5</td>\n      <td>599</td>\n      <td>512.0</td>\n      <td>1.0</td>\n      <td>1.0</td>\n      <td>3.0</td>\n      <td>polymnist_planar_mixture_2021_05_25_18_55_51_4...</td>\n      <td>2.858500</td>\n      <td>12.354867</td>\n      <td>1.198629</td>\n      <td>0.0.5-dev</td>\n      <td>https://ppb.hendrikklug.xyz/a89284b9142e.pdf</td>\n    </tr>\n    <tr>\n      <th>43</th>\n      <td>14.380933</td>\n      <td>NaN</td>\n      <td>planar_mixture_5</td>\n      <td>149</td>\n      <td>512.0</td>\n      <td>1.0</td>\n      <td>1.0</td>\n      <td>3.0</td>\n      <td>polymnist_planar_mixture_2021_05_24_17_33_03_0...</td>\n      <td>2.795650</td>\n      <td>11.585283</td>\n      <td>0.000000</td>\n      <td>0.0.5-dev</td>\n      <td>NaN</td>\n    </tr>\n  </tbody>\n</table>\n</div>"
     },
     "execution_count": 8,
     "metadata": {},
     "output_type": "execute_result"
    }
   ],
   "source": [
    "df.loc[(df['method'].str.startswith('planar_mixture')) & (df['num_flows'])  & (df['num_mods'] > 1)][[*show_cols]].sort_values(by=['score'], ascending=False).head(3)"
   ],
   "metadata": {
    "collapsed": false,
    "pycharm": {
     "name": "#%%\n"
    }
   }
  },
  {
   "cell_type": "markdown",
   "source": [
    "### without flows\n",
    "looks good without flows."
   ],
   "metadata": {
    "collapsed": false
   }
  },
  {
   "cell_type": "code",
   "execution_count": 24,
   "outputs": [
    {
     "data": {
      "text/plain": "        score            method end_epoch  class_dim  beta  weighted_mixture  \\\n47  13.671833  planar_mixture_0        98      512.0   1.0               0.0   \n45  12.914367  planar_mixture_0        98      512.0   1.0               1.0   \n46  12.817417  planar_mixture_0        98      512.0   1.0               1.0   \n\n    num_mods                                                _id  score_lr  \\\n47       3.0  polymnist_planar_mixture_2021_05_25_20_25_27_6...  2.879633   \n45       3.0  polymnist_planar_mixture_2021_05_25_09_30_13_8...  2.668200   \n46       3.0  polymnist_planar_mixture_2021_05_25_17_39_12_8...  2.609267   \n\n    score_gen  score_prd    version  \\\n47  10.792200        0.0  0.0.5-dev   \n45  10.246167        0.0  0.0.5-dev   \n46  10.208150        0.0  0.0.5-dev   \n\n                                      expvis_url  \n47  https://ppb.hendrikklug.xyz/ecba70288b22.pdf  \n45  https://ppb.hendrikklug.xyz/fbd66c176646.pdf  \n46  https://ppb.hendrikklug.xyz/b3ae6e3c75ad.pdf  ",
      "text/html": "<div>\n<style scoped>\n    .dataframe tbody tr th:only-of-type {\n        vertical-align: middle;\n    }\n\n    .dataframe tbody tr th {\n        vertical-align: top;\n    }\n\n    .dataframe thead th {\n        text-align: right;\n    }\n</style>\n<table border=\"1\" class=\"dataframe\">\n  <thead>\n    <tr style=\"text-align: right;\">\n      <th></th>\n      <th>score</th>\n      <th>method</th>\n      <th>end_epoch</th>\n      <th>class_dim</th>\n      <th>beta</th>\n      <th>weighted_mixture</th>\n      <th>num_mods</th>\n      <th>_id</th>\n      <th>score_lr</th>\n      <th>score_gen</th>\n      <th>score_prd</th>\n      <th>version</th>\n      <th>expvis_url</th>\n    </tr>\n  </thead>\n  <tbody>\n    <tr>\n      <th>47</th>\n      <td>13.671833</td>\n      <td>planar_mixture_0</td>\n      <td>98</td>\n      <td>512.0</td>\n      <td>1.0</td>\n      <td>0.0</td>\n      <td>3.0</td>\n      <td>polymnist_planar_mixture_2021_05_25_20_25_27_6...</td>\n      <td>2.879633</td>\n      <td>10.792200</td>\n      <td>0.0</td>\n      <td>0.0.5-dev</td>\n      <td>https://ppb.hendrikklug.xyz/ecba70288b22.pdf</td>\n    </tr>\n    <tr>\n      <th>45</th>\n      <td>12.914367</td>\n      <td>planar_mixture_0</td>\n      <td>98</td>\n      <td>512.0</td>\n      <td>1.0</td>\n      <td>1.0</td>\n      <td>3.0</td>\n      <td>polymnist_planar_mixture_2021_05_25_09_30_13_8...</td>\n      <td>2.668200</td>\n      <td>10.246167</td>\n      <td>0.0</td>\n      <td>0.0.5-dev</td>\n      <td>https://ppb.hendrikklug.xyz/fbd66c176646.pdf</td>\n    </tr>\n    <tr>\n      <th>46</th>\n      <td>12.817417</td>\n      <td>planar_mixture_0</td>\n      <td>98</td>\n      <td>512.0</td>\n      <td>1.0</td>\n      <td>1.0</td>\n      <td>3.0</td>\n      <td>polymnist_planar_mixture_2021_05_25_17_39_12_8...</td>\n      <td>2.609267</td>\n      <td>10.208150</td>\n      <td>0.0</td>\n      <td>0.0.5-dev</td>\n      <td>https://ppb.hendrikklug.xyz/b3ae6e3c75ad.pdf</td>\n    </tr>\n  </tbody>\n</table>\n</div>"
     },
     "execution_count": 24,
     "metadata": {},
     "output_type": "execute_result"
    }
   ],
   "source": [
    "df.loc[(df['method'].str.startswith('planar_mixture')) & (df['num_flows'] == 0) ][[*show_cols]].sort_values(by=['score'], ascending=False).head(3)"
   ],
   "metadata": {
    "collapsed": false,
    "pycharm": {
     "name": "#%%\n"
    }
   }
  },
  {
   "cell_type": "markdown",
   "source": [
    "## Without amortized flows"
   ],
   "metadata": {
    "collapsed": false,
    "pycharm": {
     "name": "#%% md\n"
    }
   }
  },
  {
   "cell_type": "code",
   "execution_count": 11,
   "outputs": [
    {
     "data": {
      "text/plain": "        score  amortized_flow            method end_epoch  class_dim  beta  \\\n55  13.613550             0.0  planar_mixture_5        99      256.0   1.0   \n54  12.167567             0.0  planar_mixture_5        99      256.0   1.0   \n52   2.864667             0.0  planar_mixture_5        19      256.0   1.0   \n\n    weighted_mixture  num_mods  \\\n55               1.0       3.0   \n54               0.0       3.0   \n52               0.0       3.0   \n\n                                                  _id  score_lr  score_gen  \\\n55  polymnist_planar_mixture_2021_05_27_14_32_55_1...   3.10420  10.509350   \n54  polymnist_planar_mixture_2021_05_27_10_19_37_4...   2.37580   9.791767   \n52  polymnist_planar_mixture_2021_05_27_08_16_45_1...   0.69965   2.165017   \n\n    score_prd    version                                    expvis_url  \n55   0.458513  0.0.5-dev  https://ppb.hendrikklug.xyz/79f89ed3f3c7.pdf  \n54   0.971732  0.0.5-dev  https://ppb.hendrikklug.xyz/763904fafd25.pdf  \n52   0.000000  0.0.5-dev                                           NaN  ",
      "text/html": "<div>\n<style scoped>\n    .dataframe tbody tr th:only-of-type {\n        vertical-align: middle;\n    }\n\n    .dataframe tbody tr th {\n        vertical-align: top;\n    }\n\n    .dataframe thead th {\n        text-align: right;\n    }\n</style>\n<table border=\"1\" class=\"dataframe\">\n  <thead>\n    <tr style=\"text-align: right;\">\n      <th></th>\n      <th>score</th>\n      <th>amortized_flow</th>\n      <th>method</th>\n      <th>end_epoch</th>\n      <th>class_dim</th>\n      <th>beta</th>\n      <th>weighted_mixture</th>\n      <th>num_mods</th>\n      <th>_id</th>\n      <th>score_lr</th>\n      <th>score_gen</th>\n      <th>score_prd</th>\n      <th>version</th>\n      <th>expvis_url</th>\n    </tr>\n  </thead>\n  <tbody>\n    <tr>\n      <th>55</th>\n      <td>13.613550</td>\n      <td>0.0</td>\n      <td>planar_mixture_5</td>\n      <td>99</td>\n      <td>256.0</td>\n      <td>1.0</td>\n      <td>1.0</td>\n      <td>3.0</td>\n      <td>polymnist_planar_mixture_2021_05_27_14_32_55_1...</td>\n      <td>3.10420</td>\n      <td>10.509350</td>\n      <td>0.458513</td>\n      <td>0.0.5-dev</td>\n      <td>https://ppb.hendrikklug.xyz/79f89ed3f3c7.pdf</td>\n    </tr>\n    <tr>\n      <th>54</th>\n      <td>12.167567</td>\n      <td>0.0</td>\n      <td>planar_mixture_5</td>\n      <td>99</td>\n      <td>256.0</td>\n      <td>1.0</td>\n      <td>0.0</td>\n      <td>3.0</td>\n      <td>polymnist_planar_mixture_2021_05_27_10_19_37_4...</td>\n      <td>2.37580</td>\n      <td>9.791767</td>\n      <td>0.971732</td>\n      <td>0.0.5-dev</td>\n      <td>https://ppb.hendrikklug.xyz/763904fafd25.pdf</td>\n    </tr>\n    <tr>\n      <th>52</th>\n      <td>2.864667</td>\n      <td>0.0</td>\n      <td>planar_mixture_5</td>\n      <td>19</td>\n      <td>256.0</td>\n      <td>1.0</td>\n      <td>0.0</td>\n      <td>3.0</td>\n      <td>polymnist_planar_mixture_2021_05_27_08_16_45_1...</td>\n      <td>0.69965</td>\n      <td>2.165017</td>\n      <td>0.000000</td>\n      <td>0.0.5-dev</td>\n      <td>NaN</td>\n    </tr>\n  </tbody>\n</table>\n</div>"
     },
     "execution_count": 11,
     "metadata": {},
     "output_type": "execute_result"
    }
   ],
   "source": [
    "df.loc[(df['method'].str.startswith('planar_mixture'))&(df['amortized_flow'] == 0.0)][[*show_cols]].sort_values(by=['score'], ascending=False).head(3)"
   ],
   "metadata": {
    "collapsed": false,
    "pycharm": {
     "name": "#%%\n"
    }
   }
  },
  {
   "cell_type": "markdown",
   "source": [
    "# Explore all pfom experiments"
   ],
   "metadata": {
    "collapsed": false,
    "pycharm": {
     "name": "#%% md\n"
    }
   }
  },
  {
   "cell_type": "code",
   "execution_count": 17,
   "outputs": [
    {
     "data": {
      "text/plain": "        score  method end_epoch  class_dim  beta  weighted_mixture  num_mods  \\\n35  18.972567  pfom_5        99      512.0   0.0               1.0       3.0   \n31   8.978700  pfom_0        99      512.0   2.5               0.0       3.0   \n37   2.858833  pfom_5        99      512.0   1.0               1.0       3.0   \n50   2.849733  pfom_5        99      512.0   1.0               0.0       3.0   \n33   2.845933  pfom_5        99      512.0   2.5               0.0       3.0   \n36   2.845617  pfom_5        99      512.0   1.0               1.0       3.0   \n32   2.836100  pfom_5        99      512.0   2.5               1.0       3.0   \n34   0.216883  pfom_5        49      512.0   2.5               1.0       1.0   \n\n                                          _id  score_lr  score_gen  score_prd  \\\n35  polymnist_pfom_2021_05_21_09_59_39_321199  5.258067  13.714500   1.641897   \n31  polymnist_pfom_2021_05_20_16_48_25_478210  1.766483   7.212217   0.187531   \n37  polymnist_pfom_2021_05_22_11_53_24_896840  0.698983   2.159850   0.009093   \n50  polymnist_pfom_2021_05_26_09_17_02_513491  0.708567   2.141167   0.001628   \n33  polymnist_pfom_2021_05_20_20_27_06_214720  0.703383   2.142550   0.000000   \n36  polymnist_pfom_2021_05_21_15_38_47_019674  0.699867   2.145750   0.003110   \n32  polymnist_pfom_2021_05_20_19_25_21_500572  0.699233   2.136867   0.000000   \n34  polymnist_pfom_2021_05_21_09_41_05_549122  0.112383   0.104500   0.000000   \n\n      version                                    expvis_url  \n35  0.0.5-dev  https://ppb.hendrikklug.xyz/4ad1b0c934d2.pdf  \n31  0.0.5-dev  https://ppb.hendrikklug.xyz/9ba46d23db0a.pdf  \n37  0.0.5-dev  https://ppb.hendrikklug.xyz/6fc8853f9988.pdf  \n50  0.0.5-dev  https://ppb.hendrikklug.xyz/dbdb75548081.pdf  \n33  0.0.5-dev  https://ppb.hendrikklug.xyz/69e2e11db816.pdf  \n36  0.0.5-dev                                           NaN  \n32  0.0.5-dev  https://ppb.hendrikklug.xyz/ce456ef3a982.pdf  \n34  0.0.5-dev                                           NaN  ",
      "text/html": "<div>\n<style scoped>\n    .dataframe tbody tr th:only-of-type {\n        vertical-align: middle;\n    }\n\n    .dataframe tbody tr th {\n        vertical-align: top;\n    }\n\n    .dataframe thead th {\n        text-align: right;\n    }\n</style>\n<table border=\"1\" class=\"dataframe\">\n  <thead>\n    <tr style=\"text-align: right;\">\n      <th></th>\n      <th>score</th>\n      <th>method</th>\n      <th>end_epoch</th>\n      <th>class_dim</th>\n      <th>beta</th>\n      <th>weighted_mixture</th>\n      <th>num_mods</th>\n      <th>_id</th>\n      <th>score_lr</th>\n      <th>score_gen</th>\n      <th>score_prd</th>\n      <th>version</th>\n      <th>expvis_url</th>\n    </tr>\n  </thead>\n  <tbody>\n    <tr>\n      <th>35</th>\n      <td>18.972567</td>\n      <td>pfom_5</td>\n      <td>99</td>\n      <td>512.0</td>\n      <td>0.0</td>\n      <td>1.0</td>\n      <td>3.0</td>\n      <td>polymnist_pfom_2021_05_21_09_59_39_321199</td>\n      <td>5.258067</td>\n      <td>13.714500</td>\n      <td>1.641897</td>\n      <td>0.0.5-dev</td>\n      <td>https://ppb.hendrikklug.xyz/4ad1b0c934d2.pdf</td>\n    </tr>\n    <tr>\n      <th>31</th>\n      <td>8.978700</td>\n      <td>pfom_0</td>\n      <td>99</td>\n      <td>512.0</td>\n      <td>2.5</td>\n      <td>0.0</td>\n      <td>3.0</td>\n      <td>polymnist_pfom_2021_05_20_16_48_25_478210</td>\n      <td>1.766483</td>\n      <td>7.212217</td>\n      <td>0.187531</td>\n      <td>0.0.5-dev</td>\n      <td>https://ppb.hendrikklug.xyz/9ba46d23db0a.pdf</td>\n    </tr>\n    <tr>\n      <th>37</th>\n      <td>2.858833</td>\n      <td>pfom_5</td>\n      <td>99</td>\n      <td>512.0</td>\n      <td>1.0</td>\n      <td>1.0</td>\n      <td>3.0</td>\n      <td>polymnist_pfom_2021_05_22_11_53_24_896840</td>\n      <td>0.698983</td>\n      <td>2.159850</td>\n      <td>0.009093</td>\n      <td>0.0.5-dev</td>\n      <td>https://ppb.hendrikklug.xyz/6fc8853f9988.pdf</td>\n    </tr>\n    <tr>\n      <th>50</th>\n      <td>2.849733</td>\n      <td>pfom_5</td>\n      <td>99</td>\n      <td>512.0</td>\n      <td>1.0</td>\n      <td>0.0</td>\n      <td>3.0</td>\n      <td>polymnist_pfom_2021_05_26_09_17_02_513491</td>\n      <td>0.708567</td>\n      <td>2.141167</td>\n      <td>0.001628</td>\n      <td>0.0.5-dev</td>\n      <td>https://ppb.hendrikklug.xyz/dbdb75548081.pdf</td>\n    </tr>\n    <tr>\n      <th>33</th>\n      <td>2.845933</td>\n      <td>pfom_5</td>\n      <td>99</td>\n      <td>512.0</td>\n      <td>2.5</td>\n      <td>0.0</td>\n      <td>3.0</td>\n      <td>polymnist_pfom_2021_05_20_20_27_06_214720</td>\n      <td>0.703383</td>\n      <td>2.142550</td>\n      <td>0.000000</td>\n      <td>0.0.5-dev</td>\n      <td>https://ppb.hendrikklug.xyz/69e2e11db816.pdf</td>\n    </tr>\n    <tr>\n      <th>36</th>\n      <td>2.845617</td>\n      <td>pfom_5</td>\n      <td>99</td>\n      <td>512.0</td>\n      <td>1.0</td>\n      <td>1.0</td>\n      <td>3.0</td>\n      <td>polymnist_pfom_2021_05_21_15_38_47_019674</td>\n      <td>0.699867</td>\n      <td>2.145750</td>\n      <td>0.003110</td>\n      <td>0.0.5-dev</td>\n      <td>NaN</td>\n    </tr>\n    <tr>\n      <th>32</th>\n      <td>2.836100</td>\n      <td>pfom_5</td>\n      <td>99</td>\n      <td>512.0</td>\n      <td>2.5</td>\n      <td>1.0</td>\n      <td>3.0</td>\n      <td>polymnist_pfom_2021_05_20_19_25_21_500572</td>\n      <td>0.699233</td>\n      <td>2.136867</td>\n      <td>0.000000</td>\n      <td>0.0.5-dev</td>\n      <td>https://ppb.hendrikklug.xyz/ce456ef3a982.pdf</td>\n    </tr>\n    <tr>\n      <th>34</th>\n      <td>0.216883</td>\n      <td>pfom_5</td>\n      <td>49</td>\n      <td>512.0</td>\n      <td>2.5</td>\n      <td>1.0</td>\n      <td>1.0</td>\n      <td>polymnist_pfom_2021_05_21_09_41_05_549122</td>\n      <td>0.112383</td>\n      <td>0.104500</td>\n      <td>0.000000</td>\n      <td>0.0.5-dev</td>\n      <td>NaN</td>\n    </tr>\n  </tbody>\n</table>\n</div>"
     },
     "execution_count": 17,
     "metadata": {},
     "output_type": "execute_result"
    }
   ],
   "source": [
    "df.loc[df['method'].str.startswith('pfom')][[*show_cols]].sort_values(by=['score'], ascending=False)\n",
    "\n"
   ],
   "metadata": {
    "collapsed": false,
    "pycharm": {
     "name": "#%%\n"
    }
   }
  },
  {
   "cell_type": "markdown",
   "source": [
    "# All runs from leomed"
   ],
   "metadata": {
    "collapsed": false,
    "pycharm": {
     "name": "#%% md\n"
    }
   }
  },
  {
   "cell_type": "code",
   "execution_count": 18,
   "outputs": [
    {
     "data": {
      "text/plain": "        score            method end_epoch  class_dim  beta  weighted_mixture  \\\n40  17.147867        joint_elbo       619      512.0   2.5               0.0   \n39  15.753367  planar_mixture_5       469      512.0   1.0               1.0   \n38  14.164517  planar_mixture_5       489      512.0   1.0               1.0   \n42  12.212250  planar_mixture_5       539      512.0   2.5               1.0   \n41  11.179667  planar_mixture_5       459      512.0   2.5               1.0   \n\n    num_mods                                                _id  score_lr  \\\n40       3.0    polymnist_joint_elbo_2021_05_23_12_09_30_507370  5.471367   \n39       3.0  polymnist_planar_mixture_2021_05_23_12_10_02_9...  2.934167   \n38       3.0  polymnist_planar_mixture_2021_05_23_12_10_03_0...  2.807067   \n42       3.0  polymnist_planar_mixture_2021_05_23_12_10_31_0...  1.991600   \n41       3.0  polymnist_planar_mixture_2021_05_23_12_10_31_4...  1.832900   \n\n    score_gen  score_prd    version  \\\n40  11.676500        0.0  0.0.5-dev   \n39  12.819200        0.0  0.0.5-dev   \n38  11.357450        0.0  0.0.5-dev   \n42  10.220650        0.0  0.0.5-dev   \n41   9.346767        0.0  0.0.5-dev   \n\n                                      expvis_url  \n40  https://ppb.hendrikklug.xyz/6f29c649ff03.pdf  \n39  https://ppb.hendrikklug.xyz/698265a99cef.pdf  \n38  https://ppb.hendrikklug.xyz/57259190dc8c.pdf  \n42  https://ppb.hendrikklug.xyz/9735fb5d581b.pdf  \n41  https://ppb.hendrikklug.xyz/2b23461ce868.pdf  ",
      "text/html": "<div>\n<style scoped>\n    .dataframe tbody tr th:only-of-type {\n        vertical-align: middle;\n    }\n\n    .dataframe tbody tr th {\n        vertical-align: top;\n    }\n\n    .dataframe thead th {\n        text-align: right;\n    }\n</style>\n<table border=\"1\" class=\"dataframe\">\n  <thead>\n    <tr style=\"text-align: right;\">\n      <th></th>\n      <th>score</th>\n      <th>method</th>\n      <th>end_epoch</th>\n      <th>class_dim</th>\n      <th>beta</th>\n      <th>weighted_mixture</th>\n      <th>num_mods</th>\n      <th>_id</th>\n      <th>score_lr</th>\n      <th>score_gen</th>\n      <th>score_prd</th>\n      <th>version</th>\n      <th>expvis_url</th>\n    </tr>\n  </thead>\n  <tbody>\n    <tr>\n      <th>40</th>\n      <td>17.147867</td>\n      <td>joint_elbo</td>\n      <td>619</td>\n      <td>512.0</td>\n      <td>2.5</td>\n      <td>0.0</td>\n      <td>3.0</td>\n      <td>polymnist_joint_elbo_2021_05_23_12_09_30_507370</td>\n      <td>5.471367</td>\n      <td>11.676500</td>\n      <td>0.0</td>\n      <td>0.0.5-dev</td>\n      <td>https://ppb.hendrikklug.xyz/6f29c649ff03.pdf</td>\n    </tr>\n    <tr>\n      <th>39</th>\n      <td>15.753367</td>\n      <td>planar_mixture_5</td>\n      <td>469</td>\n      <td>512.0</td>\n      <td>1.0</td>\n      <td>1.0</td>\n      <td>3.0</td>\n      <td>polymnist_planar_mixture_2021_05_23_12_10_02_9...</td>\n      <td>2.934167</td>\n      <td>12.819200</td>\n      <td>0.0</td>\n      <td>0.0.5-dev</td>\n      <td>https://ppb.hendrikklug.xyz/698265a99cef.pdf</td>\n    </tr>\n    <tr>\n      <th>38</th>\n      <td>14.164517</td>\n      <td>planar_mixture_5</td>\n      <td>489</td>\n      <td>512.0</td>\n      <td>1.0</td>\n      <td>1.0</td>\n      <td>3.0</td>\n      <td>polymnist_planar_mixture_2021_05_23_12_10_03_0...</td>\n      <td>2.807067</td>\n      <td>11.357450</td>\n      <td>0.0</td>\n      <td>0.0.5-dev</td>\n      <td>https://ppb.hendrikklug.xyz/57259190dc8c.pdf</td>\n    </tr>\n    <tr>\n      <th>42</th>\n      <td>12.212250</td>\n      <td>planar_mixture_5</td>\n      <td>539</td>\n      <td>512.0</td>\n      <td>2.5</td>\n      <td>1.0</td>\n      <td>3.0</td>\n      <td>polymnist_planar_mixture_2021_05_23_12_10_31_0...</td>\n      <td>1.991600</td>\n      <td>10.220650</td>\n      <td>0.0</td>\n      <td>0.0.5-dev</td>\n      <td>https://ppb.hendrikklug.xyz/9735fb5d581b.pdf</td>\n    </tr>\n    <tr>\n      <th>41</th>\n      <td>11.179667</td>\n      <td>planar_mixture_5</td>\n      <td>459</td>\n      <td>512.0</td>\n      <td>2.5</td>\n      <td>1.0</td>\n      <td>3.0</td>\n      <td>polymnist_planar_mixture_2021_05_23_12_10_31_4...</td>\n      <td>1.832900</td>\n      <td>9.346767</td>\n      <td>0.0</td>\n      <td>0.0.5-dev</td>\n      <td>https://ppb.hendrikklug.xyz/2b23461ce868.pdf</td>\n    </tr>\n  </tbody>\n</table>\n</div>"
     },
     "execution_count": 18,
     "metadata": {},
     "output_type": "execute_result"
    }
   ],
   "source": [
    "df.loc[df['dir_experiment'].str.startswith('/cluster')][[*show_cols]].sort_values(by=['score'], ascending=False)"
   ],
   "metadata": {
    "collapsed": false,
    "pycharm": {
     "name": "#%%\n"
    }
   }
  },
  {
   "cell_type": "markdown",
   "source": [
    "# Generate samples with the model that has the highest score."
   ],
   "metadata": {
    "collapsed": false,
    "pycharm": {
     "name": "#%% md\n"
    }
   }
  },
  {
   "cell_type": "code",
   "execution_count": 19,
   "outputs": [
    {
     "name": "stdout",
     "output_type": "stream",
     "text": [
      "polymnist_pfom_2021_05_21_09_59_39_321199\n"
     ]
    }
   ],
   "source": [
    "best_score_id = df[df.score == df.score.max()]._id.item()\n",
    "\n",
    "print(best_score_id)\n",
    "experiments_database = MongoDatabase(training=False, _id=best_score_id)\n",
    "experiment_dict = experiments_database.get_experiment_dict()\n",
    "config = json2dict(get_config_path())\n",
    "experiment_flags = experiment_dict['flags']\n",
    "\n",
    "flags = BaseFlagsSetup.set_paths_with_config(config, experiment_flags, is_dict=True)\n",
    "\n",
    "experiment_flags['use_clf'] = False\n",
    "experiment_flags['device'] = 'cpu'\n",
    "experiment_flags['weighted_mixture'] = False\n",
    "experiment_flags['save_figure'] = False\n",
    "\n"
   ],
   "metadata": {
    "collapsed": false,
    "pycharm": {
     "name": "#%%\n"
    }
   }
  },
  {
   "cell_type": "code",
   "execution_count": 20,
   "outputs": [
    {
     "name": "stderr",
     "output_type": "stream",
     "text": [
      "[14:32:44 CEST] data dir /Users/Hendrik/Documents/master_4/polymnist/train does not exist. Creating PolyMNIST dataset. This may take a while...\n"
     ]
    },
    {
     "name": "stdout",
     "output_type": "stream",
     "text": [
      "Downloading http://yann.lecun.com/exdb/mnist/train-images-idx3-ubyte.gz\n",
      "Failed to download (trying next):\n",
      "HTTP Error 503: Service Unavailable\n",
      "\n",
      "Downloading https://ossci-datasets.s3.amazonaws.com/mnist/train-images-idx3-ubyte.gz\n",
      "Downloading https://ossci-datasets.s3.amazonaws.com/mnist/train-images-idx3-ubyte.gz to /tmp/MNIST/raw/train-images-idx3-ubyte.gz\n",
      "\n"
     ]
    },
    {
     "ename": "ImportError",
     "evalue": "IProgress not found. Please update jupyter and ipywidgets. See https://ipywidgets.readthedocs.io/en/stable/user_install.html",
     "output_type": "error",
     "traceback": [
      "\u001B[0;31m---------------------------------------------------------------------------\u001B[0m",
      "\u001B[0;31mImportError\u001B[0m                               Traceback (most recent call last)",
      "\u001B[0;32m<ipython-input-20-ad0ea0f6f5e2>\u001B[0m in \u001B[0;36m<module>\u001B[0;34m\u001B[0m\n\u001B[0;32m----> 1\u001B[0;31m \u001B[0mshow_generated_figs\u001B[0m\u001B[0;34m(\u001B[0m\u001B[0mflags\u001B[0m\u001B[0;34m=\u001B[0m\u001B[0mdict2pyobject\u001B[0m\u001B[0;34m(\u001B[0m\u001B[0mexperiment_flags\u001B[0m\u001B[0;34m)\u001B[0m\u001B[0;34m)\u001B[0m\u001B[0;34m\u001B[0m\u001B[0;34m\u001B[0m\u001B[0m\n\u001B[0m\u001B[1;32m      2\u001B[0m \u001B[0;34m\u001B[0m\u001B[0m\n",
      "\u001B[0;32m~/Documents/master_4/MMVAE_Hub/mmvae_hub/experiment_vis/utils.py\u001B[0m in \u001B[0;36mshow_generated_figs\u001B[0;34m(experiment_dir, flags)\u001B[0m\n\u001B[1;32m    219\u001B[0m         \u001B[0mflags\u001B[0m \u001B[0;34m=\u001B[0m \u001B[0mflags_setup\u001B[0m\u001B[0;34m.\u001B[0m\u001B[0mload_old_flags\u001B[0m\u001B[0;34m(\u001B[0m\u001B[0mPath\u001B[0m\u001B[0;34m(\u001B[0m\u001B[0;34m'flags.rar'\u001B[0m\u001B[0;34m)\u001B[0m\u001B[0;34m,\u001B[0m \u001B[0madd_args\u001B[0m\u001B[0;34m=\u001B[0m\u001B[0;34m{\u001B[0m\u001B[0;34m'save_figure'\u001B[0m\u001B[0;34m:\u001B[0m \u001B[0;32mFalse\u001B[0m\u001B[0;34m}\u001B[0m\u001B[0;34m)\u001B[0m\u001B[0;34m\u001B[0m\u001B[0;34m\u001B[0m\u001B[0m\n\u001B[1;32m    220\u001B[0m \u001B[0;34m\u001B[0m\u001B[0m\n\u001B[0;32m--> 221\u001B[0;31m     \u001B[0mexp\u001B[0m \u001B[0;34m=\u001B[0m \u001B[0mget_experiment\u001B[0m\u001B[0;34m(\u001B[0m\u001B[0mflags\u001B[0m\u001B[0;34m)\u001B[0m\u001B[0;34m\u001B[0m\u001B[0;34m\u001B[0m\u001B[0m\n\u001B[0m\u001B[1;32m    222\u001B[0m \u001B[0;34m\u001B[0m\u001B[0m\n\u001B[1;32m    223\u001B[0m     \u001B[0;32mif\u001B[0m \u001B[0mexperiment_dir\u001B[0m \u001B[0;32mand\u001B[0m \u001B[0;34m(\u001B[0m\u001B[0mexperiment_dir\u001B[0m \u001B[0;34m/\u001B[0m \u001B[0;34m'checkpoints'\u001B[0m\u001B[0;34m)\u001B[0m\u001B[0;34m.\u001B[0m\u001B[0mexists\u001B[0m\u001B[0;34m(\u001B[0m\u001B[0;34m)\u001B[0m\u001B[0;34m:\u001B[0m\u001B[0;34m\u001B[0m\u001B[0;34m\u001B[0m\u001B[0m\n",
      "\u001B[0;32m~/Documents/master_4/MMVAE_Hub/mmvae_hub/base/utils/flags_utils.py\u001B[0m in \u001B[0;36mget_experiment\u001B[0;34m(flags)\u001B[0m\n\u001B[1;32m    224\u001B[0m     \"\"\"\n\u001B[1;32m    225\u001B[0m     \u001B[0;32mif\u001B[0m \u001B[0mPath\u001B[0m\u001B[0;34m(\u001B[0m\u001B[0mflags\u001B[0m\u001B[0;34m.\u001B[0m\u001B[0mdir_data\u001B[0m\u001B[0;34m)\u001B[0m\u001B[0;34m.\u001B[0m\u001B[0mname\u001B[0m \u001B[0;32min\u001B[0m \u001B[0;34m[\u001B[0m\u001B[0;34m'PolyMNIST'\u001B[0m\u001B[0;34m,\u001B[0m \u001B[0;34m'polymnist'\u001B[0m\u001B[0;34m]\u001B[0m\u001B[0;34m:\u001B[0m\u001B[0;34m\u001B[0m\u001B[0;34m\u001B[0m\u001B[0m\n\u001B[0;32m--> 226\u001B[0;31m         \u001B[0;32mreturn\u001B[0m \u001B[0mPolymnistExperiment\u001B[0m\u001B[0;34m(\u001B[0m\u001B[0mflags\u001B[0m\u001B[0;34m)\u001B[0m\u001B[0;34m\u001B[0m\u001B[0;34m\u001B[0m\u001B[0m\n\u001B[0m\u001B[1;32m    227\u001B[0m     \u001B[0;32melif\u001B[0m \u001B[0mflags\u001B[0m\u001B[0;34m.\u001B[0m\u001B[0mdataset\u001B[0m \u001B[0;34m==\u001B[0m \u001B[0;34m'toy'\u001B[0m\u001B[0;34m:\u001B[0m\u001B[0;34m\u001B[0m\u001B[0;34m\u001B[0m\u001B[0m\n\u001B[1;32m    228\u001B[0m         \u001B[0;32mreturn\u001B[0m \u001B[0mPolymnistExperiment\u001B[0m\u001B[0;34m(\u001B[0m\u001B[0mflags\u001B[0m\u001B[0;34m)\u001B[0m\u001B[0;34m\u001B[0m\u001B[0;34m\u001B[0m\u001B[0m\n",
      "\u001B[0;32m~/Documents/master_4/MMVAE_Hub/mmvae_hub/polymnist/experiment.py\u001B[0m in \u001B[0;36m__init__\u001B[0;34m(self, flags)\u001B[0m\n\u001B[1;32m     30\u001B[0m         \u001B[0mself\u001B[0m\u001B[0;34m.\u001B[0m\u001B[0msubsets\u001B[0m \u001B[0;34m=\u001B[0m \u001B[0mself\u001B[0m\u001B[0;34m.\u001B[0m\u001B[0mset_subsets\u001B[0m\u001B[0;34m(\u001B[0m\u001B[0;34m)\u001B[0m\u001B[0;34m\u001B[0m\u001B[0;34m\u001B[0m\u001B[0m\n\u001B[1;32m     31\u001B[0m \u001B[0;34m\u001B[0m\u001B[0m\n\u001B[0;32m---> 32\u001B[0;31m         \u001B[0mself\u001B[0m\u001B[0;34m.\u001B[0m\u001B[0mdataset_train\u001B[0m\u001B[0;34m,\u001B[0m \u001B[0mself\u001B[0m\u001B[0;34m.\u001B[0m\u001B[0mdataset_test\u001B[0m \u001B[0;34m=\u001B[0m \u001B[0mself\u001B[0m\u001B[0;34m.\u001B[0m\u001B[0mset_dataset\u001B[0m\u001B[0;34m(\u001B[0m\u001B[0;34m)\u001B[0m\u001B[0;34m\u001B[0m\u001B[0;34m\u001B[0m\u001B[0m\n\u001B[0m\u001B[1;32m     33\u001B[0m \u001B[0;34m\u001B[0m\u001B[0m\n\u001B[1;32m     34\u001B[0m         \u001B[0mself\u001B[0m\u001B[0;34m.\u001B[0m\u001B[0mmm_vae\u001B[0m \u001B[0;34m=\u001B[0m \u001B[0mself\u001B[0m\u001B[0;34m.\u001B[0m\u001B[0mset_model\u001B[0m\u001B[0;34m(\u001B[0m\u001B[0;34m)\u001B[0m\u001B[0;34m\u001B[0m\u001B[0;34m\u001B[0m\u001B[0m\n",
      "\u001B[0;32m~/Documents/master_4/MMVAE_Hub/mmvae_hub/polymnist/experiment.py\u001B[0m in \u001B[0;36mset_dataset\u001B[0;34m(self)\u001B[0m\n\u001B[1;32m     53\u001B[0m             \u001B[0mtest\u001B[0m \u001B[0;34m=\u001B[0m \u001B[0mToyPolymnistDataset\u001B[0m\u001B[0;34m(\u001B[0m\u001B[0mnum_modalities\u001B[0m\u001B[0;34m=\u001B[0m\u001B[0mself\u001B[0m\u001B[0;34m.\u001B[0m\u001B[0mnum_modalities\u001B[0m\u001B[0;34m,\u001B[0m \u001B[0mseed\u001B[0m\u001B[0;34m=\u001B[0m\u001B[0mself\u001B[0m\u001B[0;34m.\u001B[0m\u001B[0mflags\u001B[0m\u001B[0;34m.\u001B[0m\u001B[0mseed\u001B[0m\u001B[0;34m)\u001B[0m\u001B[0;34m\u001B[0m\u001B[0;34m\u001B[0m\u001B[0m\n\u001B[1;32m     54\u001B[0m         \u001B[0;32melse\u001B[0m\u001B[0;34m:\u001B[0m\u001B[0;34m\u001B[0m\u001B[0;34m\u001B[0m\u001B[0m\n\u001B[0;32m---> 55\u001B[0;31m             train = PolymnistDataset(Path(self.flags.dir_data) / 'train', transform=transform,\n\u001B[0m\u001B[1;32m     56\u001B[0m                                      num_modalities=self.num_modalities)\n\u001B[1;32m     57\u001B[0m             test = PolymnistDataset(Path(self.flags.dir_data) / 'train', transform=transform,\n",
      "\u001B[0;32m~/Documents/master_4/MMVAE_Hub/mmvae_hub/polymnist/PolymnistDataset.py\u001B[0m in \u001B[0;36m__init__\u001B[0;34m(self, dir_data, transform, target_transform, num_modalities)\u001B[0m\n\u001B[1;32m     30\u001B[0m         \u001B[0;32mif\u001B[0m \u001B[0;32mnot\u001B[0m \u001B[0mdir_data\u001B[0m\u001B[0;34m.\u001B[0m\u001B[0mexists\u001B[0m\u001B[0;34m(\u001B[0m\u001B[0;34m)\u001B[0m\u001B[0;34m:\u001B[0m\u001B[0;34m\u001B[0m\u001B[0;34m\u001B[0m\u001B[0m\n\u001B[1;32m     31\u001B[0m             \u001B[0mlog\u001B[0m\u001B[0;34m.\u001B[0m\u001B[0minfo\u001B[0m\u001B[0;34m(\u001B[0m\u001B[0;34mf'data dir {dir_data} does not exist. Creating PolyMNIST dataset. This may take a while...'\u001B[0m\u001B[0;34m)\u001B[0m\u001B[0;34m\u001B[0m\u001B[0;34m\u001B[0m\u001B[0m\n\u001B[0;32m---> 32\u001B[0;31m             self.create_polymnist_dataset((dir_data / 'train'), Path(__file__).parent / 'polymnist_background_images',\n\u001B[0m\u001B[1;32m     33\u001B[0m                                           num_modalities, train=True)\n\u001B[1;32m     34\u001B[0m             self.create_polymnist_dataset((dir_data / 'test'), Path(__file__).parent / 'polymnist_background_images',\n",
      "\u001B[0;32m~/Documents/master_4/MMVAE_Hub/mmvae_hub/polymnist/PolymnistDataset.py\u001B[0m in \u001B[0;36mcreate_polymnist_dataset\u001B[0;34m(savepath, backgroundimagepath, num_modalities, train)\u001B[0m\n\u001B[1;32m     68\u001B[0m \u001B[0;34m\u001B[0m\u001B[0m\n\u001B[1;32m     69\u001B[0m         \u001B[0;31m# load MNIST data\u001B[0m\u001B[0;34m\u001B[0m\u001B[0;34m\u001B[0m\u001B[0;34m\u001B[0m\u001B[0m\n\u001B[0;32m---> 70\u001B[0;31m         \u001B[0mmnist\u001B[0m \u001B[0;34m=\u001B[0m \u001B[0mdatasets\u001B[0m\u001B[0;34m.\u001B[0m\u001B[0mMNIST\u001B[0m\u001B[0;34m(\u001B[0m\u001B[0;34m\"/tmp\"\u001B[0m\u001B[0;34m,\u001B[0m \u001B[0mtrain\u001B[0m\u001B[0;34m=\u001B[0m\u001B[0mtrain\u001B[0m\u001B[0;34m,\u001B[0m \u001B[0mdownload\u001B[0m\u001B[0;34m=\u001B[0m\u001B[0;32mTrue\u001B[0m\u001B[0;34m,\u001B[0m \u001B[0mtransform\u001B[0m\u001B[0;34m=\u001B[0m\u001B[0;32mNone\u001B[0m\u001B[0;34m)\u001B[0m\u001B[0;34m\u001B[0m\u001B[0;34m\u001B[0m\u001B[0m\n\u001B[0m\u001B[1;32m     71\u001B[0m \u001B[0;34m\u001B[0m\u001B[0m\n\u001B[1;32m     72\u001B[0m         \u001B[0;31m# load background images\u001B[0m\u001B[0;34m\u001B[0m\u001B[0;34m\u001B[0m\u001B[0;34m\u001B[0m\u001B[0m\n",
      "\u001B[0;32m~/opt/anaconda3/envs/mmvae/lib/python3.9/site-packages/torchvision/datasets/mnist.py\u001B[0m in \u001B[0;36m__init__\u001B[0;34m(self, root, train, transform, target_transform, download)\u001B[0m\n\u001B[1;32m     83\u001B[0m \u001B[0;34m\u001B[0m\u001B[0m\n\u001B[1;32m     84\u001B[0m         \u001B[0;32mif\u001B[0m \u001B[0mdownload\u001B[0m\u001B[0;34m:\u001B[0m\u001B[0;34m\u001B[0m\u001B[0;34m\u001B[0m\u001B[0m\n\u001B[0;32m---> 85\u001B[0;31m             \u001B[0mself\u001B[0m\u001B[0;34m.\u001B[0m\u001B[0mdownload\u001B[0m\u001B[0;34m(\u001B[0m\u001B[0;34m)\u001B[0m\u001B[0;34m\u001B[0m\u001B[0;34m\u001B[0m\u001B[0m\n\u001B[0m\u001B[1;32m     86\u001B[0m \u001B[0;34m\u001B[0m\u001B[0m\n\u001B[1;32m     87\u001B[0m         \u001B[0;32mif\u001B[0m \u001B[0;32mnot\u001B[0m \u001B[0mself\u001B[0m\u001B[0;34m.\u001B[0m\u001B[0m_check_exists\u001B[0m\u001B[0;34m(\u001B[0m\u001B[0;34m)\u001B[0m\u001B[0;34m:\u001B[0m\u001B[0;34m\u001B[0m\u001B[0;34m\u001B[0m\u001B[0m\n",
      "\u001B[0;32m~/opt/anaconda3/envs/mmvae/lib/python3.9/site-packages/torchvision/datasets/mnist.py\u001B[0m in \u001B[0;36mdownload\u001B[0;34m(self)\u001B[0m\n\u001B[1;32m    153\u001B[0m                 \u001B[0;32mtry\u001B[0m\u001B[0;34m:\u001B[0m\u001B[0;34m\u001B[0m\u001B[0;34m\u001B[0m\u001B[0m\n\u001B[1;32m    154\u001B[0m                     \u001B[0mprint\u001B[0m\u001B[0;34m(\u001B[0m\u001B[0;34m\"Downloading {}\"\u001B[0m\u001B[0;34m.\u001B[0m\u001B[0mformat\u001B[0m\u001B[0;34m(\u001B[0m\u001B[0murl\u001B[0m\u001B[0;34m)\u001B[0m\u001B[0;34m)\u001B[0m\u001B[0;34m\u001B[0m\u001B[0;34m\u001B[0m\u001B[0m\n\u001B[0;32m--> 155\u001B[0;31m                     download_and_extract_archive(\n\u001B[0m\u001B[1;32m    156\u001B[0m                         \u001B[0murl\u001B[0m\u001B[0;34m,\u001B[0m \u001B[0mdownload_root\u001B[0m\u001B[0;34m=\u001B[0m\u001B[0mself\u001B[0m\u001B[0;34m.\u001B[0m\u001B[0mraw_folder\u001B[0m\u001B[0;34m,\u001B[0m\u001B[0;34m\u001B[0m\u001B[0;34m\u001B[0m\u001B[0m\n\u001B[1;32m    157\u001B[0m                         \u001B[0mfilename\u001B[0m\u001B[0;34m=\u001B[0m\u001B[0mfilename\u001B[0m\u001B[0;34m,\u001B[0m\u001B[0;34m\u001B[0m\u001B[0;34m\u001B[0m\u001B[0m\n",
      "\u001B[0;32m~/opt/anaconda3/envs/mmvae/lib/python3.9/site-packages/torchvision/datasets/utils.py\u001B[0m in \u001B[0;36mdownload_and_extract_archive\u001B[0;34m(url, download_root, extract_root, filename, md5, remove_finished)\u001B[0m\n\u001B[1;32m    314\u001B[0m         \u001B[0mfilename\u001B[0m \u001B[0;34m=\u001B[0m \u001B[0mos\u001B[0m\u001B[0;34m.\u001B[0m\u001B[0mpath\u001B[0m\u001B[0;34m.\u001B[0m\u001B[0mbasename\u001B[0m\u001B[0;34m(\u001B[0m\u001B[0murl\u001B[0m\u001B[0;34m)\u001B[0m\u001B[0;34m\u001B[0m\u001B[0;34m\u001B[0m\u001B[0m\n\u001B[1;32m    315\u001B[0m \u001B[0;34m\u001B[0m\u001B[0m\n\u001B[0;32m--> 316\u001B[0;31m     \u001B[0mdownload_url\u001B[0m\u001B[0;34m(\u001B[0m\u001B[0murl\u001B[0m\u001B[0;34m,\u001B[0m \u001B[0mdownload_root\u001B[0m\u001B[0;34m,\u001B[0m \u001B[0mfilename\u001B[0m\u001B[0;34m,\u001B[0m \u001B[0mmd5\u001B[0m\u001B[0;34m)\u001B[0m\u001B[0;34m\u001B[0m\u001B[0;34m\u001B[0m\u001B[0m\n\u001B[0m\u001B[1;32m    317\u001B[0m \u001B[0;34m\u001B[0m\u001B[0m\n\u001B[1;32m    318\u001B[0m     \u001B[0marchive\u001B[0m \u001B[0;34m=\u001B[0m \u001B[0mos\u001B[0m\u001B[0;34m.\u001B[0m\u001B[0mpath\u001B[0m\u001B[0;34m.\u001B[0m\u001B[0mjoin\u001B[0m\u001B[0;34m(\u001B[0m\u001B[0mdownload_root\u001B[0m\u001B[0;34m,\u001B[0m \u001B[0mfilename\u001B[0m\u001B[0;34m)\u001B[0m\u001B[0;34m\u001B[0m\u001B[0;34m\u001B[0m\u001B[0m\n",
      "\u001B[0;32m~/opt/anaconda3/envs/mmvae/lib/python3.9/site-packages/torchvision/datasets/utils.py\u001B[0m in \u001B[0;36mdownload_url\u001B[0;34m(url, root, filename, md5, max_redirect_hops)\u001B[0m\n\u001B[1;32m    132\u001B[0m     \u001B[0;32mtry\u001B[0m\u001B[0;34m:\u001B[0m\u001B[0;34m\u001B[0m\u001B[0;34m\u001B[0m\u001B[0m\n\u001B[1;32m    133\u001B[0m         \u001B[0mprint\u001B[0m\u001B[0;34m(\u001B[0m\u001B[0;34m'Downloading '\u001B[0m \u001B[0;34m+\u001B[0m \u001B[0murl\u001B[0m \u001B[0;34m+\u001B[0m \u001B[0;34m' to '\u001B[0m \u001B[0;34m+\u001B[0m \u001B[0mfpath\u001B[0m\u001B[0;34m)\u001B[0m\u001B[0;34m\u001B[0m\u001B[0;34m\u001B[0m\u001B[0m\n\u001B[0;32m--> 134\u001B[0;31m         \u001B[0m_urlretrieve\u001B[0m\u001B[0;34m(\u001B[0m\u001B[0murl\u001B[0m\u001B[0;34m,\u001B[0m \u001B[0mfpath\u001B[0m\u001B[0;34m)\u001B[0m\u001B[0;34m\u001B[0m\u001B[0;34m\u001B[0m\u001B[0m\n\u001B[0m\u001B[1;32m    135\u001B[0m     \u001B[0;32mexcept\u001B[0m \u001B[0;34m(\u001B[0m\u001B[0murllib\u001B[0m\u001B[0;34m.\u001B[0m\u001B[0merror\u001B[0m\u001B[0;34m.\u001B[0m\u001B[0mURLError\u001B[0m\u001B[0;34m,\u001B[0m \u001B[0mIOError\u001B[0m\u001B[0;34m)\u001B[0m \u001B[0;32mas\u001B[0m \u001B[0me\u001B[0m\u001B[0;34m:\u001B[0m  \u001B[0;31m# type: ignore[attr-defined]\u001B[0m\u001B[0;34m\u001B[0m\u001B[0;34m\u001B[0m\u001B[0m\n\u001B[1;32m    136\u001B[0m         \u001B[0;32mif\u001B[0m \u001B[0murl\u001B[0m\u001B[0;34m[\u001B[0m\u001B[0;34m:\u001B[0m\u001B[0;36m5\u001B[0m\u001B[0;34m]\u001B[0m \u001B[0;34m==\u001B[0m \u001B[0;34m'https'\u001B[0m\u001B[0;34m:\u001B[0m\u001B[0;34m\u001B[0m\u001B[0;34m\u001B[0m\u001B[0m\n",
      "\u001B[0;32m~/opt/anaconda3/envs/mmvae/lib/python3.9/site-packages/torchvision/datasets/utils.py\u001B[0m in \u001B[0;36m_urlretrieve\u001B[0;34m(url, filename, chunk_size)\u001B[0m\n\u001B[1;32m     28\u001B[0m     \u001B[0;32mwith\u001B[0m \u001B[0mopen\u001B[0m\u001B[0;34m(\u001B[0m\u001B[0mfilename\u001B[0m\u001B[0;34m,\u001B[0m \u001B[0;34m\"wb\"\u001B[0m\u001B[0;34m)\u001B[0m \u001B[0;32mas\u001B[0m \u001B[0mfh\u001B[0m\u001B[0;34m:\u001B[0m\u001B[0;34m\u001B[0m\u001B[0;34m\u001B[0m\u001B[0m\n\u001B[1;32m     29\u001B[0m         \u001B[0;32mwith\u001B[0m \u001B[0murllib\u001B[0m\u001B[0;34m.\u001B[0m\u001B[0mrequest\u001B[0m\u001B[0;34m.\u001B[0m\u001B[0murlopen\u001B[0m\u001B[0;34m(\u001B[0m\u001B[0murllib\u001B[0m\u001B[0;34m.\u001B[0m\u001B[0mrequest\u001B[0m\u001B[0;34m.\u001B[0m\u001B[0mRequest\u001B[0m\u001B[0;34m(\u001B[0m\u001B[0murl\u001B[0m\u001B[0;34m,\u001B[0m \u001B[0mheaders\u001B[0m\u001B[0;34m=\u001B[0m\u001B[0;34m{\u001B[0m\u001B[0;34m\"User-Agent\"\u001B[0m\u001B[0;34m:\u001B[0m \u001B[0mUSER_AGENT\u001B[0m\u001B[0;34m}\u001B[0m\u001B[0;34m)\u001B[0m\u001B[0;34m)\u001B[0m \u001B[0;32mas\u001B[0m \u001B[0mresponse\u001B[0m\u001B[0;34m:\u001B[0m\u001B[0;34m\u001B[0m\u001B[0;34m\u001B[0m\u001B[0m\n\u001B[0;32m---> 30\u001B[0;31m             \u001B[0;32mwith\u001B[0m \u001B[0mtqdm\u001B[0m\u001B[0;34m(\u001B[0m\u001B[0mtotal\u001B[0m\u001B[0;34m=\u001B[0m\u001B[0mresponse\u001B[0m\u001B[0;34m.\u001B[0m\u001B[0mlength\u001B[0m\u001B[0;34m)\u001B[0m \u001B[0;32mas\u001B[0m \u001B[0mpbar\u001B[0m\u001B[0;34m:\u001B[0m\u001B[0;34m\u001B[0m\u001B[0;34m\u001B[0m\u001B[0m\n\u001B[0m\u001B[1;32m     31\u001B[0m                 \u001B[0;32mfor\u001B[0m \u001B[0mchunk\u001B[0m \u001B[0;32min\u001B[0m \u001B[0miter\u001B[0m\u001B[0;34m(\u001B[0m\u001B[0;32mlambda\u001B[0m\u001B[0;34m:\u001B[0m \u001B[0mresponse\u001B[0m\u001B[0;34m.\u001B[0m\u001B[0mread\u001B[0m\u001B[0;34m(\u001B[0m\u001B[0mchunk_size\u001B[0m\u001B[0;34m)\u001B[0m\u001B[0;34m,\u001B[0m \u001B[0;34m\"\"\u001B[0m\u001B[0;34m)\u001B[0m\u001B[0;34m:\u001B[0m\u001B[0;34m\u001B[0m\u001B[0;34m\u001B[0m\u001B[0m\n\u001B[1;32m     32\u001B[0m                     \u001B[0;32mif\u001B[0m \u001B[0;32mnot\u001B[0m \u001B[0mchunk\u001B[0m\u001B[0;34m:\u001B[0m\u001B[0;34m\u001B[0m\u001B[0;34m\u001B[0m\u001B[0m\n",
      "\u001B[0;32m~/opt/anaconda3/envs/mmvae/lib/python3.9/site-packages/tqdm/notebook.py\u001B[0m in \u001B[0;36m__init__\u001B[0;34m(self, *args, **kwargs)\u001B[0m\n\u001B[1;32m    237\u001B[0m         \u001B[0munit_scale\u001B[0m \u001B[0;34m=\u001B[0m \u001B[0;36m1\u001B[0m \u001B[0;32mif\u001B[0m \u001B[0mself\u001B[0m\u001B[0;34m.\u001B[0m\u001B[0munit_scale\u001B[0m \u001B[0;32mis\u001B[0m \u001B[0;32mTrue\u001B[0m \u001B[0;32melse\u001B[0m \u001B[0mself\u001B[0m\u001B[0;34m.\u001B[0m\u001B[0munit_scale\u001B[0m \u001B[0;32mor\u001B[0m \u001B[0;36m1\u001B[0m\u001B[0;34m\u001B[0m\u001B[0;34m\u001B[0m\u001B[0m\n\u001B[1;32m    238\u001B[0m         \u001B[0mtotal\u001B[0m \u001B[0;34m=\u001B[0m \u001B[0mself\u001B[0m\u001B[0;34m.\u001B[0m\u001B[0mtotal\u001B[0m \u001B[0;34m*\u001B[0m \u001B[0munit_scale\u001B[0m \u001B[0;32mif\u001B[0m \u001B[0mself\u001B[0m\u001B[0;34m.\u001B[0m\u001B[0mtotal\u001B[0m \u001B[0;32melse\u001B[0m \u001B[0mself\u001B[0m\u001B[0;34m.\u001B[0m\u001B[0mtotal\u001B[0m\u001B[0;34m\u001B[0m\u001B[0;34m\u001B[0m\u001B[0m\n\u001B[0;32m--> 239\u001B[0;31m         \u001B[0mself\u001B[0m\u001B[0;34m.\u001B[0m\u001B[0mcontainer\u001B[0m \u001B[0;34m=\u001B[0m \u001B[0mself\u001B[0m\u001B[0;34m.\u001B[0m\u001B[0mstatus_printer\u001B[0m\u001B[0;34m(\u001B[0m\u001B[0mself\u001B[0m\u001B[0;34m.\u001B[0m\u001B[0mfp\u001B[0m\u001B[0;34m,\u001B[0m \u001B[0mtotal\u001B[0m\u001B[0;34m,\u001B[0m \u001B[0mself\u001B[0m\u001B[0;34m.\u001B[0m\u001B[0mdesc\u001B[0m\u001B[0;34m,\u001B[0m \u001B[0mself\u001B[0m\u001B[0;34m.\u001B[0m\u001B[0mncols\u001B[0m\u001B[0;34m)\u001B[0m\u001B[0;34m\u001B[0m\u001B[0;34m\u001B[0m\u001B[0m\n\u001B[0m\u001B[1;32m    240\u001B[0m         \u001B[0mself\u001B[0m\u001B[0;34m.\u001B[0m\u001B[0mcontainer\u001B[0m\u001B[0;34m.\u001B[0m\u001B[0mpbar\u001B[0m \u001B[0;34m=\u001B[0m \u001B[0mself\u001B[0m\u001B[0;34m\u001B[0m\u001B[0;34m\u001B[0m\u001B[0m\n\u001B[1;32m    241\u001B[0m         \u001B[0mself\u001B[0m\u001B[0;34m.\u001B[0m\u001B[0mdisplayed\u001B[0m \u001B[0;34m=\u001B[0m \u001B[0;32mFalse\u001B[0m\u001B[0;34m\u001B[0m\u001B[0;34m\u001B[0m\u001B[0m\n",
      "\u001B[0;32m~/opt/anaconda3/envs/mmvae/lib/python3.9/site-packages/tqdm/notebook.py\u001B[0m in \u001B[0;36mstatus_printer\u001B[0;34m(_, total, desc, ncols)\u001B[0m\n\u001B[1;32m    110\u001B[0m         \u001B[0;31m# Prepare IPython progress bar\u001B[0m\u001B[0;34m\u001B[0m\u001B[0;34m\u001B[0m\u001B[0;34m\u001B[0m\u001B[0m\n\u001B[1;32m    111\u001B[0m         \u001B[0;32mif\u001B[0m \u001B[0mIProgress\u001B[0m \u001B[0;32mis\u001B[0m \u001B[0;32mNone\u001B[0m\u001B[0;34m:\u001B[0m  \u001B[0;31m# #187 #451 #558 #872\u001B[0m\u001B[0;34m\u001B[0m\u001B[0;34m\u001B[0m\u001B[0m\n\u001B[0;32m--> 112\u001B[0;31m             raise ImportError(\n\u001B[0m\u001B[1;32m    113\u001B[0m                 \u001B[0;34m\"IProgress not found. Please update jupyter and ipywidgets.\"\u001B[0m\u001B[0;34m\u001B[0m\u001B[0;34m\u001B[0m\u001B[0m\n\u001B[1;32m    114\u001B[0m                 \u001B[0;34m\" See https://ipywidgets.readthedocs.io/en/stable\"\u001B[0m\u001B[0;34m\u001B[0m\u001B[0;34m\u001B[0m\u001B[0m\n",
      "\u001B[0;31mImportError\u001B[0m: IProgress not found. Please update jupyter and ipywidgets. See https://ipywidgets.readthedocs.io/en/stable/user_install.html"
     ]
    }
   ],
   "source": [
    "show_generated_figs(flags=dict2pyobject(experiment_flags))"
   ],
   "metadata": {
    "collapsed": false,
    "pycharm": {
     "name": "#%%\n"
    }
   }
  },
  {
   "cell_type": "code",
   "execution_count": null,
   "outputs": [],
   "source": [],
   "metadata": {
    "collapsed": false,
    "pycharm": {
     "name": "#%%\n"
    }
   }
  },
  {
   "cell_type": "code",
   "execution_count": null,
   "outputs": [],
   "source": [],
   "metadata": {
    "collapsed": false,
    "pycharm": {
     "name": "#%%\n"
    }
   }
  }
 ],
 "metadata": {
  "kernelspec": {
   "display_name": "Python 3",
   "language": "python",
   "name": "python3"
  },
  "language_info": {
   "codemirror_mode": {
    "name": "ipython",
    "version": 2
   },
   "file_extension": ".py",
   "mimetype": "text/x-python",
   "name": "python",
   "nbconvert_exporter": "python",
   "pygments_lexer": "ipython2",
   "version": "2.7.6"
  }
 },
 "nbformat": 4,
 "nbformat_minor": 0
}
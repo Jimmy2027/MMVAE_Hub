{
 "cells": [
  {
   "cell_type": "code",
   "execution_count": 1,
   "metadata": {
    "collapsed": true
   },
   "outputs": [
    {
     "name": "stderr",
     "output_type": "stream",
     "text": [
      "[17:19:03 CEST] Log file: /usr/local/var/logs/mmvae_hub/UTC-20210524-151903.log\n"
     ]
    }
   ],
   "source": [
    "from dataclasses import dataclass\n",
    "from pathlib import Path\n",
    "\n",
    "import pandas as pd\n",
    "\n",
    "from mmvae_hub.experiment_vis.utils import *\n",
    "from mmvae_hub.base.utils.MongoDB import MongoDatabase\n",
    "from mmvae_hub.base.utils.flags_utils import get_config_path, BaseFlagsSetup\n",
    "from mmvae_hub.base.utils.utils import dict2pyobject, json2dict"
   ]
  },
  {
   "cell_type": "code",
   "execution_count": 2,
   "outputs": [],
   "source": [
    "exp_db = MongoDatabase(training=False)\n",
    "experiments = exp_db.connect()"
   ],
   "metadata": {
    "collapsed": false,
    "pycharm": {
     "name": "#%%\n"
    }
   }
  },
  {
   "cell_type": "code",
   "execution_count": 3,
   "outputs": [
    {
     "name": "stdout",
     "output_type": "stream",
     "text": [
      "There are currently  45 experiments in the database.\n"
     ]
    }
   ],
   "source": [
    "print('There are currently ', experiments.count_documents({}), 'experiments in the database.')"
   ],
   "metadata": {
    "collapsed": false,
    "pycharm": {
     "name": "#%%\n"
    }
   }
  },
  {
   "cell_type": "code",
   "execution_count": 4,
   "outputs": [],
   "source": [
    "df = make_experiments_dataframe(experiments)"
   ],
   "metadata": {
    "collapsed": false,
    "pycharm": {
     "name": "#%%\n"
    }
   }
  },
  {
   "cell_type": "code",
   "execution_count": 10,
   "outputs": [
    {
     "data": {
      "text/plain": "   weighted_mixture      score            method end_epoch  class_dim  beta  \\\n2               0.0  17.147867        joint_elbo       619      512.0   2.5   \n1               1.0  15.753367  planar_mixture_5       469      512.0   1.0   \n0               1.0  14.164517  planar_mixture_5       489      512.0   1.0   \n4               1.0  12.212250  planar_mixture_5       539      512.0   2.5   \n3               1.0  11.179667  planar_mixture_5       459      512.0   2.5   \n\n                                                 _id  score_lr  score_gen  \\\n2    polymnist_joint_elbo_2021_05_23_12_09_30_507370  5.471367  11.676500   \n1  polymnist_planar_mixture_2021_05_23_12_10_02_9...  2.934167  12.819200   \n0  polymnist_planar_mixture_2021_05_23_12_10_03_0...  2.807067  11.357450   \n4  polymnist_planar_mixture_2021_05_23_12_10_31_0...  1.991600  10.220650   \n3  polymnist_planar_mixture_2021_05_23_12_10_31_4...  1.832900   9.346767   \n\n   score_prd    version                                    expvis_url  \n2        0.0  0.0.5-dev  https://ppb.hendrikklug.xyz/6f29c649ff03.pdf  \n1        0.0  0.0.5-dev  https://ppb.hendrikklug.xyz/e2fa2c7c7da1.pdf  \n0        0.0  0.0.5-dev  https://ppb.hendrikklug.xyz/57259190dc8c.pdf  \n4        0.0  0.0.5-dev  https://ppb.hendrikklug.xyz/9735fb5d581b.pdf  \n3        0.0  0.0.5-dev  https://ppb.hendrikklug.xyz/2b23461ce868.pdf  ",
      "text/html": "<div>\n<style scoped>\n    .dataframe tbody tr th:only-of-type {\n        vertical-align: middle;\n    }\n\n    .dataframe tbody tr th {\n        vertical-align: top;\n    }\n\n    .dataframe thead th {\n        text-align: right;\n    }\n</style>\n<table border=\"1\" class=\"dataframe\">\n  <thead>\n    <tr style=\"text-align: right;\">\n      <th></th>\n      <th>weighted_mixture</th>\n      <th>score</th>\n      <th>method</th>\n      <th>end_epoch</th>\n      <th>class_dim</th>\n      <th>beta</th>\n      <th>_id</th>\n      <th>score_lr</th>\n      <th>score_gen</th>\n      <th>score_prd</th>\n      <th>version</th>\n      <th>expvis_url</th>\n    </tr>\n  </thead>\n  <tbody>\n    <tr>\n      <th>2</th>\n      <td>0.0</td>\n      <td>17.147867</td>\n      <td>joint_elbo</td>\n      <td>619</td>\n      <td>512.0</td>\n      <td>2.5</td>\n      <td>polymnist_joint_elbo_2021_05_23_12_09_30_507370</td>\n      <td>5.471367</td>\n      <td>11.676500</td>\n      <td>0.0</td>\n      <td>0.0.5-dev</td>\n      <td>https://ppb.hendrikklug.xyz/6f29c649ff03.pdf</td>\n    </tr>\n    <tr>\n      <th>1</th>\n      <td>1.0</td>\n      <td>15.753367</td>\n      <td>planar_mixture_5</td>\n      <td>469</td>\n      <td>512.0</td>\n      <td>1.0</td>\n      <td>polymnist_planar_mixture_2021_05_23_12_10_02_9...</td>\n      <td>2.934167</td>\n      <td>12.819200</td>\n      <td>0.0</td>\n      <td>0.0.5-dev</td>\n      <td>https://ppb.hendrikklug.xyz/e2fa2c7c7da1.pdf</td>\n    </tr>\n    <tr>\n      <th>0</th>\n      <td>1.0</td>\n      <td>14.164517</td>\n      <td>planar_mixture_5</td>\n      <td>489</td>\n      <td>512.0</td>\n      <td>1.0</td>\n      <td>polymnist_planar_mixture_2021_05_23_12_10_03_0...</td>\n      <td>2.807067</td>\n      <td>11.357450</td>\n      <td>0.0</td>\n      <td>0.0.5-dev</td>\n      <td>https://ppb.hendrikklug.xyz/57259190dc8c.pdf</td>\n    </tr>\n    <tr>\n      <th>4</th>\n      <td>1.0</td>\n      <td>12.212250</td>\n      <td>planar_mixture_5</td>\n      <td>539</td>\n      <td>512.0</td>\n      <td>2.5</td>\n      <td>polymnist_planar_mixture_2021_05_23_12_10_31_0...</td>\n      <td>1.991600</td>\n      <td>10.220650</td>\n      <td>0.0</td>\n      <td>0.0.5-dev</td>\n      <td>https://ppb.hendrikklug.xyz/9735fb5d581b.pdf</td>\n    </tr>\n    <tr>\n      <th>3</th>\n      <td>1.0</td>\n      <td>11.179667</td>\n      <td>planar_mixture_5</td>\n      <td>459</td>\n      <td>512.0</td>\n      <td>2.5</td>\n      <td>polymnist_planar_mixture_2021_05_23_12_10_31_4...</td>\n      <td>1.832900</td>\n      <td>9.346767</td>\n      <td>0.0</td>\n      <td>0.0.5-dev</td>\n      <td>https://ppb.hendrikklug.xyz/2b23461ce868.pdf</td>\n    </tr>\n  </tbody>\n</table>\n</div>"
     },
     "execution_count": 10,
     "metadata": {},
     "output_type": "execute_result"
    }
   ],
   "source": [
    "show_cols = ['weighted_mixture','score', 'method', 'end_epoch', 'class_dim', 'beta', '_id', 'score_lr', 'score_gen','score_prd', 'version', 'expvis_url']\n",
    "df[show_cols].sort_values(by=['score'], ascending=False).head(10)"
   ],
   "metadata": {
    "collapsed": false,
    "pycharm": {
     "name": "#%%\n"
    }
   }
  },
  {
   "cell_type": "markdown",
   "source": [
    "# Explore all pfom experiments"
   ],
   "metadata": {
    "collapsed": false,
    "pycharm": {
     "name": "#%% md\n"
    }
   }
  },
  {
   "cell_type": "code",
   "execution_count": 13,
   "outputs": [
    {
     "data": {
      "text/plain": "Empty DataFrame\nColumns: [weighted_mixture, score, method, end_epoch, class_dim, beta, _id, score_lr, score_gen, score_prd, version, expvis_url]\nIndex: []",
      "text/html": "<div>\n<style scoped>\n    .dataframe tbody tr th:only-of-type {\n        vertical-align: middle;\n    }\n\n    .dataframe tbody tr th {\n        vertical-align: top;\n    }\n\n    .dataframe thead th {\n        text-align: right;\n    }\n</style>\n<table border=\"1\" class=\"dataframe\">\n  <thead>\n    <tr style=\"text-align: right;\">\n      <th></th>\n      <th>weighted_mixture</th>\n      <th>score</th>\n      <th>method</th>\n      <th>end_epoch</th>\n      <th>class_dim</th>\n      <th>beta</th>\n      <th>_id</th>\n      <th>score_lr</th>\n      <th>score_gen</th>\n      <th>score_prd</th>\n      <th>version</th>\n      <th>expvis_url</th>\n    </tr>\n  </thead>\n  <tbody>\n  </tbody>\n</table>\n</div>"
     },
     "execution_count": 13,
     "metadata": {},
     "output_type": "execute_result"
    }
   ],
   "source": [
    "df.loc[df['method'].str.startswith('pfom')][[*show_cols]].sort_values(by=['score'], ascending=False)"
   ],
   "metadata": {
    "collapsed": false,
    "pycharm": {
     "name": "#%%\n"
    }
   }
  },
  {
   "cell_type": "code",
   "execution_count": 16,
   "outputs": [
    {
     "data": {
      "text/plain": "'polymnist_planar_mixture_2021_05_23_12_10_02_979139'"
     },
     "execution_count": 16,
     "metadata": {},
     "output_type": "execute_result"
    }
   ],
   "source": [
    "df.loc[df['dir_experiment_run'].str.startswith('/cluster')][[*show_cols]].sort_values(by=['score'], ascending=False)\n",
    "\n",
    "df.loc[df['_id'].str.startswith('polymnist_planar_mixture_2021_05_23_12_10_02_9')]._id.item()"
   ],
   "metadata": {
    "collapsed": false,
    "pycharm": {
     "name": "#%%\n"
    }
   }
  },
  {
   "cell_type": "markdown",
   "source": [
    "# Generate samples with the model that has the highest score."
   ],
   "metadata": {
    "collapsed": false,
    "pycharm": {
     "name": "#%% md\n"
    }
   }
  },
  {
   "cell_type": "code",
   "execution_count": 8,
   "outputs": [
    {
     "name": "stdout",
     "output_type": "stream",
     "text": [
      "polymnist_joint_elbo_2021_05_23_12_09_30_507370\n"
     ]
    }
   ],
   "source": [
    "best_score_id = df[df.score == df.score.max()]._id.item()\n",
    "\n",
    "print(best_score_id)\n",
    "experiments_database = MongoDatabase(training=False, _id=best_score_id)\n",
    "experiment_dict = experiments_database.get_experiment_dict()\n",
    "config = json2dict(get_config_path())\n",
    "experiment_flags = experiment_dict['flags']\n",
    "\n",
    "flags = BaseFlagsSetup.set_paths_with_config(config, experiment_flags, is_dict=True)\n",
    "\n",
    "experiment_flags['use_clf'] = False\n",
    "experiment_flags['device'] = 'cpu'\n",
    "experiment_flags['weighted_mixture'] = False\n",
    "experiment_flags['save_figure'] = False\n",
    "\n"
   ],
   "metadata": {
    "collapsed": false,
    "pycharm": {
     "name": "#%%\n"
    }
   }
  },
  {
   "cell_type": "code",
   "execution_count": 9,
   "outputs": [
    {
     "ename": "AttributeError",
     "evalue": "can't set attribute",
     "output_type": "error",
     "traceback": [
      "\u001B[0;31m---------------------------------------------------------------------------\u001B[0m",
      "\u001B[0;31mAttributeError\u001B[0m                            Traceback (most recent call last)",
      "\u001B[0;32m<ipython-input-9-ad0ea0f6f5e2>\u001B[0m in \u001B[0;36m<module>\u001B[0;34m\u001B[0m\n\u001B[0;32m----> 1\u001B[0;31m \u001B[0mshow_generated_figs\u001B[0m\u001B[0;34m(\u001B[0m\u001B[0mflags\u001B[0m\u001B[0;34m=\u001B[0m\u001B[0mdict2pyobject\u001B[0m\u001B[0;34m(\u001B[0m\u001B[0mexperiment_flags\u001B[0m\u001B[0;34m)\u001B[0m\u001B[0;34m)\u001B[0m\u001B[0;34m\u001B[0m\u001B[0;34m\u001B[0m\u001B[0m\n\u001B[0m\u001B[1;32m      2\u001B[0m \u001B[0;34m\u001B[0m\u001B[0m\n",
      "\u001B[0;32m~/Documents/master_4/MMVAE_Hub/mmvae_hub/experiment_vis/utils.py\u001B[0m in \u001B[0;36mshow_generated_figs\u001B[0;34m(experiment_dir, flags)\u001B[0m\n\u001B[1;32m    221\u001B[0m     \u001B[0mflags_is_dict\u001B[0m \u001B[0;34m=\u001B[0m \u001B[0mtype\u001B[0m\u001B[0;34m(\u001B[0m\u001B[0mflags\u001B[0m\u001B[0;34m)\u001B[0m \u001B[0;34m==\u001B[0m \u001B[0mdict\u001B[0m\u001B[0;34m\u001B[0m\u001B[0;34m\u001B[0m\u001B[0m\n\u001B[1;32m    222\u001B[0m \u001B[0;34m\u001B[0m\u001B[0m\n\u001B[0;32m--> 223\u001B[0;31m     \u001B[0mflags\u001B[0m \u001B[0;34m=\u001B[0m \u001B[0mBaseFlagsSetup\u001B[0m\u001B[0;34m.\u001B[0m\u001B[0mset_paths_with_config\u001B[0m\u001B[0;34m(\u001B[0m\u001B[0mjson2dict\u001B[0m\u001B[0;34m(\u001B[0m\u001B[0mget_config_path\u001B[0m\u001B[0;34m(\u001B[0m\u001B[0;34m)\u001B[0m\u001B[0;34m)\u001B[0m\u001B[0;34m,\u001B[0m \u001B[0mflags\u001B[0m\u001B[0;34m,\u001B[0m \u001B[0mflags_is_dict\u001B[0m\u001B[0;34m)\u001B[0m\u001B[0;34m\u001B[0m\u001B[0;34m\u001B[0m\u001B[0m\n\u001B[0m\u001B[1;32m    224\u001B[0m \u001B[0;34m\u001B[0m\u001B[0m\n\u001B[1;32m    225\u001B[0m     \u001B[0;32mif\u001B[0m \u001B[0mflags_is_dict\u001B[0m\u001B[0;34m:\u001B[0m\u001B[0;34m\u001B[0m\u001B[0;34m\u001B[0m\u001B[0m\n",
      "\u001B[0;32m~/Documents/master_4/MMVAE_Hub/mmvae_hub/base/utils/flags_utils.py\u001B[0m in \u001B[0;36mset_paths_with_config\u001B[0;34m(config, flags, is_dict)\u001B[0m\n\u001B[1;32m    142\u001B[0m                     \u001B[0mflags\u001B[0m\u001B[0;34m[\u001B[0m\u001B[0mkey\u001B[0m\u001B[0;34m]\u001B[0m \u001B[0;34m=\u001B[0m \u001B[0mPath\u001B[0m\u001B[0;34m(\u001B[0m\u001B[0mconfig\u001B[0m\u001B[0;34m[\u001B[0m\u001B[0mkey\u001B[0m\u001B[0;34m]\u001B[0m\u001B[0;34m)\u001B[0m\u001B[0;34m.\u001B[0m\u001B[0mexpanduser\u001B[0m\u001B[0;34m(\u001B[0m\u001B[0;34m)\u001B[0m\u001B[0;34m\u001B[0m\u001B[0;34m\u001B[0m\u001B[0m\n\u001B[1;32m    143\u001B[0m                 \u001B[0;32melse\u001B[0m\u001B[0;34m:\u001B[0m\u001B[0;34m\u001B[0m\u001B[0;34m\u001B[0m\u001B[0m\n\u001B[0;32m--> 144\u001B[0;31m                     \u001B[0msetattr\u001B[0m\u001B[0;34m(\u001B[0m\u001B[0mflags\u001B[0m\u001B[0;34m,\u001B[0m \u001B[0mkey\u001B[0m\u001B[0;34m,\u001B[0m \u001B[0mPath\u001B[0m\u001B[0;34m(\u001B[0m\u001B[0mconfig\u001B[0m\u001B[0;34m[\u001B[0m\u001B[0mkey\u001B[0m\u001B[0;34m]\u001B[0m\u001B[0;34m)\u001B[0m\u001B[0;34m.\u001B[0m\u001B[0mexpanduser\u001B[0m\u001B[0;34m(\u001B[0m\u001B[0;34m)\u001B[0m\u001B[0;34m)\u001B[0m\u001B[0;34m\u001B[0m\u001B[0;34m\u001B[0m\u001B[0m\n\u001B[0m\u001B[1;32m    145\u001B[0m \u001B[0;34m\u001B[0m\u001B[0m\n\u001B[1;32m    146\u001B[0m         \u001B[0;32mreturn\u001B[0m \u001B[0mflags\u001B[0m\u001B[0;34m\u001B[0m\u001B[0;34m\u001B[0m\u001B[0m\n",
      "\u001B[0;31mAttributeError\u001B[0m: can't set attribute"
     ]
    }
   ],
   "source": [
    "show_generated_figs(flags=dict2pyobject(experiment_flags))"
   ],
   "metadata": {
    "collapsed": false,
    "pycharm": {
     "name": "#%%\n"
    }
   }
  },
  {
   "cell_type": "code",
   "execution_count": null,
   "outputs": [],
   "source": [],
   "metadata": {
    "collapsed": false,
    "pycharm": {
     "name": "#%%\n"
    }
   }
  },
  {
   "cell_type": "code",
   "execution_count": null,
   "outputs": [],
   "source": [],
   "metadata": {
    "collapsed": false,
    "pycharm": {
     "name": "#%%\n"
    }
   }
  }
 ],
 "metadata": {
  "kernelspec": {
   "display_name": "Python 3",
   "language": "python",
   "name": "python3"
  },
  "language_info": {
   "codemirror_mode": {
    "name": "ipython",
    "version": 2
   },
   "file_extension": ".py",
   "mimetype": "text/x-python",
   "name": "python",
   "nbconvert_exporter": "python",
   "pygments_lexer": "ipython2",
   "version": "2.7.6"
  }
 },
 "nbformat": 4,
 "nbformat_minor": 0
}
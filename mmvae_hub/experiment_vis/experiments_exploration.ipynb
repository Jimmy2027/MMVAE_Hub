{
 "cells": [
  {
   "cell_type": "code",
   "execution_count": 1,
   "metadata": {
    "collapsed": true
   },
   "outputs": [
    {
     "name": "stderr",
     "output_type": "stream",
     "text": [
      "[09:38:06 CEST] Log file: /usr/local/var/logs/mmvae_hub/UTC-20210521-073806.log\n"
     ]
    }
   ],
   "source": [
    "from dataclasses import dataclass\n",
    "from pathlib import Path\n",
    "\n",
    "import pandas as pd\n",
    "\n",
    "from mmvae_hub.experiment_vis.utils import *\n",
    "from mmvae_hub.base.utils.MongoDB import MongoDatabase\n",
    "from mmvae_hub.base.utils.flags_utils import get_config_path, BaseFlagsSetup\n",
    "from mmvae_hub.base.utils.utils import dict2pyobject, json2dict"
   ]
  },
  {
   "cell_type": "code",
   "execution_count": 2,
   "outputs": [],
   "source": [
    "exp_db = MongoDatabase(training=False)\n",
    "experiments = exp_db.connect()"
   ],
   "metadata": {
    "collapsed": false,
    "pycharm": {
     "name": "#%%\n"
    }
   }
  },
  {
   "cell_type": "code",
   "execution_count": 3,
   "outputs": [
    {
     "name": "stdout",
     "output_type": "stream",
     "text": [
      "There are currently  36 experiments in the database.\n"
     ]
    }
   ],
   "source": [
    "print('There are currently ', experiments.count_documents({}), 'experiments in the database.')"
   ],
   "metadata": {
    "collapsed": false,
    "pycharm": {
     "name": "#%%\n"
    }
   }
  },
  {
   "cell_type": "code",
   "execution_count": 4,
   "outputs": [],
   "source": [
    "df = make_experiments_dataframe(experiments)"
   ],
   "metadata": {
    "collapsed": false,
    "pycharm": {
     "name": "#%%\n"
    }
   }
  },
  {
   "cell_type": "code",
   "execution_count": 5,
   "outputs": [
    {
     "data": {
      "text/plain": "    weighted_mixture      score             method end_epoch  class_dim  beta  \\\n0                NaN  15.368883         joint_elbo       299       64.0   2.5   \n23               0.0  14.428333         joint_elbo        99      512.0   2.5   \n18               NaN  13.342450                moe       299      512.0   2.5   \n4                NaN  11.739267         joint_elbo       299       64.0   0.5   \n15               NaN  11.271117   planar_mixture_5       299      512.0   2.5   \n13               NaN  11.132117   planar_mixture_5       299      512.0   2.5   \n5                NaN  11.092400                moe       299      128.0   0.5   \n2                NaN   9.968633         joint_elbo       299       32.0   0.5   \n28               0.0   8.978700             pfom_0        99      512.0   2.5   \n3                NaN   7.705983                moe       299       64.0   0.5   \n1                NaN   6.143800                moe       299       32.0   0.5   \n24               1.0   5.207250   planar_mixture_5        99      512.0   2.5   \n25               0.0   5.049367   planar_mixture_5        99      512.0   2.5   \n22               NaN   4.762517  planar_mixture_16       299      512.0   2.5   \n27               0.0   4.737733   planar_mixture_5        99      512.0   2.5   \n26               0.0   4.667150   planar_mixture_5        99      512.0   2.5   \n21               NaN   4.504383  planar_mixture_16       299      512.0   2.5   \n20               NaN   4.313250   planar_mixture_0       299      512.0   2.5   \n19               NaN   4.200233   planar_mixture_5       299      512.0   2.5   \n30               0.0   2.845933             pfom_5        99      512.0   2.5   \n29               1.0   2.836100             pfom_5        99      512.0   2.5   \n8                NaN   0.771817                moe       299      512.0   2.5   \n11               NaN   0.749717                moe       299      512.0   2.5   \n14               NaN   0.736833   planar_mixture_0       299      512.0   2.5   \n16               NaN   0.714333   planar_mixture_0       299      512.0   2.5   \n17               NaN   0.714083   planar_mixture_0       299      512.0   2.5   \n12               NaN   0.627350   planar_mixture_5       299      512.0   2.5   \n10               NaN   0.218633   planar_mixture_0       299      128.0   2.5   \n7                NaN   0.218400   planar_mixture_0       299      512.0   2.5   \n9                NaN   0.208383   planar_mixture_0       299      512.0   2.5   \n6                NaN   0.208217   planar_mixture_0       299      512.0   2.5   \n\n                                                  _id  score_lr  score_gen  \\\n0     polymnist_joint_elbo_2021_05_04_09_21_34_487039  5.252283  10.116600   \n23    polymnist_joint_elbo_2021_05_19_10_59_36_964676  5.514483   8.913850   \n18           polymnist_moe_2021_05_16_08_11_11_173474  4.227050   9.115400   \n4     polymnist_joint_elbo_2021_05_08_05_21_05_683057  3.932350   7.806917   \n15  polymnist_planar_mixture_2021_05_13_15_20_43_7...  1.477533   9.793583   \n13  polymnist_planar_mixture_2021_05_12_11_38_58_1...  1.349800   9.782317   \n5            polymnist_moe_2021_05_09_01_46_10_858142  3.572933   7.519467   \n2     polymnist_joint_elbo_2021_05_06_12_59_58_785343  3.239317   6.729317   \n28          polymnist_pfom_2021_05_20_16_48_25_478210  1.766483   7.212217   \n3            polymnist_moe_2021_05_07_09_09_37_528857  2.489417   5.216567   \n1            polymnist_moe_2021_05_05_17_04_47_279351  1.717367   4.426433   \n24  polymnist_planar_mixture_2021_05_19_16_01_26_9...  1.160083   4.047167   \n25  polymnist_planar_mixture_2021_05_19_19_32_43_4...  1.105583   3.943783   \n22  polymnist_planar_mixture_2021_05_18_12_13_01_9...  0.719617   4.042900   \n27  polymnist_planar_mixture_2021_05_20_11_13_21_2...  1.078783   3.658950   \n26  polymnist_planar_mixture_2021_05_20_08_35_10_6...  1.085500   3.581650   \n21  polymnist_planar_mixture_2021_05_17_11_50_48_3...  0.778517   3.725867   \n20  polymnist_planar_mixture_2021_05_17_10_59_48_0...  0.818217   3.495033   \n19  polymnist_planar_mixture_2021_05_16_16_44_45_0...  0.818400   3.381833   \n30          polymnist_pfom_2021_05_20_20_27_06_214720  0.703383   2.142550   \n29          polymnist_pfom_2021_05_20_19_25_21_500572  0.699233   2.136867   \n8            polymnist_moe_2021_05_10_21_53_22_903726  0.185717   0.586100   \n11           polymnist_moe_2021_05_11_16_37_17_515090  0.168633   0.581083   \n14  polymnist_planar_mixture_2021_05_12_20_40_24_4...  0.113950   0.622883   \n16  polymnist_planar_mixture_2021_05_14_15_57_55_7...  0.106133   0.608200   \n17  polymnist_planar_mixture_2021_05_14_21_10_44_2...  0.107267   0.606817   \n12  polymnist_planar_mixture_2021_05_12_08_57_26_0...  0.103050   0.524300   \n10  polymnist_planar_mixture_2021_05_11_08_30_22_4...  0.112367   0.106267   \n7   polymnist_planar_mixture_2021_05_10_16_39_32_1...  0.112367   0.106033   \n9   polymnist_planar_mixture_2021_05_11_07_27_00_4...  0.102183   0.106200   \n6   polymnist_planar_mixture_2021_05_10_10_39_33_1...  0.102183   0.106033   \n\n    score_prd    version  \n0    0.000000        NaN  \n23   0.288514  0.0.4-dev  \n18   0.433640  0.0.3-dev  \n4    0.611546  0.0.1-dev  \n15   2.595059  0.0.2-dev  \n13   1.495992  0.0.2-dev  \n5    0.332367  0.0.1-dev  \n2    0.312330  0.0.1-dev  \n28   0.187531  0.0.5-dev  \n3    0.192170  0.0.1-dev  \n1    0.180041  0.0.1-dev  \n24   0.101693  0.0.4-dev  \n25   0.120988  0.0.4-dev  \n22   0.176274  0.0.3-dev  \n27   0.077034  0.0.5-dev  \n26   0.097270  0.0.4-dev  \n21   1.059376  0.0.3-dev  \n20   0.585658  0.0.3-dev  \n19   0.551729  0.0.3-dev  \n30   0.000000  0.0.5-dev  \n29   0.000000  0.0.5-dev  \n8    0.229577  0.0.2-dev  \n11   0.237771  0.0.2-dev  \n14   0.289370  0.0.2-dev  \n16   0.321916  0.0.2-dev  \n17   0.313426  0.0.3-dev  \n12   0.110393  0.0.2-dev  \n10   0.000000  0.0.2-dev  \n7    0.000032  0.0.2-dev  \n9    0.000000  0.0.2-dev  \n6    0.000000  0.0.2-dev  ",
      "text/html": "<div>\n<style scoped>\n    .dataframe tbody tr th:only-of-type {\n        vertical-align: middle;\n    }\n\n    .dataframe tbody tr th {\n        vertical-align: top;\n    }\n\n    .dataframe thead th {\n        text-align: right;\n    }\n</style>\n<table border=\"1\" class=\"dataframe\">\n  <thead>\n    <tr style=\"text-align: right;\">\n      <th></th>\n      <th>weighted_mixture</th>\n      <th>score</th>\n      <th>method</th>\n      <th>end_epoch</th>\n      <th>class_dim</th>\n      <th>beta</th>\n      <th>_id</th>\n      <th>score_lr</th>\n      <th>score_gen</th>\n      <th>score_prd</th>\n      <th>version</th>\n    </tr>\n  </thead>\n  <tbody>\n    <tr>\n      <th>0</th>\n      <td>NaN</td>\n      <td>15.368883</td>\n      <td>joint_elbo</td>\n      <td>299</td>\n      <td>64.0</td>\n      <td>2.5</td>\n      <td>polymnist_joint_elbo_2021_05_04_09_21_34_487039</td>\n      <td>5.252283</td>\n      <td>10.116600</td>\n      <td>0.000000</td>\n      <td>NaN</td>\n    </tr>\n    <tr>\n      <th>23</th>\n      <td>0.0</td>\n      <td>14.428333</td>\n      <td>joint_elbo</td>\n      <td>99</td>\n      <td>512.0</td>\n      <td>2.5</td>\n      <td>polymnist_joint_elbo_2021_05_19_10_59_36_964676</td>\n      <td>5.514483</td>\n      <td>8.913850</td>\n      <td>0.288514</td>\n      <td>0.0.4-dev</td>\n    </tr>\n    <tr>\n      <th>18</th>\n      <td>NaN</td>\n      <td>13.342450</td>\n      <td>moe</td>\n      <td>299</td>\n      <td>512.0</td>\n      <td>2.5</td>\n      <td>polymnist_moe_2021_05_16_08_11_11_173474</td>\n      <td>4.227050</td>\n      <td>9.115400</td>\n      <td>0.433640</td>\n      <td>0.0.3-dev</td>\n    </tr>\n    <tr>\n      <th>4</th>\n      <td>NaN</td>\n      <td>11.739267</td>\n      <td>joint_elbo</td>\n      <td>299</td>\n      <td>64.0</td>\n      <td>0.5</td>\n      <td>polymnist_joint_elbo_2021_05_08_05_21_05_683057</td>\n      <td>3.932350</td>\n      <td>7.806917</td>\n      <td>0.611546</td>\n      <td>0.0.1-dev</td>\n    </tr>\n    <tr>\n      <th>15</th>\n      <td>NaN</td>\n      <td>11.271117</td>\n      <td>planar_mixture_5</td>\n      <td>299</td>\n      <td>512.0</td>\n      <td>2.5</td>\n      <td>polymnist_planar_mixture_2021_05_13_15_20_43_7...</td>\n      <td>1.477533</td>\n      <td>9.793583</td>\n      <td>2.595059</td>\n      <td>0.0.2-dev</td>\n    </tr>\n    <tr>\n      <th>13</th>\n      <td>NaN</td>\n      <td>11.132117</td>\n      <td>planar_mixture_5</td>\n      <td>299</td>\n      <td>512.0</td>\n      <td>2.5</td>\n      <td>polymnist_planar_mixture_2021_05_12_11_38_58_1...</td>\n      <td>1.349800</td>\n      <td>9.782317</td>\n      <td>1.495992</td>\n      <td>0.0.2-dev</td>\n    </tr>\n    <tr>\n      <th>5</th>\n      <td>NaN</td>\n      <td>11.092400</td>\n      <td>moe</td>\n      <td>299</td>\n      <td>128.0</td>\n      <td>0.5</td>\n      <td>polymnist_moe_2021_05_09_01_46_10_858142</td>\n      <td>3.572933</td>\n      <td>7.519467</td>\n      <td>0.332367</td>\n      <td>0.0.1-dev</td>\n    </tr>\n    <tr>\n      <th>2</th>\n      <td>NaN</td>\n      <td>9.968633</td>\n      <td>joint_elbo</td>\n      <td>299</td>\n      <td>32.0</td>\n      <td>0.5</td>\n      <td>polymnist_joint_elbo_2021_05_06_12_59_58_785343</td>\n      <td>3.239317</td>\n      <td>6.729317</td>\n      <td>0.312330</td>\n      <td>0.0.1-dev</td>\n    </tr>\n    <tr>\n      <th>28</th>\n      <td>0.0</td>\n      <td>8.978700</td>\n      <td>pfom_0</td>\n      <td>99</td>\n      <td>512.0</td>\n      <td>2.5</td>\n      <td>polymnist_pfom_2021_05_20_16_48_25_478210</td>\n      <td>1.766483</td>\n      <td>7.212217</td>\n      <td>0.187531</td>\n      <td>0.0.5-dev</td>\n    </tr>\n    <tr>\n      <th>3</th>\n      <td>NaN</td>\n      <td>7.705983</td>\n      <td>moe</td>\n      <td>299</td>\n      <td>64.0</td>\n      <td>0.5</td>\n      <td>polymnist_moe_2021_05_07_09_09_37_528857</td>\n      <td>2.489417</td>\n      <td>5.216567</td>\n      <td>0.192170</td>\n      <td>0.0.1-dev</td>\n    </tr>\n    <tr>\n      <th>1</th>\n      <td>NaN</td>\n      <td>6.143800</td>\n      <td>moe</td>\n      <td>299</td>\n      <td>32.0</td>\n      <td>0.5</td>\n      <td>polymnist_moe_2021_05_05_17_04_47_279351</td>\n      <td>1.717367</td>\n      <td>4.426433</td>\n      <td>0.180041</td>\n      <td>0.0.1-dev</td>\n    </tr>\n    <tr>\n      <th>24</th>\n      <td>1.0</td>\n      <td>5.207250</td>\n      <td>planar_mixture_5</td>\n      <td>99</td>\n      <td>512.0</td>\n      <td>2.5</td>\n      <td>polymnist_planar_mixture_2021_05_19_16_01_26_9...</td>\n      <td>1.160083</td>\n      <td>4.047167</td>\n      <td>0.101693</td>\n      <td>0.0.4-dev</td>\n    </tr>\n    <tr>\n      <th>25</th>\n      <td>0.0</td>\n      <td>5.049367</td>\n      <td>planar_mixture_5</td>\n      <td>99</td>\n      <td>512.0</td>\n      <td>2.5</td>\n      <td>polymnist_planar_mixture_2021_05_19_19_32_43_4...</td>\n      <td>1.105583</td>\n      <td>3.943783</td>\n      <td>0.120988</td>\n      <td>0.0.4-dev</td>\n    </tr>\n    <tr>\n      <th>22</th>\n      <td>NaN</td>\n      <td>4.762517</td>\n      <td>planar_mixture_16</td>\n      <td>299</td>\n      <td>512.0</td>\n      <td>2.5</td>\n      <td>polymnist_planar_mixture_2021_05_18_12_13_01_9...</td>\n      <td>0.719617</td>\n      <td>4.042900</td>\n      <td>0.176274</td>\n      <td>0.0.3-dev</td>\n    </tr>\n    <tr>\n      <th>27</th>\n      <td>0.0</td>\n      <td>4.737733</td>\n      <td>planar_mixture_5</td>\n      <td>99</td>\n      <td>512.0</td>\n      <td>2.5</td>\n      <td>polymnist_planar_mixture_2021_05_20_11_13_21_2...</td>\n      <td>1.078783</td>\n      <td>3.658950</td>\n      <td>0.077034</td>\n      <td>0.0.5-dev</td>\n    </tr>\n    <tr>\n      <th>26</th>\n      <td>0.0</td>\n      <td>4.667150</td>\n      <td>planar_mixture_5</td>\n      <td>99</td>\n      <td>512.0</td>\n      <td>2.5</td>\n      <td>polymnist_planar_mixture_2021_05_20_08_35_10_6...</td>\n      <td>1.085500</td>\n      <td>3.581650</td>\n      <td>0.097270</td>\n      <td>0.0.4-dev</td>\n    </tr>\n    <tr>\n      <th>21</th>\n      <td>NaN</td>\n      <td>4.504383</td>\n      <td>planar_mixture_16</td>\n      <td>299</td>\n      <td>512.0</td>\n      <td>2.5</td>\n      <td>polymnist_planar_mixture_2021_05_17_11_50_48_3...</td>\n      <td>0.778517</td>\n      <td>3.725867</td>\n      <td>1.059376</td>\n      <td>0.0.3-dev</td>\n    </tr>\n    <tr>\n      <th>20</th>\n      <td>NaN</td>\n      <td>4.313250</td>\n      <td>planar_mixture_0</td>\n      <td>299</td>\n      <td>512.0</td>\n      <td>2.5</td>\n      <td>polymnist_planar_mixture_2021_05_17_10_59_48_0...</td>\n      <td>0.818217</td>\n      <td>3.495033</td>\n      <td>0.585658</td>\n      <td>0.0.3-dev</td>\n    </tr>\n    <tr>\n      <th>19</th>\n      <td>NaN</td>\n      <td>4.200233</td>\n      <td>planar_mixture_5</td>\n      <td>299</td>\n      <td>512.0</td>\n      <td>2.5</td>\n      <td>polymnist_planar_mixture_2021_05_16_16_44_45_0...</td>\n      <td>0.818400</td>\n      <td>3.381833</td>\n      <td>0.551729</td>\n      <td>0.0.3-dev</td>\n    </tr>\n    <tr>\n      <th>30</th>\n      <td>0.0</td>\n      <td>2.845933</td>\n      <td>pfom_5</td>\n      <td>99</td>\n      <td>512.0</td>\n      <td>2.5</td>\n      <td>polymnist_pfom_2021_05_20_20_27_06_214720</td>\n      <td>0.703383</td>\n      <td>2.142550</td>\n      <td>0.000000</td>\n      <td>0.0.5-dev</td>\n    </tr>\n    <tr>\n      <th>29</th>\n      <td>1.0</td>\n      <td>2.836100</td>\n      <td>pfom_5</td>\n      <td>99</td>\n      <td>512.0</td>\n      <td>2.5</td>\n      <td>polymnist_pfom_2021_05_20_19_25_21_500572</td>\n      <td>0.699233</td>\n      <td>2.136867</td>\n      <td>0.000000</td>\n      <td>0.0.5-dev</td>\n    </tr>\n    <tr>\n      <th>8</th>\n      <td>NaN</td>\n      <td>0.771817</td>\n      <td>moe</td>\n      <td>299</td>\n      <td>512.0</td>\n      <td>2.5</td>\n      <td>polymnist_moe_2021_05_10_21_53_22_903726</td>\n      <td>0.185717</td>\n      <td>0.586100</td>\n      <td>0.229577</td>\n      <td>0.0.2-dev</td>\n    </tr>\n    <tr>\n      <th>11</th>\n      <td>NaN</td>\n      <td>0.749717</td>\n      <td>moe</td>\n      <td>299</td>\n      <td>512.0</td>\n      <td>2.5</td>\n      <td>polymnist_moe_2021_05_11_16_37_17_515090</td>\n      <td>0.168633</td>\n      <td>0.581083</td>\n      <td>0.237771</td>\n      <td>0.0.2-dev</td>\n    </tr>\n    <tr>\n      <th>14</th>\n      <td>NaN</td>\n      <td>0.736833</td>\n      <td>planar_mixture_0</td>\n      <td>299</td>\n      <td>512.0</td>\n      <td>2.5</td>\n      <td>polymnist_planar_mixture_2021_05_12_20_40_24_4...</td>\n      <td>0.113950</td>\n      <td>0.622883</td>\n      <td>0.289370</td>\n      <td>0.0.2-dev</td>\n    </tr>\n    <tr>\n      <th>16</th>\n      <td>NaN</td>\n      <td>0.714333</td>\n      <td>planar_mixture_0</td>\n      <td>299</td>\n      <td>512.0</td>\n      <td>2.5</td>\n      <td>polymnist_planar_mixture_2021_05_14_15_57_55_7...</td>\n      <td>0.106133</td>\n      <td>0.608200</td>\n      <td>0.321916</td>\n      <td>0.0.2-dev</td>\n    </tr>\n    <tr>\n      <th>17</th>\n      <td>NaN</td>\n      <td>0.714083</td>\n      <td>planar_mixture_0</td>\n      <td>299</td>\n      <td>512.0</td>\n      <td>2.5</td>\n      <td>polymnist_planar_mixture_2021_05_14_21_10_44_2...</td>\n      <td>0.107267</td>\n      <td>0.606817</td>\n      <td>0.313426</td>\n      <td>0.0.3-dev</td>\n    </tr>\n    <tr>\n      <th>12</th>\n      <td>NaN</td>\n      <td>0.627350</td>\n      <td>planar_mixture_5</td>\n      <td>299</td>\n      <td>512.0</td>\n      <td>2.5</td>\n      <td>polymnist_planar_mixture_2021_05_12_08_57_26_0...</td>\n      <td>0.103050</td>\n      <td>0.524300</td>\n      <td>0.110393</td>\n      <td>0.0.2-dev</td>\n    </tr>\n    <tr>\n      <th>10</th>\n      <td>NaN</td>\n      <td>0.218633</td>\n      <td>planar_mixture_0</td>\n      <td>299</td>\n      <td>128.0</td>\n      <td>2.5</td>\n      <td>polymnist_planar_mixture_2021_05_11_08_30_22_4...</td>\n      <td>0.112367</td>\n      <td>0.106267</td>\n      <td>0.000000</td>\n      <td>0.0.2-dev</td>\n    </tr>\n    <tr>\n      <th>7</th>\n      <td>NaN</td>\n      <td>0.218400</td>\n      <td>planar_mixture_0</td>\n      <td>299</td>\n      <td>512.0</td>\n      <td>2.5</td>\n      <td>polymnist_planar_mixture_2021_05_10_16_39_32_1...</td>\n      <td>0.112367</td>\n      <td>0.106033</td>\n      <td>0.000032</td>\n      <td>0.0.2-dev</td>\n    </tr>\n    <tr>\n      <th>9</th>\n      <td>NaN</td>\n      <td>0.208383</td>\n      <td>planar_mixture_0</td>\n      <td>299</td>\n      <td>512.0</td>\n      <td>2.5</td>\n      <td>polymnist_planar_mixture_2021_05_11_07_27_00_4...</td>\n      <td>0.102183</td>\n      <td>0.106200</td>\n      <td>0.000000</td>\n      <td>0.0.2-dev</td>\n    </tr>\n    <tr>\n      <th>6</th>\n      <td>NaN</td>\n      <td>0.208217</td>\n      <td>planar_mixture_0</td>\n      <td>299</td>\n      <td>512.0</td>\n      <td>2.5</td>\n      <td>polymnist_planar_mixture_2021_05_10_10_39_33_1...</td>\n      <td>0.102183</td>\n      <td>0.106033</td>\n      <td>0.000000</td>\n      <td>0.0.2-dev</td>\n    </tr>\n  </tbody>\n</table>\n</div>"
     },
     "execution_count": 5,
     "metadata": {},
     "output_type": "execute_result"
    }
   ],
   "source": [
    "show_cols = ['weighted_mixture','score', 'method', 'end_epoch', 'class_dim', 'beta', '_id', 'score_lr', 'score_gen','score_prd', 'version']\n",
    "df[show_cols].sort_values(by=['score'], ascending=False)"
   ],
   "metadata": {
    "collapsed": false,
    "pycharm": {
     "name": "#%%\n"
    }
   }
  },
  {
   "cell_type": "markdown",
   "source": [
    "# Explore all pfom experiments"
   ],
   "metadata": {
    "collapsed": false,
    "pycharm": {
     "name": "#%% md\n"
    }
   }
  },
  {
   "cell_type": "code",
   "execution_count": 6,
   "outputs": [
    {
     "data": {
      "text/plain": "    weighted_mixture     score  method end_epoch  class_dim  beta  \\\n28               0.0  8.978700  pfom_0        99      512.0   2.5   \n29               1.0  2.836100  pfom_5        99      512.0   2.5   \n30               0.0  2.845933  pfom_5        99      512.0   2.5   \n\n                                          _id  score_lr  score_gen  score_prd  \\\n28  polymnist_pfom_2021_05_20_16_48_25_478210  1.766483   7.212217   0.187531   \n29  polymnist_pfom_2021_05_20_19_25_21_500572  0.699233   2.136867   0.000000   \n30  polymnist_pfom_2021_05_20_20_27_06_214720  0.703383   2.142550   0.000000   \n\n      version                                    expvis_url  \n28  0.0.5-dev  https://ppb.hendrikklug.xyz/9ba46d23db0a.pdf  \n29  0.0.5-dev  https://ppb.hendrikklug.xyz/ce456ef3a982.pdf  \n30  0.0.5-dev  https://ppb.hendrikklug.xyz/69e2e11db816.pdf  ",
      "text/html": "<div>\n<style scoped>\n    .dataframe tbody tr th:only-of-type {\n        vertical-align: middle;\n    }\n\n    .dataframe tbody tr th {\n        vertical-align: top;\n    }\n\n    .dataframe thead th {\n        text-align: right;\n    }\n</style>\n<table border=\"1\" class=\"dataframe\">\n  <thead>\n    <tr style=\"text-align: right;\">\n      <th></th>\n      <th>weighted_mixture</th>\n      <th>score</th>\n      <th>method</th>\n      <th>end_epoch</th>\n      <th>class_dim</th>\n      <th>beta</th>\n      <th>_id</th>\n      <th>score_lr</th>\n      <th>score_gen</th>\n      <th>score_prd</th>\n      <th>version</th>\n      <th>expvis_url</th>\n    </tr>\n  </thead>\n  <tbody>\n    <tr>\n      <th>28</th>\n      <td>0.0</td>\n      <td>8.978700</td>\n      <td>pfom_0</td>\n      <td>99</td>\n      <td>512.0</td>\n      <td>2.5</td>\n      <td>polymnist_pfom_2021_05_20_16_48_25_478210</td>\n      <td>1.766483</td>\n      <td>7.212217</td>\n      <td>0.187531</td>\n      <td>0.0.5-dev</td>\n      <td>https://ppb.hendrikklug.xyz/9ba46d23db0a.pdf</td>\n    </tr>\n    <tr>\n      <th>29</th>\n      <td>1.0</td>\n      <td>2.836100</td>\n      <td>pfom_5</td>\n      <td>99</td>\n      <td>512.0</td>\n      <td>2.5</td>\n      <td>polymnist_pfom_2021_05_20_19_25_21_500572</td>\n      <td>0.699233</td>\n      <td>2.136867</td>\n      <td>0.000000</td>\n      <td>0.0.5-dev</td>\n      <td>https://ppb.hendrikklug.xyz/ce456ef3a982.pdf</td>\n    </tr>\n    <tr>\n      <th>30</th>\n      <td>0.0</td>\n      <td>2.845933</td>\n      <td>pfom_5</td>\n      <td>99</td>\n      <td>512.0</td>\n      <td>2.5</td>\n      <td>polymnist_pfom_2021_05_20_20_27_06_214720</td>\n      <td>0.703383</td>\n      <td>2.142550</td>\n      <td>0.000000</td>\n      <td>0.0.5-dev</td>\n      <td>https://ppb.hendrikklug.xyz/69e2e11db816.pdf</td>\n    </tr>\n  </tbody>\n</table>\n</div>"
     },
     "execution_count": 6,
     "metadata": {},
     "output_type": "execute_result"
    }
   ],
   "source": [
    "df.loc[df['method'].str.startswith('pfom')][[*show_cols, 'expvis_url']]"
   ],
   "metadata": {
    "collapsed": false,
    "pycharm": {
     "name": "#%%\n"
    }
   }
  },
  {
   "cell_type": "markdown",
   "source": [
    "Generate samples with the model that has the highest score."
   ],
   "metadata": {
    "collapsed": false,
    "pycharm": {
     "name": "#%% md\n"
    }
   }
  },
  {
   "cell_type": "code",
   "execution_count": 7,
   "outputs": [
    {
     "name": "stdout",
     "output_type": "stream",
     "text": [
      "polymnist_joint_elbo_2021_05_04_09_21_34_487039\n"
     ]
    }
   ],
   "source": [
    "best_score_id = df[df.score == df.score.max()]._id.item()\n",
    "\n",
    "print(best_score_id)\n",
    "experiments_database = MongoDatabase(training=False, _id=best_score_id)\n",
    "experiment_dict = experiments_database.get_experiment_dict()\n",
    "config = json2dict(get_config_path())\n",
    "experiment_flags = experiment_dict['flags']\n",
    "\n",
    "flags = BaseFlagsSetup.set_paths_with_config(config, experiment_flags, is_dict=True)\n",
    "\n",
    "experiment_flags['use_clf'] = False\n",
    "experiment_flags['device'] = 'cpu'\n",
    "experiment_flags['weighted_mixture'] = False\n",
    "experiment_flags['save_figure'] = False\n",
    "\n"
   ],
   "metadata": {
    "collapsed": false,
    "pycharm": {
     "name": "#%%\n"
    }
   }
  },
  {
   "cell_type": "code",
   "execution_count": 8,
   "outputs": [
    {
     "ename": "UnboundLocalError",
     "evalue": "local variable 'dp' referenced before assignment",
     "output_type": "error",
     "traceback": [
      "\u001B[0;31m---------------------------------------------------------------------------\u001B[0m",
      "\u001B[0;31mUnboundLocalError\u001B[0m                         Traceback (most recent call last)",
      "\u001B[0;32m<ipython-input-8-ad0ea0f6f5e2>\u001B[0m in \u001B[0;36m<module>\u001B[0;34m\u001B[0m\n\u001B[0;32m----> 1\u001B[0;31m \u001B[0mshow_generated_figs\u001B[0m\u001B[0;34m(\u001B[0m\u001B[0mflags\u001B[0m\u001B[0;34m=\u001B[0m\u001B[0mdict2pyobject\u001B[0m\u001B[0;34m(\u001B[0m\u001B[0mexperiment_flags\u001B[0m\u001B[0;34m)\u001B[0m\u001B[0;34m)\u001B[0m\u001B[0;34m\u001B[0m\u001B[0;34m\u001B[0m\u001B[0m\n\u001B[0m\u001B[1;32m      2\u001B[0m \u001B[0;34m\u001B[0m\u001B[0m\n",
      "\u001B[0;32m~/Documents/master_4/MMVAE_Hub/mmvae_hub/experiment_vis/utils.py\u001B[0m in \u001B[0;36mshow_generated_figs\u001B[0;34m(experiment_dir, flags)\u001B[0m\n\u001B[1;32m    154\u001B[0m     \u001B[0;32mif\u001B[0m \u001B[0;32mnot\u001B[0m \u001B[0mhasattr\u001B[0m\u001B[0;34m(\u001B[0m\u001B[0mflags\u001B[0m\u001B[0;34m,\u001B[0m \u001B[0;34m'weighted_mixture'\u001B[0m\u001B[0;34m)\u001B[0m\u001B[0;34m:\u001B[0m\u001B[0;34m\u001B[0m\u001B[0;34m\u001B[0m\u001B[0m\n\u001B[1;32m    155\u001B[0m         \u001B[0mflags\u001B[0m\u001B[0;34m.\u001B[0m\u001B[0mweighted_mixture\u001B[0m \u001B[0;34m=\u001B[0m \u001B[0;32mFalse\u001B[0m\u001B[0;34m\u001B[0m\u001B[0;34m\u001B[0m\u001B[0m\n\u001B[0;32m--> 156\u001B[0;31m     \u001B[0mexp\u001B[0m \u001B[0;34m=\u001B[0m \u001B[0mget_experiment\u001B[0m\u001B[0;34m(\u001B[0m\u001B[0mflags\u001B[0m\u001B[0;34m)\u001B[0m\u001B[0;34m\u001B[0m\u001B[0;34m\u001B[0m\u001B[0m\n\u001B[0m\u001B[1;32m    157\u001B[0m \u001B[0;34m\u001B[0m\u001B[0m\n\u001B[1;32m    158\u001B[0m     \u001B[0;32mif\u001B[0m \u001B[0mexperiment_dir\u001B[0m \u001B[0;32mand\u001B[0m \u001B[0;34m(\u001B[0m\u001B[0mexperiment_dir\u001B[0m \u001B[0;34m/\u001B[0m \u001B[0;34m'checkpoints'\u001B[0m\u001B[0;34m)\u001B[0m\u001B[0;34m.\u001B[0m\u001B[0mexists\u001B[0m\u001B[0;34m(\u001B[0m\u001B[0;34m)\u001B[0m\u001B[0;34m:\u001B[0m\u001B[0;34m\u001B[0m\u001B[0;34m\u001B[0m\u001B[0m\n",
      "\u001B[0;32m~/Documents/master_4/MMVAE_Hub/mmvae_hub/base/utils/flags_utils.py\u001B[0m in \u001B[0;36mget_experiment\u001B[0;34m(flags)\u001B[0m\n\u001B[1;32m    148\u001B[0m \u001B[0;32mdef\u001B[0m \u001B[0mget_experiment\u001B[0m\u001B[0;34m(\u001B[0m\u001B[0mflags\u001B[0m\u001B[0;34m)\u001B[0m\u001B[0;34m:\u001B[0m\u001B[0;34m\u001B[0m\u001B[0;34m\u001B[0m\u001B[0m\n\u001B[1;32m    149\u001B[0m     \u001B[0;32mif\u001B[0m \u001B[0mPath\u001B[0m\u001B[0;34m(\u001B[0m\u001B[0mflags\u001B[0m\u001B[0;34m.\u001B[0m\u001B[0mdir_data\u001B[0m\u001B[0;34m)\u001B[0m\u001B[0;34m.\u001B[0m\u001B[0mname\u001B[0m \u001B[0;34m==\u001B[0m \u001B[0;34m'polymnist'\u001B[0m\u001B[0;34m:\u001B[0m\u001B[0;34m\u001B[0m\u001B[0;34m\u001B[0m\u001B[0m\n\u001B[0;32m--> 150\u001B[0;31m         \u001B[0;32mreturn\u001B[0m \u001B[0mPolymnistExperiment\u001B[0m\u001B[0;34m(\u001B[0m\u001B[0mflags\u001B[0m\u001B[0;34m)\u001B[0m\u001B[0;34m\u001B[0m\u001B[0;34m\u001B[0m\u001B[0m\n\u001B[0m\u001B[1;32m    151\u001B[0m     \u001B[0;32melif\u001B[0m \u001B[0mflags\u001B[0m\u001B[0;34m.\u001B[0m\u001B[0mdataset\u001B[0m \u001B[0;34m==\u001B[0m \u001B[0;34m'toy'\u001B[0m\u001B[0;34m:\u001B[0m\u001B[0;34m\u001B[0m\u001B[0;34m\u001B[0m\u001B[0m\n\u001B[1;32m    152\u001B[0m         \u001B[0;32mreturn\u001B[0m \u001B[0mPolymnistExperiment\u001B[0m\u001B[0;34m(\u001B[0m\u001B[0mflags\u001B[0m\u001B[0;34m)\u001B[0m\u001B[0;34m\u001B[0m\u001B[0;34m\u001B[0m\u001B[0m\n",
      "\u001B[0;32m~/Documents/master_4/MMVAE_Hub/mmvae_hub/polymnist/experiment.py\u001B[0m in \u001B[0;36m__init__\u001B[0;34m(self, flags)\u001B[0m\n\u001B[1;32m     30\u001B[0m         \u001B[0mself\u001B[0m\u001B[0;34m.\u001B[0m\u001B[0msubsets\u001B[0m \u001B[0;34m=\u001B[0m \u001B[0mself\u001B[0m\u001B[0;34m.\u001B[0m\u001B[0mset_subsets\u001B[0m\u001B[0;34m(\u001B[0m\u001B[0;34m)\u001B[0m\u001B[0;34m\u001B[0m\u001B[0;34m\u001B[0m\u001B[0m\n\u001B[1;32m     31\u001B[0m \u001B[0;34m\u001B[0m\u001B[0m\n\u001B[0;32m---> 32\u001B[0;31m         \u001B[0mself\u001B[0m\u001B[0;34m.\u001B[0m\u001B[0mdataset_train\u001B[0m\u001B[0;34m,\u001B[0m \u001B[0mself\u001B[0m\u001B[0;34m.\u001B[0m\u001B[0mdataset_test\u001B[0m \u001B[0;34m=\u001B[0m \u001B[0mself\u001B[0m\u001B[0;34m.\u001B[0m\u001B[0mset_dataset\u001B[0m\u001B[0;34m(\u001B[0m\u001B[0;34m)\u001B[0m\u001B[0;34m\u001B[0m\u001B[0;34m\u001B[0m\u001B[0m\n\u001B[0m\u001B[1;32m     33\u001B[0m \u001B[0;34m\u001B[0m\u001B[0m\n\u001B[1;32m     34\u001B[0m         \u001B[0mself\u001B[0m\u001B[0;34m.\u001B[0m\u001B[0mmm_vae\u001B[0m \u001B[0;34m=\u001B[0m \u001B[0mself\u001B[0m\u001B[0;34m.\u001B[0m\u001B[0mset_model\u001B[0m\u001B[0;34m(\u001B[0m\u001B[0;34m)\u001B[0m\u001B[0;34m\u001B[0m\u001B[0;34m\u001B[0m\u001B[0m\n",
      "\u001B[0;32m~/Documents/master_4/MMVAE_Hub/mmvae_hub/polymnist/experiment.py\u001B[0m in \u001B[0;36mset_dataset\u001B[0;34m(self)\u001B[0m\n\u001B[1;32m     53\u001B[0m             \u001B[0mtest\u001B[0m \u001B[0;34m=\u001B[0m \u001B[0mToyPolymnistDataset\u001B[0m\u001B[0;34m(\u001B[0m\u001B[0mnum_modalities\u001B[0m\u001B[0;34m=\u001B[0m\u001B[0mself\u001B[0m\u001B[0;34m.\u001B[0m\u001B[0mnum_modalities\u001B[0m\u001B[0;34m,\u001B[0m \u001B[0mseed\u001B[0m\u001B[0;34m=\u001B[0m\u001B[0mself\u001B[0m\u001B[0;34m.\u001B[0m\u001B[0mflags\u001B[0m\u001B[0;34m.\u001B[0m\u001B[0mseed\u001B[0m\u001B[0;34m)\u001B[0m\u001B[0;34m\u001B[0m\u001B[0;34m\u001B[0m\u001B[0m\n\u001B[1;32m     54\u001B[0m         \u001B[0;32melse\u001B[0m\u001B[0;34m:\u001B[0m\u001B[0;34m\u001B[0m\u001B[0;34m\u001B[0m\u001B[0m\n\u001B[0;32m---> 55\u001B[0;31m             train = PolymnistDataset(Path(self.flags.dir_data) / 'train', transform=transform,\n\u001B[0m\u001B[1;32m     56\u001B[0m                                      num_modalities=self.num_modalities)\n\u001B[1;32m     57\u001B[0m             test = PolymnistDataset(Path(self.flags.dir_data) / 'train', transform=transform,\n",
      "\u001B[0;32m~/Documents/master_4/MMVAE_Hub/mmvae_hub/polymnist/PolymnistDataset.py\u001B[0m in \u001B[0;36m__init__\u001B[0;34m(self, dir_data, transform, target_transform, num_modalities)\u001B[0m\n\u001B[1;32m     36\u001B[0m             \u001B[0mself\u001B[0m\u001B[0;34m.\u001B[0m\u001B[0mfile_paths\u001B[0m\u001B[0;34m[\u001B[0m\u001B[0mdp\u001B[0m\u001B[0;34m]\u001B[0m \u001B[0;34m=\u001B[0m \u001B[0mfiles\u001B[0m\u001B[0;34m\u001B[0m\u001B[0;34m\u001B[0m\u001B[0m\n\u001B[1;32m     37\u001B[0m         \u001B[0;31m# assert that each modality has the same number of images\u001B[0m\u001B[0;34m\u001B[0m\u001B[0;34m\u001B[0m\u001B[0;34m\u001B[0m\u001B[0m\n\u001B[0;32m---> 38\u001B[0;31m         \u001B[0mnum_files\u001B[0m \u001B[0;34m=\u001B[0m \u001B[0mlen\u001B[0m\u001B[0;34m(\u001B[0m\u001B[0mself\u001B[0m\u001B[0;34m.\u001B[0m\u001B[0mfile_paths\u001B[0m\u001B[0;34m[\u001B[0m\u001B[0mdp\u001B[0m\u001B[0;34m]\u001B[0m\u001B[0;34m)\u001B[0m\u001B[0;34m\u001B[0m\u001B[0;34m\u001B[0m\u001B[0m\n\u001B[0m\u001B[1;32m     39\u001B[0m         \u001B[0;32mfor\u001B[0m \u001B[0mfiles\u001B[0m \u001B[0;32min\u001B[0m \u001B[0mself\u001B[0m\u001B[0;34m.\u001B[0m\u001B[0mfile_paths\u001B[0m\u001B[0;34m.\u001B[0m\u001B[0mvalues\u001B[0m\u001B[0;34m(\u001B[0m\u001B[0;34m)\u001B[0m\u001B[0;34m:\u001B[0m\u001B[0;34m\u001B[0m\u001B[0;34m\u001B[0m\u001B[0m\n\u001B[1;32m     40\u001B[0m             \u001B[0;32massert\u001B[0m \u001B[0mlen\u001B[0m\u001B[0;34m(\u001B[0m\u001B[0mfiles\u001B[0m\u001B[0;34m)\u001B[0m \u001B[0;34m==\u001B[0m \u001B[0mnum_files\u001B[0m\u001B[0;34m\u001B[0m\u001B[0;34m\u001B[0m\u001B[0m\n",
      "\u001B[0;31mUnboundLocalError\u001B[0m: local variable 'dp' referenced before assignment"
     ]
    }
   ],
   "source": [
    "show_generated_figs(flags=dict2pyobject(experiment_flags))"
   ],
   "metadata": {
    "collapsed": false,
    "pycharm": {
     "name": "#%%\n"
    }
   }
  },
  {
   "cell_type": "code",
   "execution_count": null,
   "outputs": [],
   "source": [],
   "metadata": {
    "collapsed": false,
    "pycharm": {
     "name": "#%%\n"
    }
   }
  },
  {
   "cell_type": "code",
   "execution_count": null,
   "outputs": [],
   "source": [],
   "metadata": {
    "collapsed": false,
    "pycharm": {
     "name": "#%%\n"
    }
   }
  }
 ],
 "metadata": {
  "kernelspec": {
   "display_name": "Python 3",
   "language": "python",
   "name": "python3"
  },
  "language_info": {
   "codemirror_mode": {
    "name": "ipython",
    "version": 2
   },
   "file_extension": ".py",
   "mimetype": "text/x-python",
   "name": "python",
   "nbconvert_exporter": "python",
   "pygments_lexer": "ipython2",
   "version": "2.7.6"
  }
 },
 "nbformat": 4,
 "nbformat_minor": 0
}
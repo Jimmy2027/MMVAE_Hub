{
 "cells": [
  {
   "cell_type": "code",
   "execution_count": 134,
   "metadata": {
    "collapsed": true
   },
   "outputs": [],
   "source": [
    "from torch.distributions import MultivariateNormal\n",
    "import torch"
   ]
  },
  {
   "cell_type": "code",
   "execution_count": 135,
   "outputs": [],
   "source": [
    "class_dim = 512\n",
    "K = 10"
   ],
   "metadata": {
    "collapsed": false,
    "pycharm": {
     "name": "#%%\n"
    }
   }
  },
  {
   "cell_type": "code",
   "execution_count": 136,
   "outputs": [],
   "source": [
    "def reparameterize(mu, var):\n",
    "    \"\"\"\n",
    "    Samples z from a multivariate Gaussian with diagonal covariance matrix using the\n",
    "     reparameterization trick.\n",
    "    \"\"\"\n",
    "\n",
    "    std = var.sqrt()\n",
    "    eps = torch.FloatTensor(std.size()).normal_()\n",
    "    z = eps.mul(std).add_(mu)\n",
    "\n",
    "    return z\n",
    "\n",
    "def reparameterize_witheps(mu, var, eps):\n",
    "    std = var.sqrt()\n",
    "    z = eps.mul(std).add_(mu)\n",
    "    return z"
   ],
   "metadata": {
    "collapsed": false,
    "pycharm": {
     "name": "#%%\n"
    }
   }
  },
  {
   "cell_type": "code",
   "execution_count": 137,
   "outputs": [
    {
     "name": "stdout",
     "output_type": "stream",
     "text": [
      "torch.Size([512]) torch.Size([512])\n",
      "torch.Size([10, 512])\n",
      "unsorted_div:  tensor(848.6182)\n",
      "sorted_div:  tensor(0.)\n"
     ]
    }
   ],
   "source": [
    "eps_1 = MultivariateNormal(torch.zeros(class_dim),\n",
    "                                  torch.eye(class_dim)). \\\n",
    "            sample((K,)).reshape((K, class_dim))\n",
    "\n",
    "mu  = torch.zeros(class_dim)\n",
    "var = torch.ones(class_dim)\n",
    "\n",
    "print(mu.shape, var.shape)\n",
    "\n",
    "std_norm_samples = torch.cat([reparameterize(mu, var).unsqueeze(dim=0) for eps in  eps_1], dim = 0)\n",
    "std_norm_samples_sorted = torch.cat([reparameterize_witheps(mu, var, eps).unsqueeze(dim=0) for eps in  eps_1], dim = 0)\n",
    "\n",
    "print(std_norm_samples_sorted.shape)\n",
    "\n",
    "unsorted_div = torch.nn.functional.kl_div(eps_1, std_norm_samples, reduce=False, log_target=True).sum(-1).mean()\n",
    "sorted_div = torch.nn.functional.kl_div(eps_1, std_norm_samples_sorted, reduce=False, log_target=True).sum(-1).mean()\n",
    "\n",
    "print('unsorted_div: ',unsorted_div)\n",
    "print('sorted_div: ',sorted_div)"
   ],
   "metadata": {
    "collapsed": false,
    "pycharm": {
     "name": "#%%\n"
    }
   }
  },
  {
   "cell_type": "code",
   "execution_count": 138,
   "outputs": [
    {
     "name": "stdout",
     "output_type": "stream",
     "text": [
      "tensor(240.3409)\n"
     ]
    }
   ],
   "source": [
    "mu = torch.rand(class_dim)\n",
    "var = torch.rand(class_dim)\n",
    "logvar = var.log()\n",
    "KLD = -0.5 * torch.sum(1 - var - mu.pow(2) + logvar)\n",
    "print(KLD)"
   ],
   "metadata": {
    "collapsed": false,
    "pycharm": {
     "name": "#%%\n"
    }
   }
  },
  {
   "cell_type": "code",
   "execution_count": 139,
   "outputs": [],
   "source": [
    "unsorted_samples = torch.cat([reparameterize(mu, var).unsqueeze(dim=0) for eps in  eps_1], dim = 0)"
   ],
   "metadata": {
    "collapsed": false,
    "pycharm": {
     "name": "#%%\n"
    }
   }
  },
  {
   "cell_type": "code",
   "execution_count": 140,
   "outputs": [
    {
     "name": "stdout",
     "output_type": "stream",
     "text": [
      "tensor(1369.1810)\n"
     ]
    }
   ],
   "source": [
    "unsorted_div = torch.nn.functional.kl_div(eps_1, unsorted_samples, reduce=False, log_target=True).sum(-1).mean()\n",
    "print(unsorted_div)"
   ],
   "metadata": {
    "collapsed": false,
    "pycharm": {
     "name": "#%%\n"
    }
   }
  },
  {
   "cell_type": "code",
   "execution_count": 141,
   "outputs": [
    {
     "name": "stdout",
     "output_type": "stream",
     "text": [
      "tensor(519.1244)\n"
     ]
    }
   ],
   "source": [
    "sorted_samples = torch.cat([reparameterize_witheps(mu, var, eps).unsqueeze(dim=0) for eps in  eps_1], dim = 0)\n",
    "\n",
    "\n",
    "sorted_sampled_div = torch.nn.functional.kl_div(eps_1, sorted_samples, reduce=False, log_target=True).sum(-1).mean()\n",
    "print(sorted_sampled_div)"
   ],
   "metadata": {
    "collapsed": false,
    "pycharm": {
     "name": "#%%\n"
    }
   }
  },
  {
   "cell_type": "code",
   "execution_count": 141,
   "outputs": [],
   "source": [],
   "metadata": {
    "collapsed": false,
    "pycharm": {
     "name": "#%%\n"
    }
   }
  }
 ],
 "metadata": {
  "kernelspec": {
   "display_name": "Python 3",
   "language": "python",
   "name": "python3"
  },
  "language_info": {
   "codemirror_mode": {
    "name": "ipython",
    "version": 2
   },
   "file_extension": ".py",
   "mimetype": "text/x-python",
   "name": "python",
   "nbconvert_exporter": "python",
   "pygments_lexer": "ipython2",
   "version": "2.7.6"
  }
 },
 "nbformat": 4,
 "nbformat_minor": 0
}
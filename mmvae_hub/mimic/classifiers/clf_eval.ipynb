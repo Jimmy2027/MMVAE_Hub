{
 "cells": [
  {
   "cell_type": "code",
   "execution_count": null,
   "outputs": [],
   "source": [
    "from train_img_clfs import *"
   ],
   "metadata": {
    "collapsed": false,
    "pycharm": {
     "name": "#%%\n"
    }
   }
  },
  {
   "cell_type": "code",
   "execution_count": null,
   "outputs": [],
   "source": [
    "def eval(modality:str, img_size:int):\n",
    "    eval_ds = MimicIMG(modality=modality, split='eval', img_size=img_size, transform=False, undersample_dataset=False)\n",
    "    eval_loader = DataLoader(eval_ds, batch_size=BATCH_SIZE, shuffle=False, num_workers=DL_WORKERS)\n",
    "\n",
    "    lightning_module = LM(str_labels=eval_ds.str_labels)\n",
    "    lightning_module.model.load_state_dict(torch.load(f'state_dicts/{modality}_clf_{img_size}.pth', map_location=DEVICE))\n",
    "\n",
    "    predictions, targets = [], []\n",
    "    lightning_module.model.eval()\n",
    "\n",
    "    with torch.no_grad():\n",
    "        for batch in eval_loader:\n",
    "            x, y = batch\n",
    "            x = x.to(DEVICE)\n",
    "            logits = lightning_module(x)\n",
    "            targets = torch.cat((targets, y.cpu()))\n",
    "            predictions = torch.cat((predictions, logits.cpu()))\n",
    "\n",
    "    for idx, label in enumerate(eval_ds.str_labels):\n",
    "        preds_label = predictions[:, idx]\n",
    "        y_label = targets[:, idx].int()\n",
    "        auroc_score = auroc(preds_label, y_label)\n",
    "        av_precision_score = average_precision(preds_label, y_label)\n",
    "        preds_thr = (preds_label > 0.5).int()\n",
    "        acc = accuracy_metric(preds_thr, y_label)\n",
    "        prec = precision(preds_thr, y_label)\n",
    "        rec = recall(preds_thr, y_label)\n",
    "        print(f'{label}_auroc', auroc_score)\n",
    "        print(f'{label}_avg_precision', av_precision_score)\n",
    "        print(f'{label}_val_acc', acc)\n",
    "        print(f'{label}_val_precision', prec)\n",
    "        print(f'{label}_val_recall', rec)\n",
    "        print(f'{label}_pred_pos', sum(preds_thr).item())\n",
    "        print(f'{label}_true_pos', sum(y_label).item())"
   ],
   "metadata": {
    "collapsed": false,
    "pycharm": {
     "name": "#%%\n"
    }
   }
  },
  {
   "cell_type": "code",
   "execution_count": null,
   "outputs": [],
   "source": [
    "eval('pa', 256)"
   ],
   "metadata": {
    "collapsed": false,
    "pycharm": {
     "name": "#%%\n"
    }
   }
  },
  {
   "cell_type": "code",
   "execution_count": null,
   "outputs": [],
   "source": [
    "eval('lat', 256)"
   ],
   "metadata": {
    "collapsed": false,
    "pycharm": {
     "name": "#%%\n"
    }
   }
  }
 ],
 "metadata": {
  "kernelspec": {
   "display_name": "Python 3",
   "language": "python",
   "name": "python3"
  },
  "language_info": {
   "codemirror_mode": {
    "name": "ipython",
    "version": 2
   },
   "file_extension": ".py",
   "mimetype": "text/x-python",
   "name": "python",
   "nbconvert_exporter": "python",
   "pygments_lexer": "ipython2",
   "version": "2.7.6"
  }
 },
 "nbformat": 4,
 "nbformat_minor": 0
}